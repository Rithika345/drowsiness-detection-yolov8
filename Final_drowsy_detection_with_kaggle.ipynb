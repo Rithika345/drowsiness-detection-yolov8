{
  "nbformat": 4,
  "nbformat_minor": 0,
  "metadata": {
    "colab": {
      "provenance": []
    },
    "kernelspec": {
      "name": "python3",
      "display_name": "Python 3"
    },
    "language_info": {
      "name": "python"
    }
  },
  "cells": [
    {
      "cell_type": "code",
      "execution_count": 1,
      "metadata": {
        "colab": {
          "base_uri": "https://localhost:8080/"
        },
        "id": "sxiiETa_4sqz",
        "outputId": "138a2263-9261-46a1-f38d-27c37fc97222"
      },
      "outputs": [
        {
          "output_type": "stream",
          "name": "stdout",
          "text": [
            "Downloading from https://www.kaggle.com/api/v1/datasets/download/ismailnasri20/driver-drowsiness-dataset-ddd?dataset_version_number=1...\n"
          ]
        },
        {
          "output_type": "stream",
          "name": "stderr",
          "text": [
            "100%|██████████| 2.58G/2.58G [00:29<00:00, 93.2MB/s]"
          ]
        },
        {
          "output_type": "stream",
          "name": "stdout",
          "text": [
            "Extracting files...\n"
          ]
        },
        {
          "output_type": "stream",
          "name": "stderr",
          "text": [
            "\n"
          ]
        },
        {
          "output_type": "stream",
          "name": "stdout",
          "text": [
            "Path to dataset files: /root/.cache/kagglehub/datasets/ismailnasri20/driver-drowsiness-dataset-ddd/versions/1\n"
          ]
        }
      ],
      "source": [
        "import kagglehub\n",
        "\n",
        "# Download latest version\n",
        "path = kagglehub.dataset_download(\"ismailnasri20/driver-drowsiness-dataset-ddd\")\n",
        "\n",
        "print(\"Path to dataset files:\", path)"
      ]
    },
    {
      "cell_type": "code",
      "source": [
        "!pip install ultralytics kagglehub tqdm"
      ],
      "metadata": {
        "colab": {
          "base_uri": "https://localhost:8080/"
        },
        "id": "ORgqtQFF4_zi",
        "outputId": "6758010c-387a-4ae4-cf5e-361df7fa0ddf"
      },
      "execution_count": 2,
      "outputs": [
        {
          "output_type": "stream",
          "name": "stdout",
          "text": [
            "Collecting ultralytics\n",
            "  Downloading ultralytics-8.3.170-py3-none-any.whl.metadata (37 kB)\n",
            "Requirement already satisfied: kagglehub in /usr/local/lib/python3.11/dist-packages (0.3.12)\n",
            "Requirement already satisfied: tqdm in /usr/local/lib/python3.11/dist-packages (4.67.1)\n",
            "Requirement already satisfied: numpy>=1.23.0 in /usr/local/lib/python3.11/dist-packages (from ultralytics) (2.0.2)\n",
            "Requirement already satisfied: matplotlib>=3.3.0 in /usr/local/lib/python3.11/dist-packages (from ultralytics) (3.10.0)\n",
            "Requirement already satisfied: opencv-python>=4.6.0 in /usr/local/lib/python3.11/dist-packages (from ultralytics) (4.12.0.88)\n",
            "Requirement already satisfied: pillow>=7.1.2 in /usr/local/lib/python3.11/dist-packages (from ultralytics) (11.3.0)\n",
            "Requirement already satisfied: pyyaml>=5.3.1 in /usr/local/lib/python3.11/dist-packages (from ultralytics) (6.0.2)\n",
            "Requirement already satisfied: requests>=2.23.0 in /usr/local/lib/python3.11/dist-packages (from ultralytics) (2.32.3)\n",
            "Requirement already satisfied: scipy>=1.4.1 in /usr/local/lib/python3.11/dist-packages (from ultralytics) (1.16.0)\n",
            "Requirement already satisfied: torch>=1.8.0 in /usr/local/lib/python3.11/dist-packages (from ultralytics) (2.6.0+cu124)\n",
            "Requirement already satisfied: torchvision>=0.9.0 in /usr/local/lib/python3.11/dist-packages (from ultralytics) (0.21.0+cu124)\n",
            "Requirement already satisfied: psutil in /usr/local/lib/python3.11/dist-packages (from ultralytics) (5.9.5)\n",
            "Requirement already satisfied: py-cpuinfo in /usr/local/lib/python3.11/dist-packages (from ultralytics) (9.0.0)\n",
            "Requirement already satisfied: pandas>=1.1.4 in /usr/local/lib/python3.11/dist-packages (from ultralytics) (2.2.2)\n",
            "Collecting ultralytics-thop>=2.0.0 (from ultralytics)\n",
            "  Downloading ultralytics_thop-2.0.14-py3-none-any.whl.metadata (9.4 kB)\n",
            "Requirement already satisfied: packaging in /usr/local/lib/python3.11/dist-packages (from kagglehub) (25.0)\n",
            "Requirement already satisfied: contourpy>=1.0.1 in /usr/local/lib/python3.11/dist-packages (from matplotlib>=3.3.0->ultralytics) (1.3.2)\n",
            "Requirement already satisfied: cycler>=0.10 in /usr/local/lib/python3.11/dist-packages (from matplotlib>=3.3.0->ultralytics) (0.12.1)\n",
            "Requirement already satisfied: fonttools>=4.22.0 in /usr/local/lib/python3.11/dist-packages (from matplotlib>=3.3.0->ultralytics) (4.59.0)\n",
            "Requirement already satisfied: kiwisolver>=1.3.1 in /usr/local/lib/python3.11/dist-packages (from matplotlib>=3.3.0->ultralytics) (1.4.8)\n",
            "Requirement already satisfied: pyparsing>=2.3.1 in /usr/local/lib/python3.11/dist-packages (from matplotlib>=3.3.0->ultralytics) (3.2.3)\n",
            "Requirement already satisfied: python-dateutil>=2.7 in /usr/local/lib/python3.11/dist-packages (from matplotlib>=3.3.0->ultralytics) (2.9.0.post0)\n",
            "Requirement already satisfied: pytz>=2020.1 in /usr/local/lib/python3.11/dist-packages (from pandas>=1.1.4->ultralytics) (2025.2)\n",
            "Requirement already satisfied: tzdata>=2022.7 in /usr/local/lib/python3.11/dist-packages (from pandas>=1.1.4->ultralytics) (2025.2)\n",
            "Requirement already satisfied: charset-normalizer<4,>=2 in /usr/local/lib/python3.11/dist-packages (from requests>=2.23.0->ultralytics) (3.4.2)\n",
            "Requirement already satisfied: idna<4,>=2.5 in /usr/local/lib/python3.11/dist-packages (from requests>=2.23.0->ultralytics) (3.10)\n",
            "Requirement already satisfied: urllib3<3,>=1.21.1 in /usr/local/lib/python3.11/dist-packages (from requests>=2.23.0->ultralytics) (2.5.0)\n",
            "Requirement already satisfied: certifi>=2017.4.17 in /usr/local/lib/python3.11/dist-packages (from requests>=2.23.0->ultralytics) (2025.7.14)\n",
            "Requirement already satisfied: filelock in /usr/local/lib/python3.11/dist-packages (from torch>=1.8.0->ultralytics) (3.18.0)\n",
            "Requirement already satisfied: typing-extensions>=4.10.0 in /usr/local/lib/python3.11/dist-packages (from torch>=1.8.0->ultralytics) (4.14.1)\n",
            "Requirement already satisfied: networkx in /usr/local/lib/python3.11/dist-packages (from torch>=1.8.0->ultralytics) (3.5)\n",
            "Requirement already satisfied: jinja2 in /usr/local/lib/python3.11/dist-packages (from torch>=1.8.0->ultralytics) (3.1.6)\n",
            "Requirement already satisfied: fsspec in /usr/local/lib/python3.11/dist-packages (from torch>=1.8.0->ultralytics) (2025.3.0)\n",
            "Collecting nvidia-cuda-nvrtc-cu12==12.4.127 (from torch>=1.8.0->ultralytics)\n",
            "  Downloading nvidia_cuda_nvrtc_cu12-12.4.127-py3-none-manylinux2014_x86_64.whl.metadata (1.5 kB)\n",
            "Collecting nvidia-cuda-runtime-cu12==12.4.127 (from torch>=1.8.0->ultralytics)\n",
            "  Downloading nvidia_cuda_runtime_cu12-12.4.127-py3-none-manylinux2014_x86_64.whl.metadata (1.5 kB)\n",
            "Collecting nvidia-cuda-cupti-cu12==12.4.127 (from torch>=1.8.0->ultralytics)\n",
            "  Downloading nvidia_cuda_cupti_cu12-12.4.127-py3-none-manylinux2014_x86_64.whl.metadata (1.6 kB)\n",
            "Collecting nvidia-cudnn-cu12==9.1.0.70 (from torch>=1.8.0->ultralytics)\n",
            "  Downloading nvidia_cudnn_cu12-9.1.0.70-py3-none-manylinux2014_x86_64.whl.metadata (1.6 kB)\n",
            "Collecting nvidia-cublas-cu12==12.4.5.8 (from torch>=1.8.0->ultralytics)\n",
            "  Downloading nvidia_cublas_cu12-12.4.5.8-py3-none-manylinux2014_x86_64.whl.metadata (1.5 kB)\n",
            "Collecting nvidia-cufft-cu12==11.2.1.3 (from torch>=1.8.0->ultralytics)\n",
            "  Downloading nvidia_cufft_cu12-11.2.1.3-py3-none-manylinux2014_x86_64.whl.metadata (1.5 kB)\n",
            "Collecting nvidia-curand-cu12==10.3.5.147 (from torch>=1.8.0->ultralytics)\n",
            "  Downloading nvidia_curand_cu12-10.3.5.147-py3-none-manylinux2014_x86_64.whl.metadata (1.5 kB)\n",
            "Collecting nvidia-cusolver-cu12==11.6.1.9 (from torch>=1.8.0->ultralytics)\n",
            "  Downloading nvidia_cusolver_cu12-11.6.1.9-py3-none-manylinux2014_x86_64.whl.metadata (1.6 kB)\n",
            "Collecting nvidia-cusparse-cu12==12.3.1.170 (from torch>=1.8.0->ultralytics)\n",
            "  Downloading nvidia_cusparse_cu12-12.3.1.170-py3-none-manylinux2014_x86_64.whl.metadata (1.6 kB)\n",
            "Requirement already satisfied: nvidia-cusparselt-cu12==0.6.2 in /usr/local/lib/python3.11/dist-packages (from torch>=1.8.0->ultralytics) (0.6.2)\n",
            "Requirement already satisfied: nvidia-nccl-cu12==2.21.5 in /usr/local/lib/python3.11/dist-packages (from torch>=1.8.0->ultralytics) (2.21.5)\n",
            "Requirement already satisfied: nvidia-nvtx-cu12==12.4.127 in /usr/local/lib/python3.11/dist-packages (from torch>=1.8.0->ultralytics) (12.4.127)\n",
            "Collecting nvidia-nvjitlink-cu12==12.4.127 (from torch>=1.8.0->ultralytics)\n",
            "  Downloading nvidia_nvjitlink_cu12-12.4.127-py3-none-manylinux2014_x86_64.whl.metadata (1.5 kB)\n",
            "Requirement already satisfied: triton==3.2.0 in /usr/local/lib/python3.11/dist-packages (from torch>=1.8.0->ultralytics) (3.2.0)\n",
            "Requirement already satisfied: sympy==1.13.1 in /usr/local/lib/python3.11/dist-packages (from torch>=1.8.0->ultralytics) (1.13.1)\n",
            "Requirement already satisfied: mpmath<1.4,>=1.1.0 in /usr/local/lib/python3.11/dist-packages (from sympy==1.13.1->torch>=1.8.0->ultralytics) (1.3.0)\n",
            "Requirement already satisfied: six>=1.5 in /usr/local/lib/python3.11/dist-packages (from python-dateutil>=2.7->matplotlib>=3.3.0->ultralytics) (1.17.0)\n",
            "Requirement already satisfied: MarkupSafe>=2.0 in /usr/local/lib/python3.11/dist-packages (from jinja2->torch>=1.8.0->ultralytics) (3.0.2)\n",
            "Downloading ultralytics-8.3.170-py3-none-any.whl (1.0 MB)\n",
            "\u001b[2K   \u001b[90m━━━━━━━━━━━━━━━━━━━━━━━━━━━━━━━━━━━━━━━━\u001b[0m \u001b[32m1.0/1.0 MB\u001b[0m \u001b[31m29.3 MB/s\u001b[0m eta \u001b[36m0:00:00\u001b[0m\n",
            "\u001b[?25hDownloading nvidia_cublas_cu12-12.4.5.8-py3-none-manylinux2014_x86_64.whl (363.4 MB)\n",
            "\u001b[2K   \u001b[90m━━━━━━━━━━━━━━━━━━━━━━━━━━━━━━━━━━━━━━━━\u001b[0m \u001b[32m363.4/363.4 MB\u001b[0m \u001b[31m2.9 MB/s\u001b[0m eta \u001b[36m0:00:00\u001b[0m\n",
            "\u001b[?25hDownloading nvidia_cuda_cupti_cu12-12.4.127-py3-none-manylinux2014_x86_64.whl (13.8 MB)\n",
            "\u001b[2K   \u001b[90m━━━━━━━━━━━━━━━━━━━━━━━━━━━━━━━━━━━━━━━━\u001b[0m \u001b[32m13.8/13.8 MB\u001b[0m \u001b[31m127.8 MB/s\u001b[0m eta \u001b[36m0:00:00\u001b[0m\n",
            "\u001b[?25hDownloading nvidia_cuda_nvrtc_cu12-12.4.127-py3-none-manylinux2014_x86_64.whl (24.6 MB)\n",
            "\u001b[2K   \u001b[90m━━━━━━━━━━━━━━━━━━━━━━━━━━━━━━━━━━━━━━━━\u001b[0m \u001b[32m24.6/24.6 MB\u001b[0m \u001b[31m91.4 MB/s\u001b[0m eta \u001b[36m0:00:00\u001b[0m\n",
            "\u001b[?25hDownloading nvidia_cuda_runtime_cu12-12.4.127-py3-none-manylinux2014_x86_64.whl (883 kB)\n",
            "\u001b[2K   \u001b[90m━━━━━━━━━━━━━━━━━━━━━━━━━━━━━━━━━━━━━━━━\u001b[0m \u001b[32m883.7/883.7 kB\u001b[0m \u001b[31m56.6 MB/s\u001b[0m eta \u001b[36m0:00:00\u001b[0m\n",
            "\u001b[?25hDownloading nvidia_cudnn_cu12-9.1.0.70-py3-none-manylinux2014_x86_64.whl (664.8 MB)\n",
            "\u001b[2K   \u001b[90m━━━━━━━━━━━━━━━━━━━━━━━━━━━━━━━━━━━━━━━━\u001b[0m \u001b[32m664.8/664.8 MB\u001b[0m \u001b[31m2.9 MB/s\u001b[0m eta \u001b[36m0:00:00\u001b[0m\n",
            "\u001b[?25hDownloading nvidia_cufft_cu12-11.2.1.3-py3-none-manylinux2014_x86_64.whl (211.5 MB)\n",
            "\u001b[2K   \u001b[90m━━━━━━━━━━━━━━━━━━━━━━━━━━━━━━━━━━━━━━━━\u001b[0m \u001b[32m211.5/211.5 MB\u001b[0m \u001b[31m5.3 MB/s\u001b[0m eta \u001b[36m0:00:00\u001b[0m\n",
            "\u001b[?25hDownloading nvidia_curand_cu12-10.3.5.147-py3-none-manylinux2014_x86_64.whl (56.3 MB)\n",
            "\u001b[2K   \u001b[90m━━━━━━━━━━━━━━━━━━━━━━━━━━━━━━━━━━━━━━━━\u001b[0m \u001b[32m56.3/56.3 MB\u001b[0m \u001b[31m13.1 MB/s\u001b[0m eta \u001b[36m0:00:00\u001b[0m\n",
            "\u001b[?25hDownloading nvidia_cusolver_cu12-11.6.1.9-py3-none-manylinux2014_x86_64.whl (127.9 MB)\n",
            "\u001b[2K   \u001b[90m━━━━━━━━━━━━━━━━━━━━━━━━━━━━━━━━━━━━━━━━\u001b[0m \u001b[32m127.9/127.9 MB\u001b[0m \u001b[31m7.9 MB/s\u001b[0m eta \u001b[36m0:00:00\u001b[0m\n",
            "\u001b[?25hDownloading nvidia_cusparse_cu12-12.3.1.170-py3-none-manylinux2014_x86_64.whl (207.5 MB)\n",
            "\u001b[2K   \u001b[90m━━━━━━━━━━━━━━━━━━━━━━━━━━━━━━━━━━━━━━━━\u001b[0m \u001b[32m207.5/207.5 MB\u001b[0m \u001b[31m5.5 MB/s\u001b[0m eta \u001b[36m0:00:00\u001b[0m\n",
            "\u001b[?25hDownloading nvidia_nvjitlink_cu12-12.4.127-py3-none-manylinux2014_x86_64.whl (21.1 MB)\n",
            "\u001b[2K   \u001b[90m━━━━━━━━━━━━━━━━━━━━━━━━━━━━━━━━━━━━━━━━\u001b[0m \u001b[32m21.1/21.1 MB\u001b[0m \u001b[31m43.6 MB/s\u001b[0m eta \u001b[36m0:00:00\u001b[0m\n",
            "\u001b[?25hDownloading ultralytics_thop-2.0.14-py3-none-any.whl (26 kB)\n",
            "Installing collected packages: nvidia-nvjitlink-cu12, nvidia-curand-cu12, nvidia-cufft-cu12, nvidia-cuda-runtime-cu12, nvidia-cuda-nvrtc-cu12, nvidia-cuda-cupti-cu12, nvidia-cublas-cu12, nvidia-cusparse-cu12, nvidia-cudnn-cu12, nvidia-cusolver-cu12, ultralytics-thop, ultralytics\n",
            "  Attempting uninstall: nvidia-nvjitlink-cu12\n",
            "    Found existing installation: nvidia-nvjitlink-cu12 12.5.82\n",
            "    Uninstalling nvidia-nvjitlink-cu12-12.5.82:\n",
            "      Successfully uninstalled nvidia-nvjitlink-cu12-12.5.82\n",
            "  Attempting uninstall: nvidia-curand-cu12\n",
            "    Found existing installation: nvidia-curand-cu12 10.3.6.82\n",
            "    Uninstalling nvidia-curand-cu12-10.3.6.82:\n",
            "      Successfully uninstalled nvidia-curand-cu12-10.3.6.82\n",
            "  Attempting uninstall: nvidia-cufft-cu12\n",
            "    Found existing installation: nvidia-cufft-cu12 11.2.3.61\n",
            "    Uninstalling nvidia-cufft-cu12-11.2.3.61:\n",
            "      Successfully uninstalled nvidia-cufft-cu12-11.2.3.61\n",
            "  Attempting uninstall: nvidia-cuda-runtime-cu12\n",
            "    Found existing installation: nvidia-cuda-runtime-cu12 12.5.82\n",
            "    Uninstalling nvidia-cuda-runtime-cu12-12.5.82:\n",
            "      Successfully uninstalled nvidia-cuda-runtime-cu12-12.5.82\n",
            "  Attempting uninstall: nvidia-cuda-nvrtc-cu12\n",
            "    Found existing installation: nvidia-cuda-nvrtc-cu12 12.5.82\n",
            "    Uninstalling nvidia-cuda-nvrtc-cu12-12.5.82:\n",
            "      Successfully uninstalled nvidia-cuda-nvrtc-cu12-12.5.82\n",
            "  Attempting uninstall: nvidia-cuda-cupti-cu12\n",
            "    Found existing installation: nvidia-cuda-cupti-cu12 12.5.82\n",
            "    Uninstalling nvidia-cuda-cupti-cu12-12.5.82:\n",
            "      Successfully uninstalled nvidia-cuda-cupti-cu12-12.5.82\n",
            "  Attempting uninstall: nvidia-cublas-cu12\n",
            "    Found existing installation: nvidia-cublas-cu12 12.5.3.2\n",
            "    Uninstalling nvidia-cublas-cu12-12.5.3.2:\n",
            "      Successfully uninstalled nvidia-cublas-cu12-12.5.3.2\n",
            "  Attempting uninstall: nvidia-cusparse-cu12\n",
            "    Found existing installation: nvidia-cusparse-cu12 12.5.1.3\n",
            "    Uninstalling nvidia-cusparse-cu12-12.5.1.3:\n",
            "      Successfully uninstalled nvidia-cusparse-cu12-12.5.1.3\n",
            "  Attempting uninstall: nvidia-cudnn-cu12\n",
            "    Found existing installation: nvidia-cudnn-cu12 9.3.0.75\n",
            "    Uninstalling nvidia-cudnn-cu12-9.3.0.75:\n",
            "      Successfully uninstalled nvidia-cudnn-cu12-9.3.0.75\n",
            "  Attempting uninstall: nvidia-cusolver-cu12\n",
            "    Found existing installation: nvidia-cusolver-cu12 11.6.3.83\n",
            "    Uninstalling nvidia-cusolver-cu12-11.6.3.83:\n",
            "      Successfully uninstalled nvidia-cusolver-cu12-11.6.3.83\n",
            "Successfully installed nvidia-cublas-cu12-12.4.5.8 nvidia-cuda-cupti-cu12-12.4.127 nvidia-cuda-nvrtc-cu12-12.4.127 nvidia-cuda-runtime-cu12-12.4.127 nvidia-cudnn-cu12-9.1.0.70 nvidia-cufft-cu12-11.2.1.3 nvidia-curand-cu12-10.3.5.147 nvidia-cusolver-cu12-11.6.1.9 nvidia-cusparse-cu12-12.3.1.170 nvidia-nvjitlink-cu12-12.4.127 ultralytics-8.3.170 ultralytics-thop-2.0.14\n"
          ]
        }
      ]
    },
    {
      "cell_type": "code",
      "source": [
        "import kagglehub\n",
        "import os\n",
        "import shutil\n",
        "import random\n",
        "from tqdm import tqdm\n",
        "from ultralytics import YOLO"
      ],
      "metadata": {
        "id": "qDxHDALN54g7",
        "colab": {
          "base_uri": "https://localhost:8080/"
        },
        "outputId": "f7df1215-d1ac-46f9-f983-b0ebbc08bc4c"
      },
      "execution_count": 3,
      "outputs": [
        {
          "output_type": "stream",
          "name": "stdout",
          "text": [
            "Creating new Ultralytics Settings v0.0.6 file ✅ \n",
            "View Ultralytics Settings with 'yolo settings' or at '/root/.config/Ultralytics/settings.json'\n",
            "Update Settings with 'yolo settings key=value', i.e. 'yolo settings runs_dir=path/to/dir'. For help see https://docs.ultralytics.com/quickstart/#ultralytics-settings.\n"
          ]
        }
      ]
    },
    {
      "cell_type": "code",
      "source": [
        "from google.colab import drive\n",
        "drive.mount('/content/drive')"
      ],
      "metadata": {
        "colab": {
          "base_uri": "https://localhost:8080/"
        },
        "id": "y4PnA7WmATQy",
        "outputId": "b8b20759-5a93-4ea6-8202-76e31b48c90d"
      },
      "execution_count": 4,
      "outputs": [
        {
          "output_type": "stream",
          "name": "stdout",
          "text": [
            "Mounted at /content/drive\n"
          ]
        }
      ]
    },
    {
      "cell_type": "code",
      "source": [
        "def download_and_prepare_data():\n",
        "    # Download the dataset using KaggleHub\n",
        "    path = kagglehub.dataset_download(\"ismailnasri20/driver-drowsiness-dataset-ddd\")\n",
        "    print(f\"Dataset downloaded to: {path}\")\n",
        "\n",
        "    # Define the paths to drowsy and non-drowsy folders\n",
        "    drowsy_folder = '/root/.cache/kagglehub/datasets/ismailnasri20/driver-drowsiness-dataset-ddd/versions/1/Driver Drowsiness Dataset (DDD)/Drowsy'\n",
        "    non_drowsy_folder = '/root/.cache/kagglehub/datasets/ismailnasri20/driver-drowsiness-dataset-ddd/versions/1/Driver Drowsiness Dataset (DDD)/Non Drowsy'\n",
        "    return drowsy_folder, non_drowsy_folder"
      ],
      "metadata": {
        "id": "RAszhE6wj0Us"
      },
      "execution_count": 5,
      "outputs": []
    },
    {
      "cell_type": "code",
      "source": [
        "dataset_path = os.path.join(path, \"driver-drowsiness-dataset-ddd\")"
      ],
      "metadata": {
        "id": "qui24ZcCJUhK"
      },
      "execution_count": 6,
      "outputs": []
    },
    {
      "cell_type": "code",
      "source": [
        "kaggle_drowsy_path = '/root/.cache/kagglehub/datasets/ismailnasri20/driver-drowsiness-dataset-ddd/versions/1/Driver Drowsiness Dataset (DDD)/Drowsy'\n",
        "kaggle_non_drowsy_path = '/root/.cache/kagglehub/datasets/ismailnasri20/driver-drowsiness-dataset-ddd/versions/1/Driver Drowsiness Dataset (DDD)/Non Drowsy'\n",
        "annotations_path = '/content/drive/MyDrive/drowsiness_detection/kaggle/annotations'\n",
        "selected_images_path = '/content/drive/MyDrive/drowsiness_detection/kaggle/selected_images'\n",
        "train_images_path = '/content/drive/MyDrive/drowsiness_detection/kaggle/train'\n",
        "test_images_path = '/content/drive/MyDrive/drowsiness_detection/kaggle/test'"
      ],
      "metadata": {
        "id": "TI4_cGXf58fU"
      },
      "execution_count": 7,
      "outputs": []
    },
    {
      "cell_type": "code",
      "source": [
        "os.makedirs(annotations_path, exist_ok=True)\n",
        "os.makedirs(selected_images_path, exist_ok=True)\n",
        "os.makedirs(train_images_path, exist_ok=True)\n",
        "os.makedirs(test_images_path, exist_ok=True)"
      ],
      "metadata": {
        "id": "SAa-pqZtBXGP"
      },
      "execution_count": 8,
      "outputs": []
    },
    {
      "cell_type": "code",
      "source": [
        "def prepare_dataset(drowsy_folder, non_drowsy_folder, selected_images_folder):\n",
        "    # Get all the image files in each folder\n",
        "    drowsy_images = [os.path.join(drowsy_folder, img) for img in os.listdir(drowsy_folder) if img.lower().endswith(('.png', '.jpg', '.jpeg'))]\n",
        "    non_drowsy_images = [os.path.join(non_drowsy_folder, img) for img in os.listdir(non_drowsy_folder) if img.lower().endswith(('.png', '.jpg', '.jpeg'))]\n",
        "\n",
        "    # Randomly select 750 images from each folder\n",
        "    selected_drowsy = random.sample(drowsy_images, 750)\n",
        "    selected_non_drowsy = random.sample(non_drowsy_images, 750)\n",
        "\n",
        "    # Combine selected images into a single list\n",
        "    selected_images = selected_drowsy + selected_non_drowsy\n",
        "\n",
        "    # Copy selected images to the selected images folder\n",
        "    if not os.path.exists(selected_images_folder):\n",
        "        os.makedirs(selected_images_folder)\n",
        "\n",
        "    for img_path in selected_images:\n",
        "        shutil.copy(img_path, selected_images_folder)\n",
        "\n",
        "    return selected_images_folder"
      ],
      "metadata": {
        "id": "motf3tRZjuob"
      },
      "execution_count": 9,
      "outputs": []
    },
    {
      "cell_type": "code",
      "source": [
        "import os\n",
        "import cv2\n",
        "\n",
        "def prepare_and_create_annotations(selected_images_folder, output_dir):\n",
        "    \"\"\"Generate annotations for selected images in a single function.\"\"\"\n",
        "    for img_name in os.listdir(selected_images_folder):\n",
        "        if img_name.lower().endswith(('.png', '.jpg', '.jpeg')):  # Check if the file is an image\n",
        "            # Construct the image path\n",
        "            img_path = os.path.join(selected_images_folder, img_name)\n",
        "\n",
        "            # Define the label based on the folder (e.g., 'drowsy' or 'non_drowsy')\n",
        "            label = 'drowsy' if 'drowsy' in img_name else 'non_drowsy'\n",
        "\n",
        "            # Create annotation file for the image\n",
        "            img = cv2.imread(img_path)\n",
        "            height, width, _ = img.shape\n",
        "            # For simplicity, we create a bounding box around the entire image\n",
        "            x_center = 0.5  # Center of the image\n",
        "            y_center = 0.5\n",
        "            box_width = 1.0  # Full width\n",
        "            box_height = 1.0  # Full height\n",
        "            # Normalize bounding box coordinates\n",
        "            annotation = f\"{label} {x_center} {y_center} {box_width} {box_height}\\n\"\n",
        "\n",
        "            # Write the annotation to the file\n",
        "            filename = os.path.splitext(img_name)[0] + \".txt\"\n",
        "            annotation_path = os.path.join(output_dir, filename)\n",
        "            with open(annotation_path, \"w\") as f:\n",
        "                f.write(annotation)\n",
        "\n",
        "            # Optionally, you can print to check progress\n",
        "            print(f\"Annotation saved for {img_name} at {annotation_path}\")\n"
      ],
      "metadata": {
        "id": "KDylyhrXJ7Qx"
      },
      "execution_count": 10,
      "outputs": []
    },
    {
      "cell_type": "code",
      "source": [
        "def prepare_dataset(drowsy_folder, non_drowsy_folder, selected_images_folder):\n",
        "    # Get all the image files in each folder\n",
        "    drowsy_images = [os.path.join(drowsy_folder, img) for img in os.listdir(drowsy_folder) if img.lower().endswith(('.png', '.jpg', '.jpeg'))]\n",
        "    non_drowsy_images = [os.path.join(non_drowsy_folder, img) for img in os.listdir(non_drowsy_folder) if img.lower().endswith(('.png', '.jpg', '.jpeg'))]\n",
        "\n",
        "    # Randomly select 750 images from each folder\n",
        "    selected_drowsy = random.sample(drowsy_images, 750)\n",
        "    selected_non_drowsy = random.sample(non_drowsy_images, 750)\n",
        "\n",
        "    # Combine selected images into a single list\n",
        "    selected_images = selected_drowsy + selected_non_drowsy\n",
        "\n",
        "    # Copy selected images to the selected images folder\n",
        "    if not os.path.exists(selected_images_folder):\n",
        "        os.makedirs(selected_images_folder)\n",
        "\n",
        "    for img_path in selected_images:\n",
        "        shutil.copy(img_path, selected_images_folder)\n",
        "\n",
        "    return selected_images_folder"
      ],
      "metadata": {
        "id": "WkBIiHm4J935"
      },
      "execution_count": 11,
      "outputs": []
    },
    {
      "cell_type": "code",
      "source": [
        "from sklearn.model_selection import train_test_split\n",
        "\n",
        "def split_dataset(selected_images_folder, test_size=0.2):\n",
        "    image_paths = [os.path.join(selected_images_folder, img) for img in os.listdir(selected_images_folder)]\n",
        "    labels = ['drowsy' if 'drowsy' in img else 'non_drowsy' for img in os.listdir(selected_images_folder)]\n",
        "\n",
        "    # Split the dataset\n",
        "    train_images, test_images = train_test_split(image_paths, test_size=test_size, random_state=42)\n",
        "\n",
        "    return train_images, test_images"
      ],
      "metadata": {
        "id": "RUBtVrqxKEOh"
      },
      "execution_count": 12,
      "outputs": []
    },
    {
      "cell_type": "code",
      "source": [
        "def copy_images_to_dirs(train_images, test_images, train_dir, test_dir):\n",
        "    # Create directories if they do not exist\n",
        "    os.makedirs(train_dir, exist_ok=True)\n",
        "    os.makedirs(test_dir, exist_ok=True)\n",
        "\n",
        "    # Copy training images to train directory\n",
        "    for img_path in train_images:\n",
        "        shutil.copy(img_path, train_dir)\n",
        "\n",
        "    # Copy testing images to test directory\n",
        "    for img_path in test_images:\n",
        "        shutil.copy(img_path, test_dir)"
      ],
      "metadata": {
        "id": "vREqL0CGKGO2"
      },
      "execution_count": 13,
      "outputs": []
    },
    {
      "cell_type": "code",
      "source": [
        "!pip install ultralytics\n",
        "from ultralytics import YOLO"
      ],
      "metadata": {
        "colab": {
          "base_uri": "https://localhost:8080/"
        },
        "id": "fyxCoVzRtsag",
        "outputId": "6fb6bab1-1e2b-47ca-c5d6-86765af7a8cf"
      },
      "execution_count": 14,
      "outputs": [
        {
          "output_type": "stream",
          "name": "stdout",
          "text": [
            "Requirement already satisfied: ultralytics in /usr/local/lib/python3.11/dist-packages (8.3.170)\n",
            "Requirement already satisfied: numpy>=1.23.0 in /usr/local/lib/python3.11/dist-packages (from ultralytics) (2.0.2)\n",
            "Requirement already satisfied: matplotlib>=3.3.0 in /usr/local/lib/python3.11/dist-packages (from ultralytics) (3.10.0)\n",
            "Requirement already satisfied: opencv-python>=4.6.0 in /usr/local/lib/python3.11/dist-packages (from ultralytics) (4.12.0.88)\n",
            "Requirement already satisfied: pillow>=7.1.2 in /usr/local/lib/python3.11/dist-packages (from ultralytics) (11.3.0)\n",
            "Requirement already satisfied: pyyaml>=5.3.1 in /usr/local/lib/python3.11/dist-packages (from ultralytics) (6.0.2)\n",
            "Requirement already satisfied: requests>=2.23.0 in /usr/local/lib/python3.11/dist-packages (from ultralytics) (2.32.3)\n",
            "Requirement already satisfied: scipy>=1.4.1 in /usr/local/lib/python3.11/dist-packages (from ultralytics) (1.16.0)\n",
            "Requirement already satisfied: torch>=1.8.0 in /usr/local/lib/python3.11/dist-packages (from ultralytics) (2.6.0+cu124)\n",
            "Requirement already satisfied: torchvision>=0.9.0 in /usr/local/lib/python3.11/dist-packages (from ultralytics) (0.21.0+cu124)\n",
            "Requirement already satisfied: tqdm>=4.64.0 in /usr/local/lib/python3.11/dist-packages (from ultralytics) (4.67.1)\n",
            "Requirement already satisfied: psutil in /usr/local/lib/python3.11/dist-packages (from ultralytics) (5.9.5)\n",
            "Requirement already satisfied: py-cpuinfo in /usr/local/lib/python3.11/dist-packages (from ultralytics) (9.0.0)\n",
            "Requirement already satisfied: pandas>=1.1.4 in /usr/local/lib/python3.11/dist-packages (from ultralytics) (2.2.2)\n",
            "Requirement already satisfied: ultralytics-thop>=2.0.0 in /usr/local/lib/python3.11/dist-packages (from ultralytics) (2.0.14)\n",
            "Requirement already satisfied: contourpy>=1.0.1 in /usr/local/lib/python3.11/dist-packages (from matplotlib>=3.3.0->ultralytics) (1.3.2)\n",
            "Requirement already satisfied: cycler>=0.10 in /usr/local/lib/python3.11/dist-packages (from matplotlib>=3.3.0->ultralytics) (0.12.1)\n",
            "Requirement already satisfied: fonttools>=4.22.0 in /usr/local/lib/python3.11/dist-packages (from matplotlib>=3.3.0->ultralytics) (4.59.0)\n",
            "Requirement already satisfied: kiwisolver>=1.3.1 in /usr/local/lib/python3.11/dist-packages (from matplotlib>=3.3.0->ultralytics) (1.4.8)\n",
            "Requirement already satisfied: packaging>=20.0 in /usr/local/lib/python3.11/dist-packages (from matplotlib>=3.3.0->ultralytics) (25.0)\n",
            "Requirement already satisfied: pyparsing>=2.3.1 in /usr/local/lib/python3.11/dist-packages (from matplotlib>=3.3.0->ultralytics) (3.2.3)\n",
            "Requirement already satisfied: python-dateutil>=2.7 in /usr/local/lib/python3.11/dist-packages (from matplotlib>=3.3.0->ultralytics) (2.9.0.post0)\n",
            "Requirement already satisfied: pytz>=2020.1 in /usr/local/lib/python3.11/dist-packages (from pandas>=1.1.4->ultralytics) (2025.2)\n",
            "Requirement already satisfied: tzdata>=2022.7 in /usr/local/lib/python3.11/dist-packages (from pandas>=1.1.4->ultralytics) (2025.2)\n",
            "Requirement already satisfied: charset-normalizer<4,>=2 in /usr/local/lib/python3.11/dist-packages (from requests>=2.23.0->ultralytics) (3.4.2)\n",
            "Requirement already satisfied: idna<4,>=2.5 in /usr/local/lib/python3.11/dist-packages (from requests>=2.23.0->ultralytics) (3.10)\n",
            "Requirement already satisfied: urllib3<3,>=1.21.1 in /usr/local/lib/python3.11/dist-packages (from requests>=2.23.0->ultralytics) (2.5.0)\n",
            "Requirement already satisfied: certifi>=2017.4.17 in /usr/local/lib/python3.11/dist-packages (from requests>=2.23.0->ultralytics) (2025.7.14)\n",
            "Requirement already satisfied: filelock in /usr/local/lib/python3.11/dist-packages (from torch>=1.8.0->ultralytics) (3.18.0)\n",
            "Requirement already satisfied: typing-extensions>=4.10.0 in /usr/local/lib/python3.11/dist-packages (from torch>=1.8.0->ultralytics) (4.14.1)\n",
            "Requirement already satisfied: networkx in /usr/local/lib/python3.11/dist-packages (from torch>=1.8.0->ultralytics) (3.5)\n",
            "Requirement already satisfied: jinja2 in /usr/local/lib/python3.11/dist-packages (from torch>=1.8.0->ultralytics) (3.1.6)\n",
            "Requirement already satisfied: fsspec in /usr/local/lib/python3.11/dist-packages (from torch>=1.8.0->ultralytics) (2025.3.0)\n",
            "Requirement already satisfied: nvidia-cuda-nvrtc-cu12==12.4.127 in /usr/local/lib/python3.11/dist-packages (from torch>=1.8.0->ultralytics) (12.4.127)\n",
            "Requirement already satisfied: nvidia-cuda-runtime-cu12==12.4.127 in /usr/local/lib/python3.11/dist-packages (from torch>=1.8.0->ultralytics) (12.4.127)\n",
            "Requirement already satisfied: nvidia-cuda-cupti-cu12==12.4.127 in /usr/local/lib/python3.11/dist-packages (from torch>=1.8.0->ultralytics) (12.4.127)\n",
            "Requirement already satisfied: nvidia-cudnn-cu12==9.1.0.70 in /usr/local/lib/python3.11/dist-packages (from torch>=1.8.0->ultralytics) (9.1.0.70)\n",
            "Requirement already satisfied: nvidia-cublas-cu12==12.4.5.8 in /usr/local/lib/python3.11/dist-packages (from torch>=1.8.0->ultralytics) (12.4.5.8)\n",
            "Requirement already satisfied: nvidia-cufft-cu12==11.2.1.3 in /usr/local/lib/python3.11/dist-packages (from torch>=1.8.0->ultralytics) (11.2.1.3)\n",
            "Requirement already satisfied: nvidia-curand-cu12==10.3.5.147 in /usr/local/lib/python3.11/dist-packages (from torch>=1.8.0->ultralytics) (10.3.5.147)\n",
            "Requirement already satisfied: nvidia-cusolver-cu12==11.6.1.9 in /usr/local/lib/python3.11/dist-packages (from torch>=1.8.0->ultralytics) (11.6.1.9)\n",
            "Requirement already satisfied: nvidia-cusparse-cu12==12.3.1.170 in /usr/local/lib/python3.11/dist-packages (from torch>=1.8.0->ultralytics) (12.3.1.170)\n",
            "Requirement already satisfied: nvidia-cusparselt-cu12==0.6.2 in /usr/local/lib/python3.11/dist-packages (from torch>=1.8.0->ultralytics) (0.6.2)\n",
            "Requirement already satisfied: nvidia-nccl-cu12==2.21.5 in /usr/local/lib/python3.11/dist-packages (from torch>=1.8.0->ultralytics) (2.21.5)\n",
            "Requirement already satisfied: nvidia-nvtx-cu12==12.4.127 in /usr/local/lib/python3.11/dist-packages (from torch>=1.8.0->ultralytics) (12.4.127)\n",
            "Requirement already satisfied: nvidia-nvjitlink-cu12==12.4.127 in /usr/local/lib/python3.11/dist-packages (from torch>=1.8.0->ultralytics) (12.4.127)\n",
            "Requirement already satisfied: triton==3.2.0 in /usr/local/lib/python3.11/dist-packages (from torch>=1.8.0->ultralytics) (3.2.0)\n",
            "Requirement already satisfied: sympy==1.13.1 in /usr/local/lib/python3.11/dist-packages (from torch>=1.8.0->ultralytics) (1.13.1)\n",
            "Requirement already satisfied: mpmath<1.4,>=1.1.0 in /usr/local/lib/python3.11/dist-packages (from sympy==1.13.1->torch>=1.8.0->ultralytics) (1.3.0)\n",
            "Requirement already satisfied: six>=1.5 in /usr/local/lib/python3.11/dist-packages (from python-dateutil>=2.7->matplotlib>=3.3.0->ultralytics) (1.17.0)\n",
            "Requirement already satisfied: MarkupSafe>=2.0 in /usr/local/lib/python3.11/dist-packages (from jinja2->torch>=1.8.0->ultralytics) (3.0.2)\n"
          ]
        }
      ]
    },
    {
      "cell_type": "code",
      "source": [
        "def train_yolo():\n",
        "    \"\"\"Train YOLOv8 model.\"\"\"\n",
        "    # Define the path to your YOLO data YAML file (YOLOv8)\n",
        "    # This YAML file should describe your dataset (train/val paths, classes, etc.)\n",
        "    data_yaml = '/content/drive/MyDrive/drowsiness_detection/kaggle/dataset.yaml'  # Path to your data YAML file\n",
        "\n",
        "\n",
        "    # Define training parameters\n",
        "    config = {\n",
        "        'batch': 16,  # Batch size (correct argument name)\n",
        "        'epochs': 100,  # Number of epochs\n",
        "        'img_size': 640,  # Image size for training\n",
        "        'weights': 'yolov8n.pt',  # Pretrained weights (you can change to another YOLOv8 model if needed)\n",
        "        'project': '/content/drive/MyDrive/drowsiness_detection/kaggle/yolov8_training',  # Directory to save training results\n",
        "        'name': 'drowsiness_detection',  # Name of the experiment\n",
        "    }\n",
        "\n",
        "    # Initialize the YOLOv8 model\n",
        "    model = YOLO(config['weights'])  # Load the YOLOv8 model\n",
        "\n",
        "    # Train the model with the updated configuration\n",
        "    model.train(\n",
        "        data=data_yaml,  # Use the data YAML file\n",
        "        epochs=config['epochs'],\n",
        "        imgsz=config['img_size'],\n",
        "        batch=config['batch'],  # Use 'batch' instead of 'batch_size'\n",
        "        project=config['project'],\n",
        "        name=config['name']\n",
        "    )\n",
        "\n",
        "     # Evaluate the model on the validation set\n",
        "    print(\"Evaluating YOLOv8 model on the test set...\")\n",
        "    results = model.val(data=data_yaml, imgsz=config['img_size'])\n",
        "\n",
        "    # Display evaluation metrics\n",
        "    print(\"\\nEvaluation Metrics:\")\n",
        "    print(f\"mAP@50: {results['metrics/mAP50']:.4f}\")\n",
        "    print(f\"mAP@50-95: {results['metrics/mAP50-95']:.4f}\")\n",
        "    print(f\"Precision: {results['metrics/precision']:.4f}\")\n",
        "    print(f\"Recall: {results['metrics/recall']:.4f}\")"
      ],
      "metadata": {
        "id": "F1_kusUwKrOV"
      },
      "execution_count": 15,
      "outputs": []
    },
    {
      "cell_type": "code",
      "source": [
        "import os\n",
        "\n",
        "def fix_annotations(annotation_dir, class_index_map):\n",
        "    \"\"\"Fix annotation files by updating the class labels based on the first letter of the filename.\"\"\"\n",
        "\n",
        "    # Iterate through all annotation files in the directory\n",
        "    for filename in os.listdir(annotation_dir):\n",
        "        # Only process .txt files\n",
        "        if filename.endswith(\".txt\"):\n",
        "            file_path = os.path.join(annotation_dir, filename)\n",
        "\n",
        "            # Check if the first character is uppercase or lowercase\n",
        "            if filename[0].isupper():  # Starts with an uppercase letter means 'drowsy'\n",
        "                correct_class = class_index_map['drowsy']\n",
        "            elif filename[0].islower():  # Starts with a lowercase letter means 'non_drowsy'\n",
        "                correct_class = class_index_map['non_drowsy']\n",
        "            else:\n",
        "                print(f\"Skipping file {filename}: doesn't start with an alphabet letter.\")\n",
        "                continue  # Skip files that don't follow the naming convention\n",
        "\n",
        "            # Open the annotation file and read its content\n",
        "            with open(file_path, 'r') as file:\n",
        "                lines = file.readlines()\n",
        "\n",
        "            # Prepare a list to store the updated lines\n",
        "            updated_lines = []\n",
        "            changes_made = False\n",
        "\n",
        "            # Process each line (each annotation)\n",
        "            for line in lines:\n",
        "                # Split the line into its components\n",
        "                parts = line.strip().split()\n",
        "\n",
        "                if len(parts) > 0:\n",
        "                    # Update the class label with the correct class index\n",
        "                    parts[0] = correct_class  # Replace with the correct class index\n",
        "                    updated_lines.append(\" \".join(parts) + \"\\n\")\n",
        "                    changes_made = True\n",
        "\n",
        "            # If changes were made, write the updated annotations back to the file\n",
        "            if changes_made:\n",
        "                with open(file_path, 'w') as file:\n",
        "                    file.writelines(updated_lines)\n",
        "                print(f\"Updated {filename}\")\n",
        "            else:\n",
        "                print(f\"No changes needed for {filename}\")\n",
        "\n",
        "# Define a map of old class labels to the new class indices\n",
        "# Example: {'class_label': 'class_index'}\n",
        "class_index_map = {\n",
        "    'drowsy': '0',      # Replace 'drowsy' with 0\n",
        "    'non_drowsy': '1',  # Replace 'non_drowsy' with 1\n",
        "}\n",
        "\n",
        "# Directory containing the annotation files\n",
        "annotation_dir =  '/content/drive/MyDrive/drowsiness_detection/kaggle/train/labels' # Change this to your directory path\n",
        "\n",
        "# Call the function to fix annotations\n",
        "fix_annotations(annotation_dir, class_index_map)\n",
        "\n"
      ],
      "metadata": {
        "colab": {
          "base_uri": "https://localhost:8080/"
        },
        "id": "dKij5JJ2q_U5",
        "outputId": "6f00239c-903c-4c4a-c013-ec97147deeed"
      },
      "execution_count": 16,
      "outputs": [
        {
          "output_type": "stream",
          "name": "stdout",
          "text": [
            "Updated i0475.txt\n",
            "Updated I0530.txt\n",
            "Updated i0510.txt\n",
            "Updated i0572.txt\n",
            "Updated I0526.txt\n",
            "Updated i0575.txt\n",
            "Updated I0651.txt\n",
            "Updated i0641.txt\n",
            "Updated i0616.txt\n",
            "Updated I0644.txt\n",
            "Updated I0687.txt\n",
            "Updated i0751.txt\n",
            "Updated i0523.txt\n",
            "Updated i0745.txt\n",
            "Updated I0716.txt\n",
            "Updated I0679.txt\n",
            "Updated I0673.txt\n",
            "Updated I0804.txt\n",
            "Updated I0778.txt\n",
            "Updated i0780.txt\n",
            "Updated i0694.txt\n",
            "Updated I0825.txt\n",
            "Updated I0895.txt\n",
            "Updated i0823.txt\n",
            "Updated i0813.txt\n",
            "Updated I0867.txt\n",
            "Updated I0820.txt\n",
            "Updated i0875.txt\n",
            "Updated I0796.txt\n",
            "Updated i0926.txt\n",
            "Updated i0821.txt\n",
            "Updated i0866.txt\n",
            "Updated i0912.txt\n",
            "Updated I0921.txt\n",
            "Updated I0908.txt\n",
            "Updated I1059.txt\n",
            "Updated I0962.txt\n",
            "Updated i0855.txt\n",
            "Updated i0945.txt\n",
            "Updated I1165.txt\n",
            "Updated i1012.txt\n",
            "Updated i0967.txt\n",
            "Updated I1115.txt\n",
            "Updated i1061.txt\n",
            "Updated I1096.txt\n",
            "Updated I1256.txt\n",
            "Updated I1125.txt\n",
            "Updated j0034.txt\n",
            "Updated I1180.txt\n",
            "Updated j0026.txt\n",
            "Updated I1226.txt\n",
            "Updated j0027.txt\n",
            "Updated j0129.txt\n",
            "Updated I1264.txt\n",
            "Updated J0050(1).txt\n",
            "Updated j0100.txt\n",
            "Updated j0063.txt\n",
            "Updated j0050.txt\n",
            "Updated J0121.txt\n",
            "Updated J0071.txt\n",
            "Updated j0123.txt\n",
            "Updated j0125.txt\n",
            "Updated J0115.txt\n",
            "Updated J0077.txt\n",
            "Updated J0172.txt\n",
            "Updated j0114.txt\n",
            "Updated J0210.txt\n",
            "Updated J0144.txt\n",
            "Updated j0237.txt\n",
            "Updated J0187.txt\n",
            "Updated j0214.txt\n",
            "Updated j0150.txt\n",
            "Updated J0139.txt\n",
            "Updated j0154.txt\n",
            "Updated j0377.txt\n",
            "Updated J0386.txt\n",
            "Updated j0362.txt\n",
            "Updated j0363.txt\n",
            "Updated J0227.txt\n",
            "Updated j0274.txt\n",
            "Updated J0296.txt\n",
            "Updated j0321.txt\n",
            "Updated j0254.txt\n",
            "Updated J0381.txt\n",
            "Updated j0411.txt\n",
            "Updated j0576.txt\n",
            "Updated j0686.txt\n",
            "Updated k0033.txt\n",
            "Updated j0607.txt\n",
            "Updated j0697.txt\n",
            "Updated j0425.txt\n",
            "Updated j0382.txt\n",
            "Updated j0643.txt\n",
            "Updated j0574.txt\n",
            "Updated j0550.txt\n",
            "Updated j0495.txt\n",
            "Updated j0716.txt\n",
            "Updated k0055.txt\n",
            "Updated K0093.txt\n",
            "Updated K0087.txt\n",
            "Updated K0001.txt\n",
            "Updated k0100.txt\n",
            "Updated k0117.txt\n",
            "Updated k0088.txt\n",
            "Updated k0193.txt\n",
            "Updated k0115.txt\n",
            "Updated K0213.txt\n",
            "Updated K0217.txt\n",
            "Updated k0196.txt\n",
            "Updated k0216.txt\n",
            "Updated K0205.txt\n",
            "Updated k0144.txt\n",
            "Updated K0126.txt\n",
            "Updated K0565.txt\n",
            "Updated K0584.txt\n",
            "Updated K0506.txt\n",
            "Updated K0643.txt\n",
            "Updated L0059.txt\n",
            "Updated L0083.txt\n",
            "Updated l0041.txt\n",
            "Updated L0106.txt\n",
            "Updated l0082.txt\n",
            "Updated L0110.txt\n",
            "Updated l0109.txt\n",
            "Updated L0101.txt\n",
            "Updated l0092.txt\n",
            "Updated l0090.txt\n",
            "Updated l0159.txt\n",
            "Updated l0117.txt\n",
            "Updated l0187.txt\n",
            "Updated L0195.txt\n",
            "Updated L0196.txt\n",
            "Updated L0207.txt\n",
            "Updated l0242.txt\n",
            "Updated l0167.txt\n",
            "Updated l0252.txt\n",
            "Updated l0134.txt\n",
            "Updated l0291.txt\n",
            "Updated l0341.txt\n",
            "Updated l0284.txt\n",
            "Updated L0267.txt\n",
            "Updated l0345.txt\n",
            "Updated L0303.txt\n",
            "Updated L0293.txt\n",
            "Updated L0362.txt\n",
            "Updated l0260.txt\n",
            "Updated L0729.txt\n",
            "Updated L0710.txt\n",
            "Updated l0393.txt\n",
            "Updated L0688.txt\n",
            "Updated L0680.txt\n",
            "Updated l0392.txt\n",
            "Updated L0277.txt\n",
            "Updated L0453.txt\n",
            "Updated L0690.txt\n",
            "Updated l0365.txt\n",
            "Updated M0029.txt\n",
            "Updated L0885.txt\n",
            "Updated L0755.txt\n",
            "Updated m0107.txt\n",
            "Updated m0068.txt\n",
            "Updated L0791.txt\n",
            "Updated M0201.txt\n",
            "Updated M0158.txt\n",
            "Updated M0054.txt\n",
            "Updated M0155.txt\n",
            "Updated m0226.txt\n",
            "Updated M0306.txt\n",
            "Updated m0299.txt\n",
            "Updated M0249.txt\n",
            "Updated M0270(1).txt\n",
            "Updated m0250.txt\n",
            "Updated M0135.txt\n",
            "Updated m0270.txt\n",
            "Updated m0293.txt\n",
            "Updated M0256.txt\n",
            "Updated M0368.txt\n",
            "Updated M0245.txt\n",
            "Updated m0386.txt\n",
            "Updated m0335.txt\n",
            "Updated m0404.txt\n",
            "Updated m0351.txt\n",
            "Updated m0365.txt\n",
            "Updated m0430.txt\n",
            "Updated M0324.txt\n",
            "Updated M0404(1).txt\n",
            "Updated m0326.txt\n",
            "Updated m0469.txt\n",
            "Updated M0530.txt\n",
            "Updated n0023.txt\n",
            "Updated N0059.txt\n",
            "Updated n0093.txt\n",
            "Updated M0721.txt\n",
            "Updated n0189.txt\n",
            "Updated n0179.txt\n",
            "Updated n0142.txt\n",
            "Updated n0117.txt\n",
            "Updated n0111.txt\n",
            "Updated n0036.txt\n",
            "Updated n0060.txt\n",
            "Updated n0103.txt\n",
            "Updated N0287.txt\n",
            "Updated N0354.txt\n",
            "Updated N0225.txt\n",
            "Updated N0375.txt\n",
            "Updated N0212.txt\n",
            "Updated n0372.txt\n",
            "Updated n0229.txt\n",
            "Updated n0254.txt\n",
            "Updated N0289.txt\n",
            "Updated N0263.txt\n",
            "Updated n0467.txt\n",
            "Updated n0389.txt\n",
            "Updated N0423.txt\n",
            "Updated N0391.txt\n",
            "Updated N0397.txt\n",
            "Updated n0452.txt\n",
            "Updated n0393.txt\n",
            "Updated n0419.txt\n",
            "Updated N0421.txt\n",
            "Updated n0458.txt\n",
            "Updated N0506.txt\n",
            "Updated n0485.txt\n",
            "Updated N0562.txt\n",
            "Updated N0579.txt\n",
            "Updated N0493.txt\n",
            "Updated N0596.txt\n",
            "Updated N0565.txt\n",
            "Updated n0496.txt\n",
            "Updated n0614.txt\n",
            "Updated N0621.txt\n",
            "Updated n0650.txt\n",
            "Updated n0630.txt\n",
            "Updated N0689.txt\n",
            "Updated N0701.txt\n",
            "Updated n0663.txt\n",
            "Updated n0728.txt\n",
            "Updated N0740.txt\n",
            "Updated n0722.txt\n",
            "Updated N0687.txt\n",
            "Updated n0746.txt\n",
            "Updated n0877.txt\n",
            "Updated N0755.txt\n",
            "Updated N0750.txt\n",
            "Updated n0779.txt\n",
            "Updated n0777.txt\n",
            "Updated N0792.txt\n",
            "Updated N0840.txt\n",
            "Updated N0833.txt\n",
            "Updated n0757.txt\n",
            "Updated N0940.txt\n",
            "Updated N0819.txt\n",
            "Updated N0968.txt\n",
            "Updated N0991.txt\n",
            "Updated n0898.txt\n",
            "Updated N0982.txt\n",
            "Updated N0921.txt\n",
            "Updated n1014.txt\n",
            "Updated n0994.txt\n",
            "Updated N0913.txt\n",
            "Updated n0879.txt\n",
            "Updated o0232.txt\n",
            "Updated O0238.txt\n",
            "Updated O0079.txt\n",
            "Updated O0200.txt\n",
            "Updated O0046.txt\n",
            "Updated o0220.txt\n",
            "Updated O0065.txt\n",
            "Updated O0076.txt\n",
            "Updated o0228.txt\n",
            "Updated O0156.txt\n",
            "Updated O0251.txt\n",
            "Updated o0275.txt\n",
            "Updated O0245.txt\n",
            "Updated O0279.txt\n",
            "Updated O0239.txt\n",
            "Updated o0280.txt\n",
            "Updated o0266.txt\n",
            "Updated O0265.txt\n",
            "Updated O0278.txt\n",
            "Updated o0256.txt\n",
            "Updated O0364.txt\n",
            "Updated o0314.txt\n",
            "Updated o0345.txt\n",
            "Updated o0346.txt\n",
            "Updated O0415.txt\n",
            "Updated o0332.txt\n",
            "Updated O0349.txt\n",
            "Updated O0422.txt\n",
            "Updated O0436.txt\n",
            "Updated o0375.txt\n",
            "Updated O0384.txt\n",
            "Updated O0567.txt\n",
            "Updated O0453.txt\n",
            "Updated O0455.txt\n",
            "Updated o0575.txt\n",
            "Updated o0558.txt\n",
            "Updated O0491.txt\n",
            "Updated o0551.txt\n",
            "Updated o0556.txt\n",
            "Updated o0664.txt\n",
            "Updated O0594.txt\n",
            "Updated O0875.txt\n",
            "Updated O0795.txt\n",
            "Updated O0882.txt\n",
            "Updated O0840.txt\n",
            "Updated O0948.txt\n",
            "Updated O0700.txt\n",
            "Updated O0808.txt\n",
            "Updated O0796.txt\n",
            "Updated O1020.txt\n",
            "Updated o0656.txt\n",
            "Updated O1319.txt\n",
            "Updated O1399.txt\n",
            "Updated O1618.txt\n",
            "Updated O1189.txt\n",
            "Updated O1282.txt\n",
            "Updated O1010.txt\n",
            "Updated O0952.txt\n",
            "Updated p0040.txt\n",
            "Updated O1205.txt\n",
            "Updated P0090.txt\n",
            "Updated P0117.txt\n",
            "Updated O1240.txt\n",
            "Updated O1633.txt\n",
            "Updated P0049.txt\n",
            "Updated P0059.txt\n",
            "Updated P0105.txt\n",
            "Updated P0003.txt\n",
            "Updated P0114.txt\n",
            "Updated P0053.txt\n",
            "Updated p0240.txt\n",
            "Updated p0171.txt\n",
            "Updated p0233.txt\n",
            "Updated P0121.txt\n",
            "Updated P0202.txt\n",
            "Updated p0162.txt\n",
            "Updated P0118.txt\n",
            "Updated P0142.txt\n",
            "Updated P0200.txt\n",
            "Updated P0256.txt\n",
            "Updated p0260.txt\n",
            "Updated P0453.txt\n",
            "Updated P0362.txt\n",
            "Updated P0434.txt\n",
            "Updated P0389.txt\n",
            "Updated P0451.txt\n",
            "Updated P0424.txt\n",
            "Updated P0513.txt\n",
            "Updated P0483.txt\n",
            "Updated P0420.txt\n",
            "Updated P0298.txt\n",
            "Updated P0941.txt\n",
            "Updated P0526.txt\n",
            "Updated P0894.txt\n",
            "Updated P0768.txt\n",
            "Updated Q0003.txt\n",
            "Updated P0914.txt\n",
            "Updated P0639.txt\n",
            "Updated P0839.txt\n",
            "Updated P0693.txt\n",
            "Updated q0066.txt\n",
            "Updated q0114.txt\n",
            "Updated Q0031.txt\n",
            "Updated Q0158.txt\n",
            "Updated q0122.txt\n",
            "Updated q0083.txt\n",
            "Updated Q0077.txt\n",
            "Updated Q0094.txt\n",
            "Updated Q0108.txt\n",
            "Updated q0254.txt\n",
            "Updated q0205.txt\n",
            "Updated q0186.txt\n",
            "Updated Q0329.txt\n",
            "Updated q0214.txt\n",
            "Updated q0333.txt\n",
            "Updated Q0299.txt\n",
            "Updated q0326.txt\n",
            "Updated q0310.txt\n",
            "Updated Q0225.txt\n",
            "Updated q0398.txt\n",
            "Updated q0191.txt\n",
            "Updated q0490.txt\n",
            "Updated q0456.txt\n",
            "Updated q0358.txt\n",
            "Updated q0474.txt\n",
            "Updated q0436.txt\n",
            "Updated Q0391.txt\n",
            "Updated Q0432.txt\n",
            "Updated r0023.txt\n",
            "Updated Q0511.txt\n",
            "Updated r0017.txt\n",
            "Updated Q0379.txt\n",
            "Updated Q0567.txt\n",
            "Updated Q0564.txt\n",
            "Updated Q0549.txt\n",
            "Updated r0045.txt\n",
            "Updated R0035.txt\n",
            "Updated R0020.txt\n",
            "Updated r0080.txt\n",
            "Updated Q0602.txt\n",
            "Updated r0054.txt\n",
            "Updated r0173.txt\n",
            "Updated r0062.txt\n",
            "Updated r0094.txt\n",
            "Updated q0451.txt\n",
            "Updated r0104.txt\n",
            "Updated r0192.txt\n",
            "Updated R0095.txt\n",
            "Updated r0090.txt\n",
            "Updated r0229.txt\n",
            "Updated r0099.txt\n",
            "Updated r0391.txt\n",
            "Updated r0353.txt\n",
            "Updated r0376.txt\n",
            "Updated r0209.txt\n",
            "Updated r0321.txt\n",
            "Updated r0268.txt\n",
            "Updated r0348.txt\n",
            "Updated r0352.txt\n",
            "Updated R0224.txt\n",
            "Updated r0510.txt\n",
            "Updated r0468.txt\n",
            "Updated r0434.txt\n",
            "Updated r0444.txt\n",
            "Updated r0524.txt\n",
            "Updated r0474.txt\n",
            "Updated r0442.txt\n",
            "Updated r0471.txt\n",
            "Updated s0023.txt\n",
            "Updated r0516.txt\n",
            "Updated s0003.txt\n",
            "Updated s0041.txt\n",
            "Updated r0513.txt\n",
            "Updated s0029.txt\n",
            "Updated S0121.txt\n",
            "Updated s0134.txt\n",
            "Updated s0005.txt\n",
            "Updated s0143.txt\n",
            "Updated s0079.txt\n",
            "Updated S0232.txt\n",
            "Updated s0066.txt\n",
            "Updated s0183.txt\n",
            "Updated S0135.txt\n",
            "Updated S0115.txt\n",
            "Updated s0154.txt\n",
            "Updated s0274.txt\n",
            "Updated s0252.txt\n",
            "Updated S0272.txt\n",
            "Updated S0216.txt\n",
            "Updated s0217.txt\n",
            "Updated s0388.txt\n",
            "Updated s0306.txt\n",
            "Updated s0377.txt\n",
            "Updated s0386.txt\n",
            "Updated s0277.txt\n",
            "Updated S0382.txt\n",
            "Updated S0365.txt\n",
            "Updated s0327.txt\n",
            "Updated S0284.txt\n",
            "Updated s0346.txt\n",
            "Updated S0444.txt\n",
            "Updated S0390.txt\n",
            "Updated S0417.txt\n",
            "Updated S0431.txt\n",
            "Updated s0423.txt\n",
            "Updated s0466.txt\n",
            "Updated s0478.txt\n",
            "Updated S0447.txt\n",
            "Updated S0504.txt\n",
            "Updated T0030.txt\n",
            "Updated s0458.txt\n",
            "Updated S0402.txt\n",
            "Updated T0114.txt\n",
            "Updated T0033.txt\n",
            "Updated T0043.txt\n",
            "Updated T0080.txt\n",
            "Updated T0048.txt\n",
            "Updated T0042.txt\n",
            "Updated T0111.txt\n",
            "Updated T0082.txt\n",
            "Updated T0240.txt\n",
            "Updated T0166.txt\n",
            "Updated T0267.txt\n",
            "Updated T0493.txt\n",
            "Updated T0162.txt\n",
            "Updated T0448.txt\n",
            "Updated T0560.txt\n",
            "Updated T0381.txt\n",
            "Updated T0255.txt\n",
            "Updated T0330.txt\n",
            "Updated T0686.txt\n",
            "Updated T0669.txt\n",
            "Updated T0670.txt\n",
            "Updated T0794.txt\n",
            "Updated T0650.txt\n",
            "Updated T0862.txt\n",
            "Updated T0700.txt\n",
            "Updated T0829.txt\n",
            "Updated T0741.txt\n",
            "Updated T0774.txt\n",
            "Updated U0003.txt\n",
            "Updated T0916.txt\n",
            "Updated T0907.txt\n",
            "Updated U0027.txt\n",
            "Updated u0004.txt\n",
            "Updated T0980.txt\n",
            "Updated u0020.txt\n",
            "Updated u0014.txt\n",
            "Updated T0919.txt\n",
            "Updated T1038.txt\n",
            "Updated u0241.txt\n",
            "Updated U0159.txt\n",
            "Updated U0071.txt\n",
            "Updated u0082.txt\n",
            "Updated U0230.txt\n",
            "Updated u0283.txt\n",
            "Updated u0063.txt\n",
            "Updated U0155.txt\n",
            "Updated u0051.txt\n",
            "Updated U0124.txt\n",
            "Updated u0466.txt\n",
            "Updated u0497.txt\n",
            "Updated U0518(1).txt\n",
            "Updated u0518.txt\n",
            "Updated v0080.txt\n",
            "Updated V0067.txt\n",
            "Updated V0078.txt\n",
            "Updated V0163.txt\n",
            "Updated v0256.txt\n",
            "Updated v0141.txt\n",
            "Updated u0513.txt\n",
            "Updated V0211.txt\n",
            "Updated V0250.txt\n",
            "Updated V0183.txt\n",
            "Updated v0252.txt\n",
            "Updated v0182.txt\n",
            "Updated V0269.txt\n",
            "Updated v0244.txt\n",
            "Updated v0212.txt\n",
            "Updated V0193.txt\n",
            "Updated v0292.txt\n",
            "Updated v0372.txt\n",
            "Updated v0334.txt\n",
            "Updated v0403.txt\n",
            "Updated V0332.txt\n",
            "Updated v0462.txt\n",
            "Updated v0316.txt\n",
            "Updated V0364.txt\n",
            "Updated v0461.txt\n",
            "Updated V0459.txt\n",
            "Updated V0518.txt\n",
            "Updated v0487.txt\n",
            "Updated V0510.txt\n",
            "Updated V0469.txt\n",
            "Updated V0538.txt\n",
            "Updated v0522.txt\n",
            "Updated v0550.txt\n",
            "Updated v0472.txt\n",
            "Updated V0589.txt\n",
            "Updated v0477.txt\n",
            "Updated v0530.txt\n",
            "Updated v0678.txt\n",
            "Updated v0657.txt\n",
            "Updated V0638.txt\n",
            "Updated V0604.txt\n",
            "Updated V0649.txt\n",
            "Updated v0596.txt\n",
            "Updated v0743.txt\n",
            "Updated v0759.txt\n",
            "Updated v0673.txt\n",
            "Updated v0911.txt\n",
            "Updated v0869.txt\n",
            "Updated W0054.txt\n",
            "Updated v0827.txt\n",
            "Updated v0792.txt\n",
            "Updated W0122.txt\n",
            "Updated v0836.txt\n",
            "Updated W0150.txt\n",
            "Updated v0817.txt\n",
            "Updated W0112.txt\n",
            "Updated W0188.txt\n",
            "Updated w0211.txt\n",
            "Updated W0213.txt\n",
            "Updated W0222.txt\n",
            "Updated W0224.txt\n",
            "Updated w0236.txt\n",
            "Updated w0234.txt\n",
            "Updated w0216.txt\n",
            "Updated W0236(1).txt\n",
            "Updated w0400.txt\n",
            "Updated W0364.txt\n",
            "Updated W0358.txt\n",
            "Updated W0184.txt\n",
            "Updated w0238.txt\n",
            "Updated W0307.txt\n",
            "Updated W0399.txt\n",
            "Updated W0318.txt\n",
            "Updated W0257.txt\n",
            "Updated W0280.txt\n",
            "Updated w0460.txt\n",
            "Updated w0239.txt\n",
            "Updated W0490.txt\n",
            "Updated W0565.txt\n",
            "Updated W0480.txt\n",
            "Updated W0455.txt\n",
            "Updated W0528.txt\n",
            "Updated W0447.txt\n",
            "Updated w0493.txt\n",
            "Updated W0647.txt\n",
            "Updated W0470.txt\n",
            "Updated w0571.txt\n",
            "Updated W0425.txt\n",
            "Updated W0700.txt\n",
            "Updated w0684.txt\n",
            "Updated w0582.txt\n",
            "Updated w0711.txt\n",
            "Updated W0723.txt\n",
            "Updated w0697.txt\n",
            "Updated W0739.txt\n",
            "Updated W0654.txt\n",
            "Updated W0741.txt\n",
            "Updated w0823.txt\n",
            "Updated w0763.txt\n",
            "Updated W0766.txt\n",
            "Updated W0906.txt\n",
            "Updated w0780.txt\n",
            "Updated W0942.txt\n",
            "Updated W1147.txt\n",
            "Updated W0943.txt\n",
            "Updated W0827.txt\n",
            "Updated x0007.txt\n",
            "Updated W1094.txt\n",
            "Updated W1035.txt\n",
            "Updated W1027.txt\n",
            "Updated W1195.txt\n",
            "Updated x0014.txt\n",
            "Updated W1063.txt\n",
            "Updated X0192.txt\n",
            "Updated W0970.txt\n",
            "Updated X0185.txt\n",
            "Updated X0175.txt\n",
            "Updated X0040.txt\n",
            "Updated W1082.txt\n",
            "Updated W0959.txt\n",
            "Updated x0165.txt\n",
            "Updated X0039.txt\n",
            "Updated x0019.txt\n",
            "Updated X0015.txt\n",
            "Updated x0078.txt\n",
            "Updated X0148.txt\n",
            "Updated X0215.txt\n",
            "Updated X0275.txt\n",
            "Updated X0204.txt\n",
            "Updated x0237.txt\n",
            "Updated x0279.txt\n",
            "Updated X0214.txt\n",
            "Updated x0285.txt\n",
            "Updated X0268.txt\n",
            "Updated X0281.txt\n",
            "Updated X0227.txt\n",
            "Updated X0299.txt\n",
            "Updated X0294.txt\n",
            "Updated x0351.txt\n",
            "Updated x0434.txt\n",
            "Updated X0439.txt\n",
            "Updated x0335.txt\n",
            "Updated X0440.txt\n",
            "Updated x0459.txt\n",
            "Updated X0427.txt\n",
            "Updated x0438.txt\n",
            "Updated x0479.txt\n",
            "Updated X0533.txt\n",
            "Updated x0562.txt\n",
            "Updated X0603.txt\n",
            "Updated x0515.txt\n",
            "Updated X0619.txt\n",
            "Updated x0579.txt\n",
            "Updated x0598.txt\n",
            "Updated X0574.txt\n",
            "Updated X0594.txt\n",
            "Updated x0748.txt\n",
            "Updated x0774.txt\n",
            "Updated x0723.txt\n",
            "Updated X0702.txt\n",
            "Updated x0675.txt\n",
            "Updated X0731.txt\n",
            "Updated x0727.txt\n",
            "Updated X0750.txt\n",
            "Updated x0767.txt\n",
            "Updated X0835.txt\n",
            "Updated X0643.txt\n",
            "Updated x0862.txt\n",
            "Updated X0793.txt\n",
            "Updated x0913.txt\n",
            "Updated X0906.txt\n",
            "Updated x0849.txt\n",
            "Updated X0881.txt\n",
            "Updated X0887.txt\n",
            "Updated x0927.txt\n",
            "Updated x0981.txt\n",
            "Updated x0877.txt\n",
            "Updated X0934.txt\n",
            "Updated X1104.txt\n",
            "Updated X1103.txt\n",
            "Updated X0971.txt\n",
            "Updated X1100.txt\n",
            "Updated X1096.txt\n",
            "Updated x1099.txt\n",
            "Updated x1043.txt\n",
            "Updated x1118.txt\n",
            "Updated x1237.txt\n",
            "Updated X1152.txt\n",
            "Updated X1261.txt\n",
            "Updated X1312.txt\n",
            "Updated X1177.txt\n",
            "Updated X1239.txt\n",
            "Updated x1292.txt\n",
            "Updated x1249.txt\n",
            "Updated X1256.txt\n",
            "Updated X1124.txt\n",
            "Updated X1371.txt\n",
            "Updated x1341.txt\n",
            "Updated X1377.txt\n",
            "Updated X1352.txt\n",
            "Updated x1350.txt\n",
            "Updated X1318.txt\n",
            "Updated X1372(1).txt\n",
            "Updated x1372.txt\n",
            "Updated x1379.txt\n",
            "Updated x1356.txt\n",
            "Updated x1409.txt\n",
            "Updated x1493.txt\n",
            "Updated X1476.txt\n",
            "Updated x1498.txt\n",
            "Updated x1507.txt\n",
            "Updated x1439.txt\n",
            "Updated X1556.txt\n",
            "Updated X1471.txt\n",
            "Updated x1422.txt\n",
            "Updated X1568.txt\n",
            "Updated y0004.txt\n",
            "Updated x1509.txt\n",
            "Updated X1631.txt\n",
            "Updated X1584.txt\n",
            "Updated X1722.txt\n",
            "Updated X1643.txt\n",
            "Updated X1737.txt\n",
            "Updated X1752.txt\n",
            "Updated X1651.txt\n",
            "Updated X1702.txt\n",
            "Updated Y0014.txt\n",
            "Updated y0053.txt\n",
            "Updated Y0118.txt\n",
            "Updated Y0123.txt\n",
            "Updated Y0124.txt\n",
            "Updated Y0025.txt\n",
            "Updated Y0044.txt\n",
            "Updated Y0130.txt\n",
            "Updated y0033.txt\n",
            "Updated y0205.txt\n",
            "Updated y0090.txt\n",
            "Updated Y0195.txt\n",
            "Updated Y0207.txt\n",
            "Updated Y0286.txt\n",
            "Updated y0273.txt\n",
            "Updated Y0213.txt\n",
            "Updated Y0165.txt\n",
            "Updated y0300.txt\n",
            "Updated y0221.txt\n",
            "Updated y0239.txt\n",
            "Updated Y0369.txt\n",
            "Updated y0315.txt\n",
            "Updated Y0322.txt\n",
            "Updated y0353.txt\n",
            "Updated y0341.txt\n",
            "Updated y0358.txt\n",
            "Updated Y0325.txt\n",
            "Updated y0345.txt\n",
            "Updated Y0401.txt\n",
            "Updated Y0333.txt\n",
            "Updated Y0503.txt\n",
            "Updated y0319.txt\n",
            "Updated y0618.txt\n",
            "Updated y0406.txt\n",
            "Updated y0432.txt\n",
            "Updated Y0562.txt\n",
            "Updated Y0377.txt\n",
            "Updated y0388.txt\n",
            "Updated Y0491.txt\n",
            "Updated Y0589.txt\n",
            "Updated Y0693.txt\n",
            "Updated Y0637.txt\n",
            "Updated y0707.txt\n",
            "Updated y0747.txt\n",
            "Updated y0621.txt\n",
            "Updated y0858.txt\n",
            "Updated y0685.txt\n",
            "Updated Y0748.txt\n",
            "Updated y0631.txt\n",
            "Updated Y0757.txt\n",
            "Updated y0852.txt\n",
            "Updated Y0812.txt\n",
            "Updated y0647.txt\n",
            "Updated Y0860.txt\n",
            "Updated Y0772.txt\n",
            "Updated Y0842.txt\n",
            "Updated y0762.txt\n",
            "Updated Y0827.txt\n",
            "Updated y0850.txt\n",
            "Updated Y0803.txt\n",
            "Updated y0890.txt\n",
            "Updated y0868.txt\n",
            "Updated y0927.txt\n",
            "Updated Y0921.txt\n",
            "Updated Y0967.txt\n",
            "Updated Y0974.txt\n",
            "Updated y0905.txt\n",
            "Updated Y0955.txt\n",
            "Updated y0948.txt\n",
            "Updated Y0935.txt\n",
            "Updated Y0992.txt\n",
            "Updated y1170.txt\n",
            "Updated Y1130.txt\n",
            "Updated Y1152.txt\n",
            "Updated y1095.txt\n",
            "Updated y1054.txt\n",
            "Updated y1035.txt\n",
            "Updated y1192.txt\n",
            "Updated Y1021.txt\n",
            "Updated Y0975.txt\n",
            "Updated y1370.txt\n",
            "Updated Y1203.txt\n",
            "Updated y1281.txt\n",
            "Updated y1373.txt\n",
            "Updated y1339.txt\n",
            "Updated y1324.txt\n",
            "Updated y1315.txt\n",
            "Updated y1229.txt\n",
            "Updated y1232.txt\n",
            "Updated y1217.txt\n",
            "Updated za0027.txt\n",
            "Updated za0050.txt\n",
            "Updated za0075.txt\n",
            "Updated y1490.txt\n",
            "Updated y1400.txt\n",
            "Updated za0023.txt\n",
            "Updated za0014.txt\n",
            "Updated za0016.txt\n",
            "Updated ZA0146.txt\n",
            "Updated y1484.txt\n",
            "Updated ZA0194.txt\n",
            "Updated za0113.txt\n",
            "Updated y1442.txt\n",
            "Updated ZA0186.txt\n",
            "Updated ZA0094.txt\n",
            "Updated za0145.txt\n",
            "Updated za0160.txt\n",
            "Updated za0093.txt\n",
            "Updated za0215.txt\n",
            "Updated ZA0240.txt\n",
            "Updated za0273.txt\n",
            "Updated ZA0379.txt\n",
            "Updated za0371.txt\n",
            "Updated za0380.txt\n",
            "Updated ZA0368.txt\n",
            "Updated za0387.txt\n",
            "Updated za0382.txt\n",
            "Updated za0308.txt\n",
            "Updated za0332.txt\n",
            "Updated ZA0195.txt\n",
            "Updated za0452.txt\n",
            "Updated ZA0420.txt\n",
            "Updated za0715.txt\n",
            "Updated za0427.txt\n",
            "Updated ZA0413.txt\n",
            "Updated ZA0674.txt\n",
            "Updated za0489.txt\n",
            "Updated ZA0729.txt\n",
            "Updated za0757.txt\n",
            "Updated za0722.txt\n",
            "Updated za0538.txt\n",
            "Updated za0780.txt\n",
            "Updated za0824.txt\n",
            "Updated za0822.txt\n",
            "Updated ZA0773.txt\n",
            "Updated za0858.txt\n",
            "Updated ZA0757(1).txt\n",
            "Updated za0913.txt\n",
            "Updated ZA0914.txt\n",
            "Updated za0751.txt\n",
            "Updated ZA0947.txt\n",
            "Updated ZB0032.txt\n",
            "Updated ZA0862.txt\n",
            "Updated ZA0967.txt\n",
            "Updated ZB0042.txt\n",
            "Updated za1049.txt\n",
            "Updated ZB0128.txt\n",
            "Updated za0966.txt\n",
            "Updated zb0155.txt\n",
            "Updated zb0090.txt\n",
            "Updated zb0147.txt\n",
            "Updated zb0081.txt\n",
            "Updated ZB0114.txt\n",
            "Updated ZA1017.txt\n",
            "Updated zb0082.txt\n",
            "Updated ZB0079.txt\n",
            "Updated ZB0103.txt\n",
            "Updated za1020.txt\n",
            "Updated zb0242.txt\n",
            "Updated zb0158.txt\n",
            "Updated ZB0136.txt\n",
            "Updated zb0166.txt\n",
            "Updated ZB0308.txt\n",
            "Updated ZB0182.txt\n",
            "Updated zb0140.txt\n",
            "Updated ZB0247.txt\n",
            "Updated ZB0237.txt\n",
            "Updated zb0243.txt\n",
            "Updated zb0322.txt\n",
            "Updated zb0327.txt\n",
            "Updated ZB0288.txt\n",
            "Updated zb0348.txt\n",
            "Updated ZB0417.txt\n",
            "Updated zb0282.txt\n",
            "Updated zb0377.txt\n",
            "Updated zb0402.txt\n",
            "Updated ZB0325.txt\n",
            "Updated zb0375.txt\n",
            "Updated zb0374.txt\n",
            "Updated ZB0323.txt\n",
            "Updated ZB0516.txt\n",
            "Updated zb0439.txt\n",
            "Updated zb0443.txt\n",
            "Updated zb0569.txt\n",
            "Updated zb0481.txt\n",
            "Updated zb0528.txt\n",
            "Updated ZB0471.txt\n",
            "Updated ZB0433.txt\n",
            "Updated zb0501.txt\n",
            "Updated zb0682.txt\n",
            "Updated ZB0737.txt\n",
            "Updated zb0508.txt\n",
            "Updated zb0654.txt\n",
            "Updated zb0653.txt\n",
            "Updated ZB0583.txt\n",
            "Updated zb0670.txt\n",
            "Updated zb0645.txt\n",
            "Updated zb0642.txt\n",
            "Updated zb0693.txt\n",
            "Updated ZB0904.txt\n",
            "Updated zc0024.txt\n",
            "Updated ZB1022.txt\n",
            "Updated zc0748.txt\n",
            "Updated ZC0973.txt\n",
            "Updated ZC0969.txt\n",
            "Updated ZC0589.txt\n",
            "Updated ZC1052.txt\n",
            "Updated zc1244.txt\n",
            "Updated ZC1274(1).txt\n",
            "Updated ZC1244(1).txt\n",
            "Updated o0032 (1).txt\n",
            "Updated a0429.txt\n",
            "Updated a0440.txt\n",
            "Updated B0013.txt\n",
            "Updated A0929(1).txt\n",
            "Updated A1147.txt\n",
            "Updated b0041.txt\n",
            "Updated B0052.txt\n",
            "Updated b0299.txt\n",
            "Updated c0122.txt\n",
            "Updated b0139.txt\n",
            "Updated c0426.txt\n",
            "Updated d0002.txt\n",
            "Updated e0008.txt\n",
            "Updated E0889.txt\n",
            "Updated e0772.txt\n",
            "Updated E0118.txt\n",
            "Updated e0810.txt\n",
            "Updated e1025.txt\n",
            "Updated k0234.txt\n",
            "Updated k0262.txt\n",
            "Updated e0954.txt\n",
            "Updated F0238.txt\n",
            "Updated M0489.txt\n",
            "Updated M0521.txt\n",
            "Updated M0513.txt\n",
            "Updated M0505.txt\n",
            "Updated M0540.txt\n",
            "Updated M0584.txt\n",
            "Updated m0485.txt\n",
            "Updated M0532.txt\n",
            "Updated M0581.txt\n",
            "Updated m0436.txt\n",
            "Updated M0660.txt\n",
            "Updated M0725.txt\n",
            "Updated M0662.txt\n",
            "Updated M0619.txt\n",
            "Updated N0007.txt\n",
            "Updated M0614.txt\n",
            "No changes needed for O0008 (2).txt\n",
            "No changes needed for O0008.txt\n",
            "No changes needed for U0337 (2).txt\n",
            "No changes needed for N1125 (2).txt\n",
            "No changes needed for o0007 (2).txt\n",
            "No changes needed for U0337.txt\n",
            "No changes needed for o0007.txt\n",
            "No changes needed for o0039 (2).txt\n",
            "No changes needed for N1125.txt\n",
            "No changes needed for o0039.txt\n",
            "No changes needed for N1103 (2).txt\n",
            "No changes needed for N1103.txt\n",
            "No changes needed for U0448 (2).txt\n",
            "No changes needed for N1033 (2).txt\n",
            "No changes needed for U0448.txt\n",
            "No changes needed for N1033.txt\n",
            "No changes needed for U0347 (2).txt\n",
            "No changes needed for U0347.txt\n",
            "No changes needed for U0295 (2).txt\n",
            "No changes needed for U0295.txt\n",
            "No changes needed for U0445 (2).txt\n",
            "No changes needed for u0304 (2).txt\n",
            "No changes needed for U0445.txt\n",
            "No changes needed for u0304.txt\n",
            "No changes needed for O0010 (2).txt\n",
            "No changes needed for O0010.txt\n",
            "No changes needed for N1037 (2).txt\n",
            "No changes needed for N1037.txt\n",
            "No changes needed for u0371 (2).txt\n",
            "No changes needed for u0371.txt\n",
            "No changes needed for o0032 (2).txt\n",
            "No changes needed for u0312 (2).txt\n",
            "No changes needed for o0032.txt\n",
            "No changes needed for u0312.txt\n",
            "No changes needed for u0432 (2).txt\n",
            "No changes needed for u0432.txt\n",
            "No changes needed for o0034 (2).txt\n",
            "No changes needed for o0034.txt\n",
            "No changes needed for u0375 (2).txt\n",
            "No changes needed for u0375.txt\n",
            "Updated zb0743.txt\n",
            "Updated ZB0820.txt\n",
            "Updated ZB0754.txt\n",
            "Updated ZB0772.txt\n",
            "Updated zb0818.txt\n",
            "Updated ZB0840.txt\n",
            "Updated zb0758.txt\n",
            "Updated zb0770.txt\n",
            "Updated zb0755.txt\n",
            "Updated zb0800.txt\n",
            "Updated ZB0952.txt\n",
            "Updated zb0948.txt\n",
            "Updated zb0912.txt\n",
            "Updated zb0862.txt\n",
            "Updated zb0971.txt\n",
            "Updated ZB0964.txt\n",
            "Updated ZB0949.txt\n",
            "Updated ZB0948(1).txt\n",
            "Updated ZB1004.txt\n",
            "Updated zb0905.txt\n",
            "Updated zb1000.txt\n",
            "Updated zb1073.txt\n",
            "Updated zb1025.txt\n",
            "Updated ZB0978.txt\n",
            "Updated ZB1052.txt\n",
            "Updated zb1074.txt\n",
            "Updated ZB1055.txt\n",
            "Updated ZB1008.txt\n",
            "Updated zb1157.txt\n",
            "Updated ZB0992.txt\n",
            "Updated zb1090.txt\n",
            "Updated ZB1447.txt\n",
            "Updated ZB1430.txt\n",
            "Updated ZB1387.txt\n",
            "Updated ZB1418.txt\n",
            "Updated zb1132.txt\n",
            "Updated ZB1185.txt\n",
            "Updated ZB1547.txt\n",
            "Updated zb1205.txt\n",
            "Updated ZC0012.txt\n",
            "Updated zc0036.txt\n",
            "Updated zc0046.txt\n",
            "Updated zc0022.txt\n",
            "Updated zc0030.txt\n",
            "Updated ZC0042.txt\n",
            "Updated ZB1604.txt\n",
            "Updated zc0063.txt\n",
            "Updated ZC0091.txt\n",
            "Updated ZC0299.txt\n",
            "Updated zc0189.txt\n",
            "Updated zc0138.txt\n",
            "Updated ZC0199.txt\n",
            "Updated ZC0151.txt\n",
            "Updated ZC0181.txt\n",
            "Updated ZC0262.txt\n",
            "Updated zc0225.txt\n",
            "Updated ZC0370.txt\n",
            "Updated zc0412.txt\n",
            "Updated ZC0327.txt\n",
            "Updated ZC0367.txt\n",
            "Updated ZC0252.txt\n",
            "Updated zc0345.txt\n",
            "Updated zc0218.txt\n",
            "Updated ZC0383.txt\n",
            "Updated zc0459.txt\n",
            "Updated zc0312.txt\n",
            "Updated ZC0401.txt\n",
            "Updated zc0476.txt\n",
            "Updated ZC0454.txt\n",
            "Updated ZC0545.txt\n",
            "Updated zc0539.txt\n",
            "Updated zc0556.txt\n",
            "Updated ZC0608.txt\n",
            "Updated ZC0651.txt\n",
            "Updated zc0563.txt\n",
            "Updated zc0706.txt\n",
            "Updated zc0656.txt\n",
            "Updated zc0743.txt\n",
            "Updated ZC0711.txt\n",
            "Updated zc0802.txt\n",
            "Updated zc0836.txt\n",
            "Updated ZC0761.txt\n",
            "Updated zc0735.txt\n",
            "Updated zc0837.txt\n",
            "Updated zc0865.txt\n",
            "Updated ZC0942.txt\n",
            "Updated ZC0919.txt\n",
            "Updated ZC0728.txt\n",
            "Updated zc1044.txt\n",
            "Updated ZC0986.txt\n",
            "Updated ZC1043.txt\n",
            "Updated ZC0982.txt\n",
            "Updated ZC0917.txt\n",
            "Updated ZC0879.txt\n",
            "Updated ZC1102.txt\n",
            "Updated zc1201.txt\n",
            "Updated ZC1159.txt\n",
            "Updated ZC1108.txt\n",
            "Updated zc1076.txt\n",
            "Updated zc1166.txt\n",
            "Updated ZC1155.txt\n",
            "Updated ZC1124.txt\n",
            "Updated ZC1260.txt\n",
            "Updated ZC1105.txt\n",
            "Updated zc1208.txt\n",
            "Updated zc1236.txt\n",
            "Updated ZC1205.txt\n",
            "Updated zc1227.txt\n",
            "Updated zc1230.txt\n",
            "Updated zc1213.txt\n",
            "Updated zc1466.txt\n",
            "Updated zc1343.txt\n",
            "Updated zc1384.txt\n",
            "Updated zc1577.txt\n",
            "Updated zc1274.txt\n",
            "Updated zc1609.txt\n",
            "Updated zc1387.txt\n",
            "Updated zc1502.txt\n",
            "Updated zc1378.txt\n",
            "Updated ZC1351.txt\n",
            "Updated zc1702.txt\n",
            "Updated u0312 (1).txt\n",
            "Updated u0375 (1).txt\n",
            "Updated o0034 (1).txt\n",
            "Updated u0432 (1).txt\n",
            "Updated o0007 (1).txt\n",
            "Updated N1125 (1).txt\n",
            "Updated O0008 (1).txt\n",
            "Updated o0039 (1).txt\n",
            "Updated U0337 (1).txt\n",
            "Updated N1103 (1).txt\n",
            "Updated U0448 (1).txt\n",
            "Updated N1033 (1).txt\n",
            "Updated U0347 (1).txt\n",
            "Updated U0295 (1).txt\n",
            "Updated u0304 (1).txt\n",
            "Updated U0445 (1).txt\n",
            "Updated O0010 (1).txt\n",
            "Updated N1037 (1).txt\n",
            "Updated u0371 (1).txt\n",
            "Updated A0103(1).txt\n",
            "Updated A0063.txt\n",
            "Updated a0103.txt\n",
            "Updated A0047.txt\n",
            "Updated a0010.txt\n",
            "Updated a0066.txt\n",
            "Updated a0012.txt\n",
            "Updated a0081.txt\n",
            "Updated A0074.txt\n",
            "Updated A0095.txt\n",
            "Updated a0117.txt\n",
            "Updated a0131.txt\n",
            "Updated a0132.txt\n",
            "Updated a0195.txt\n",
            "Updated a0200.txt\n",
            "Updated A0143.txt\n",
            "Updated A0271.txt\n",
            "Updated A0179.txt\n",
            "Updated a0257.txt\n",
            "Updated A0312.txt\n",
            "Updated A0320.txt\n",
            "Updated A0335.txt\n",
            "Updated a0345.txt\n",
            "Updated a0356.txt\n",
            "Updated a0343.txt\n",
            "Updated a0318.txt\n",
            "Updated A0390.txt\n",
            "Updated A0392.txt\n",
            "Updated A0415.txt\n",
            "Updated A0348.txt\n",
            "Updated a0422.txt\n",
            "Updated a0427.txt\n",
            "Updated A0437.txt\n",
            "Updated a0447.txt\n",
            "Updated A0478.txt\n",
            "Updated a0453.txt\n",
            "Updated a0471.txt\n",
            "Updated A0466.txt\n",
            "Updated a0487.txt\n",
            "Updated a0495.txt\n",
            "Updated A0474.txt\n",
            "Updated A0524.txt\n",
            "Updated A0527.txt\n",
            "Updated a0537.txt\n",
            "Updated a0496.txt\n",
            "Updated a0532.txt\n",
            "Updated a0562.txt\n",
            "Updated a0613.txt\n",
            "Updated a0621.txt\n",
            "Updated a0629.txt\n",
            "Updated A0638.txt\n",
            "Updated A0702.txt\n",
            "Updated A0653.txt\n",
            "Updated a0644.txt\n",
            "Updated A0664.txt\n",
            "Updated A0657.txt\n",
            "Updated A0710.txt\n",
            "Updated a0668.txt\n",
            "Updated a0676.txt\n",
            "Updated a0698.txt\n",
            "Updated a0762.txt\n",
            "Updated a0750.txt\n",
            "Updated A0714.txt\n",
            "Updated A0883.txt\n",
            "Updated a0720.txt\n",
            "Updated a0814.txt\n",
            "Updated a0769.txt\n",
            "Updated A0801.txt\n",
            "Updated A0855.txt\n",
            "Updated A0859.txt\n",
            "Updated A0905.txt\n",
            "Updated a0898.txt\n",
            "Updated A0957.txt\n",
            "Updated a0965.txt\n",
            "Updated A0924.txt\n",
            "Updated A0923.txt\n",
            "Updated a0929.txt\n",
            "Updated A0939.txt\n",
            "Updated A0940.txt\n",
            "Updated a0978.txt\n",
            "Updated A0972(1).txt\n",
            "Updated a0990.txt\n",
            "Updated a1000.txt\n",
            "Updated a0972.txt\n",
            "Updated A1075(1).txt\n",
            "Updated a1039.txt\n",
            "Updated a1046.txt\n",
            "Updated a1099.txt\n",
            "Updated A1135.txt\n",
            "Updated A1118.txt\n",
            "Updated A1137.txt\n",
            "Updated A1160.txt\n",
            "Updated A1155.txt\n",
            "Updated a1173.txt\n",
            "Updated a1075.txt\n",
            "Updated a1164.txt\n",
            "Updated A1205.txt\n",
            "Updated A1189.txt\n",
            "Updated a1192.txt\n",
            "Updated A1272.txt\n",
            "Updated A1276.txt\n",
            "Updated A1307.txt\n",
            "Updated A1223.txt\n",
            "Updated A1185.txt\n",
            "Updated A1405.txt\n",
            "Updated a1255.txt\n",
            "Updated A1422.txt\n",
            "Updated A1403.txt\n",
            "Updated b0051.txt\n",
            "Updated b0072.txt\n",
            "Updated B0078.txt\n",
            "Updated B0111.txt\n",
            "Updated b0143.txt\n",
            "Updated b0163.txt\n",
            "Updated b0102.txt\n",
            "Updated B0154.txt\n",
            "Updated b0227.txt\n",
            "Updated b0155.txt\n",
            "Updated b0151.txt\n",
            "Updated B0261.txt\n",
            "Updated B0270.txt\n",
            "Updated b0244.txt\n",
            "Updated b0263.txt\n",
            "Updated b0478.txt\n",
            "Updated b0461.txt\n",
            "Updated b0283.txt\n",
            "Updated B0290.txt\n",
            "Updated b0500.txt\n",
            "Updated C0046(1).txt\n",
            "Updated c0046.txt\n",
            "Updated c0064.txt\n",
            "Updated c0096.txt\n",
            "Updated C0130.txt\n",
            "Updated c0142.txt\n",
            "Updated C0214.txt\n",
            "Updated C0264.txt\n",
            "Updated C0248.txt\n",
            "Updated c0242.txt\n",
            "Updated C0224.txt\n",
            "Updated C0271.txt\n",
            "Updated C0275.txt\n",
            "Updated c0296.txt\n",
            "Updated c0328.txt\n",
            "Updated c0308.txt\n",
            "Updated c0354.txt\n",
            "Updated c0320.txt\n",
            "Updated c0333.txt\n",
            "Updated c0441.txt\n",
            "Updated D0043.txt\n",
            "Updated c0389.txt\n",
            "Updated d0041.txt\n",
            "Updated d0060.txt\n",
            "Updated D0064.txt\n",
            "Updated d0057.txt\n",
            "Updated d0090.txt\n",
            "Updated d0070.txt\n",
            "Updated d0109.txt\n",
            "Updated d0150.txt\n",
            "Updated d0131.txt\n",
            "Updated d0276.txt\n",
            "Updated d0158.txt\n",
            "Updated d0337.txt\n",
            "Updated d0293.txt\n",
            "Updated d0201.txt\n",
            "Updated d0360.txt\n",
            "Updated d0372.txt\n",
            "Updated d0402.txt\n",
            "Updated d0406.txt\n",
            "Updated d0228.txt\n",
            "Updated d0475.txt\n",
            "Updated d0576.txt\n",
            "Updated d0518.txt\n",
            "Updated d0584.txt\n",
            "Updated d0652.txt\n",
            "Updated d0664.txt\n",
            "Updated d0659.txt\n",
            "Updated d0673.txt\n",
            "Updated d0674.txt\n",
            "Updated d0746.txt\n",
            "Updated d0762.txt\n",
            "Updated d0760.txt\n",
            "Updated d0741.txt\n",
            "Updated d0773.txt\n",
            "Updated d0804.txt\n",
            "Updated d0800.txt\n",
            "Updated d0808.txt\n",
            "Updated d0916.txt\n",
            "Updated d0836.txt\n",
            "Updated d0871.txt\n",
            "Updated d1011.txt\n",
            "Updated d0912.txt\n",
            "Updated d1015.txt\n",
            "Updated E0001.txt\n",
            "Updated E0076.txt\n",
            "Updated E0111.txt\n",
            "Updated e0112.txt\n",
            "Updated E0074.txt\n",
            "Updated e0036.txt\n",
            "Updated E0205.txt\n",
            "Updated E0209.txt\n",
            "Updated e0243.txt\n",
            "Updated e0242.txt\n",
            "Updated e0275.txt\n",
            "Updated e0250.txt\n",
            "Updated e0174.txt\n",
            "Updated e0156.txt\n",
            "Updated e0278.txt\n",
            "Updated e0298.txt\n",
            "Updated e0258.txt\n",
            "Updated e0286.txt\n",
            "Updated E0327.txt\n",
            "Updated E0321(1).txt\n",
            "Updated e0339.txt\n",
            "Updated e0321.txt\n",
            "Updated e0324.txt\n",
            "Updated e0305.txt\n",
            "Updated e0372.txt\n",
            "Updated E0306.txt\n",
            "Updated E0388.txt\n",
            "Updated E0382.txt\n",
            "Updated E0433.txt\n",
            "Updated e0401.txt\n",
            "Updated E0391.txt\n",
            "Updated E0435.txt\n",
            "Updated e0472.txt\n",
            "Updated e0410.txt\n",
            "Updated e0479.txt\n",
            "Updated E0479(1).txt\n",
            "Updated E0625.txt\n",
            "Updated E0603.txt\n",
            "Updated E0528.txt\n",
            "Updated e0576.txt\n",
            "Updated E0586.txt\n",
            "Updated E0635.txt\n",
            "Updated E0643.txt\n",
            "Updated E0661.txt\n",
            "Updated E0691.txt\n",
            "Updated e0738.txt\n",
            "Updated E0844.txt\n",
            "Updated e0819.txt\n",
            "Updated e0876.txt\n",
            "Updated e0959.txt\n",
            "Updated E0963.txt\n",
            "Updated E0908.txt\n",
            "Updated e0531.txt\n",
            "Updated E0980.txt\n",
            "Updated e1062.txt\n",
            "Updated E1026.txt\n",
            "Updated F0037.txt\n",
            "Updated e1043.txt\n",
            "Updated F0292.txt\n",
            "Updated G0448.txt\n",
            "Updated F0056.txt\n",
            "Updated h0223.txt\n",
            "Updated h0493.txt\n",
            "Updated h0556.txt\n",
            "Updated i0169.txt\n",
            "Updated i0390.txt\n",
            "Updated I0110.txt\n",
            "Updated I0495.txt\n",
            "Updated I0849.txt\n",
            "Updated I1156.txt\n",
            "Updated j0031.txt\n",
            "Updated E0987.txt\n",
            "Updated K0046.txt\n",
            "Updated J0473.txt\n",
            "Updated K0305.txt\n",
            "Updated K0362.txt\n",
            "Updated K0422.txt\n",
            "Updated k0383.txt\n",
            "Updated K0220.txt\n",
            "Updated k0403.txt\n",
            "Updated K0437.txt\n",
            "Updated k0537.txt\n",
            "Updated k0407.txt\n",
            "Updated K0499.txt\n",
            "Updated K0542.txt\n",
            "Updated L0038.txt\n",
            "Updated K0458.txt\n",
            "Updated l0030.txt\n",
            "Updated F0072.txt\n",
            "Updated F0108.txt\n",
            "Updated F0179.txt\n",
            "Updated F0205.txt\n",
            "Updated F0223.txt\n",
            "Updated F0241.txt\n",
            "Updated G0016.txt\n",
            "Updated F0240.txt\n",
            "Updated F0398.txt\n",
            "Updated F0374.txt\n",
            "Updated F0305.txt\n",
            "Updated G0040.txt\n",
            "Updated F0333.txt\n",
            "Updated G0145.txt\n",
            "Updated g0022.txt\n",
            "Updated G0020.txt\n",
            "Updated G0239.txt\n",
            "Updated G0470.txt\n",
            "Updated G0121.txt\n",
            "Updated G0355.txt\n",
            "Updated G0266.txt\n",
            "Updated G0363.txt\n",
            "Updated G0378.txt\n",
            "Updated G0153.txt\n",
            "Updated G0166.txt\n",
            "Updated G0447.txt\n",
            "Updated H0090.txt\n",
            "Updated h0056.txt\n",
            "Updated H0123.txt\n",
            "Updated G0518.txt\n",
            "Updated h0003.txt\n",
            "Updated H0086.txt\n",
            "Updated H0067.txt\n",
            "Updated h0157.txt\n",
            "Updated H0039.txt\n",
            "Updated H0204.txt\n",
            "Updated h0196.txt\n",
            "Updated H0035.txt\n",
            "Updated H0185.txt\n",
            "Updated h0289.txt\n",
            "Updated h0145.txt\n",
            "Updated h0224.txt\n",
            "Updated h0124.txt\n",
            "Updated h0209.txt\n",
            "Updated H0429.txt\n",
            "Updated H0361.txt\n",
            "Updated h0453.txt\n",
            "Updated h0401.txt\n",
            "Updated H0459.txt\n",
            "Updated h0385.txt\n",
            "Updated H0454.txt\n",
            "Updated h0448.txt\n",
            "Updated I0020.txt\n",
            "Updated h0309.txt\n",
            "Updated h0477.txt\n",
            "Updated i0008.txt\n",
            "Updated h0578.txt\n",
            "Updated h0513.txt\n",
            "Updated I0044.txt\n",
            "Updated h0566.txt\n",
            "Updated h0595.txt\n",
            "Updated h0485.txt\n",
            "Updated H0392.txt\n",
            "Updated i0145.txt\n",
            "Updated I0082.txt\n",
            "Updated I0123.txt\n",
            "Updated i0213.txt\n",
            "Updated i0048.txt\n",
            "Updated i0106.txt\n",
            "Updated I0154.txt\n",
            "Updated i0306.txt\n",
            "Updated i0274.txt\n",
            "Updated i0350.txt\n",
            "Updated i0375.txt\n",
            "Updated I0460.txt\n",
            "Updated i0428.txt\n",
            "Updated i0221.txt\n",
            "Updated i0505.txt\n",
            "Updated i0243.txt\n",
            "Updated i0448.txt\n"
          ]
        }
      ]
    },
    {
      "cell_type": "code",
      "source": [
        "def run_pipeline():\n",
        "    # Download and prepare data\n",
        "    drowsy_folder, non_drowsy_folder = download_and_prepare_data()\n",
        "\n",
        "    # Prepare the dataset by selecting 1500 images\n",
        "    selected_images_folder = '/content/drive/MyDrive/drowsiness_detection/kaggle/selected_images'\n",
        "    #selected_images_folder = prepare_dataset(drowsy_folder, non_drowsy_folder, selected_images_folder)\n",
        "\n",
        "    # Prepare and create annotations for selected images\n",
        "    #annotations_dir = '/content/drive/MyDrive/drowsiness_detection/kaggle/annotations'\n",
        "    #prepare_and_create_annotations(selected_images_folder, annotations_dir)\n",
        "\n",
        "    # Split dataset into train and test\n",
        "    train_images, test_images = split_dataset(selected_images_folder)\n",
        "\n",
        "    # Copy images to train/test directories\n",
        "    # train_dir = '/content/drive/MyDrive/drowsiness_detection/kaggle/train'\n",
        "    # test_dir = '/content/drive/MyDrive/drowsiness_detection/kaggle/test'\n",
        "    # copy_images_to_dirs(train_images, test_images, train_dir, test_dir)\n",
        "\n",
        "    # Train the YOLO model\n",
        "    train_yolo()"
      ],
      "metadata": {
        "id": "mINNynAgKuQl"
      },
      "execution_count": null,
      "outputs": []
    },
    {
      "cell_type": "code",
      "source": [
        "run_pipeline()"
      ],
      "metadata": {
        "colab": {
          "base_uri": "https://localhost:8080/"
        },
        "id": "BDReRoREKxzS",
        "outputId": "b698eda5-e1d3-4e07-d65e-7994f3e38bb5"
      },
      "execution_count": null,
      "outputs": [
        {
          "metadata": {
            "tags": null
          },
          "name": "stdout",
          "output_type": "stream",
          "text": [
            "Dataset downloaded to: /root/.cache/kagglehub/datasets/ismailnasri20/driver-drowsiness-dataset-ddd/versions/1\n",
            "Downloading https://github.com/ultralytics/assets/releases/download/v8.3.0/yolov8n.pt to 'yolov8n.pt'...\n"
          ]
        },
        {
          "metadata": {
            "tags": null
          },
          "name": "stderr",
          "output_type": "stream",
          "text": [
            "100%|██████████| 6.25M/6.25M [00:00<00:00, 117MB/s]\n"
          ]
        },
        {
          "metadata": {
            "tags": null
          },
          "name": "stdout",
          "output_type": "stream",
          "text": [
            "Ultralytics 8.3.40 🚀 Python-3.10.12 torch-2.5.1+cu121 CUDA:0 (Tesla T4, 15102MiB)\n",
            "\u001b[34m\u001b[1mengine/trainer: \u001b[0mtask=detect, mode=train, model=yolov8n.pt, data=/content/drive/MyDrive/drowsiness_detection/kaggle/dataset.yaml, epochs=100, time=None, patience=100, batch=16, imgsz=640, save=True, save_period=-1, cache=False, device=None, workers=8, project=/content/drive/MyDrive/drowsiness_detection/kaggle/yolov8_training, name=drowsiness_detection9, exist_ok=False, pretrained=True, optimizer=auto, verbose=True, seed=0, deterministic=True, single_cls=False, rect=False, cos_lr=False, close_mosaic=10, resume=False, amp=True, fraction=1.0, profile=False, freeze=None, multi_scale=False, overlap_mask=True, mask_ratio=4, dropout=0.0, val=True, split=val, save_json=False, save_hybrid=False, conf=None, iou=0.7, max_det=300, half=False, dnn=False, plots=True, source=None, vid_stride=1, stream_buffer=False, visualize=False, augment=False, agnostic_nms=False, classes=None, retina_masks=False, embed=None, show=False, save_frames=False, save_txt=False, save_conf=False, save_crop=False, show_labels=True, show_conf=True, show_boxes=True, line_width=None, format=torchscript, keras=False, optimize=False, int8=False, dynamic=False, simplify=True, opset=None, workspace=None, nms=False, lr0=0.01, lrf=0.01, momentum=0.937, weight_decay=0.0005, warmup_epochs=3.0, warmup_momentum=0.8, warmup_bias_lr=0.1, box=7.5, cls=0.5, dfl=1.5, pose=12.0, kobj=1.0, nbs=64, hsv_h=0.015, hsv_s=0.7, hsv_v=0.4, degrees=0.0, translate=0.1, scale=0.5, shear=0.0, perspective=0.0, flipud=0.0, fliplr=0.5, bgr=0.0, mosaic=1.0, mixup=0.0, copy_paste=0.0, copy_paste_mode=flip, auto_augment=randaugment, erasing=0.4, crop_fraction=1.0, cfg=None, tracker=botsort.yaml, save_dir=/content/drive/MyDrive/drowsiness_detection/kaggle/yolov8_training/drowsiness_detection9\n",
            "Downloading https://ultralytics.com/assets/Arial.ttf to '/root/.config/Ultralytics/Arial.ttf'...\n"
          ]
        },
        {
          "metadata": {
            "tags": null
          },
          "name": "stderr",
          "output_type": "stream",
          "text": [
            "100%|██████████| 755k/755k [00:00<00:00, 22.6MB/s]\n"
          ]
        },
        {
          "metadata": {
            "tags": null
          },
          "name": "stdout",
          "output_type": "stream",
          "text": [
            "Overriding model.yaml nc=80 with nc=2\n",
            "\n",
            "                   from  n    params  module                                       arguments                     \n",
            "  0                  -1  1       464  ultralytics.nn.modules.conv.Conv             [3, 16, 3, 2]                 \n",
            "  1                  -1  1      4672  ultralytics.nn.modules.conv.Conv             [16, 32, 3, 2]                \n",
            "  2                  -1  1      7360  ultralytics.nn.modules.block.C2f             [32, 32, 1, True]             \n",
            "  3                  -1  1     18560  ultralytics.nn.modules.conv.Conv             [32, 64, 3, 2]                \n",
            "  4                  -1  2     49664  ultralytics.nn.modules.block.C2f             [64, 64, 2, True]             \n",
            "  5                  -1  1     73984  ultralytics.nn.modules.conv.Conv             [64, 128, 3, 2]               \n",
            "  6                  -1  2    197632  ultralytics.nn.modules.block.C2f             [128, 128, 2, True]           \n",
            "  7                  -1  1    295424  ultralytics.nn.modules.conv.Conv             [128, 256, 3, 2]              \n",
            "  8                  -1  1    460288  ultralytics.nn.modules.block.C2f             [256, 256, 1, True]           \n",
            "  9                  -1  1    164608  ultralytics.nn.modules.block.SPPF            [256, 256, 5]                 \n",
            " 10                  -1  1         0  torch.nn.modules.upsampling.Upsample         [None, 2, 'nearest']          \n",
            " 11             [-1, 6]  1         0  ultralytics.nn.modules.conv.Concat           [1]                           \n",
            " 12                  -1  1    148224  ultralytics.nn.modules.block.C2f             [384, 128, 1]                 \n",
            " 13                  -1  1         0  torch.nn.modules.upsampling.Upsample         [None, 2, 'nearest']          \n",
            " 14             [-1, 4]  1         0  ultralytics.nn.modules.conv.Concat           [1]                           \n",
            " 15                  -1  1     37248  ultralytics.nn.modules.block.C2f             [192, 64, 1]                  \n",
            " 16                  -1  1     36992  ultralytics.nn.modules.conv.Conv             [64, 64, 3, 2]                \n",
            " 17            [-1, 12]  1         0  ultralytics.nn.modules.conv.Concat           [1]                           \n",
            " 18                  -1  1    123648  ultralytics.nn.modules.block.C2f             [192, 128, 1]                 \n",
            " 19                  -1  1    147712  ultralytics.nn.modules.conv.Conv             [128, 128, 3, 2]              \n",
            " 20             [-1, 9]  1         0  ultralytics.nn.modules.conv.Concat           [1]                           \n",
            " 21                  -1  1    493056  ultralytics.nn.modules.block.C2f             [384, 256, 1]                 \n",
            " 22        [15, 18, 21]  1    751702  ultralytics.nn.modules.head.Detect           [2, [64, 128, 256]]           \n",
            "Model summary: 225 layers, 3,011,238 parameters, 3,011,222 gradients, 8.2 GFLOPs\n",
            "\n",
            "Transferred 319/355 items from pretrained weights\n",
            "\u001b[34m\u001b[1mTensorBoard: \u001b[0mStart with 'tensorboard --logdir /content/drive/MyDrive/drowsiness_detection/kaggle/yolov8_training/drowsiness_detection9', view at http://localhost:6006/\n",
            "Freezing layer 'model.22.dfl.conv.weight'\n",
            "\u001b[34m\u001b[1mAMP: \u001b[0mrunning Automatic Mixed Precision (AMP) checks...\n",
            "Downloading https://github.com/ultralytics/assets/releases/download/v8.3.0/yolo11n.pt to 'yolo11n.pt'...\n"
          ]
        },
        {
          "metadata": {
            "tags": null
          },
          "name": "stderr",
          "output_type": "stream",
          "text": [
            "100%|██████████| 5.35M/5.35M [00:00<00:00, 91.6MB/s]\n"
          ]
        },
        {
          "metadata": {
            "tags": null
          },
          "name": "stdout",
          "output_type": "stream",
          "text": [
            "\u001b[34m\u001b[1mAMP: \u001b[0mchecks passed ✅\n"
          ]
        },
        {
          "metadata": {
            "tags": null
          },
          "name": "stderr",
          "output_type": "stream",
          "text": [
            "\u001b[34m\u001b[1mtrain: \u001b[0mScanning /content/drive/MyDrive/drowsiness_detection/kaggle/train/labels... 1185 images, 30 backgrounds, 0 corrupt: 100%|██████████| 1200/1200 [00:33<00:00, 36.05it/s] \n"
          ]
        },
        {
          "metadata": {
            "tags": null
          },
          "name": "stdout",
          "output_type": "stream",
          "text": [
            "\u001b[34m\u001b[1mtrain: \u001b[0mNew cache created: /content/drive/MyDrive/drowsiness_detection/kaggle/train/labels.cache\n",
            "\u001b[34m\u001b[1malbumentations: \u001b[0mBlur(p=0.01, blur_limit=(3, 7)), MedianBlur(p=0.01, blur_limit=(3, 7)), ToGray(p=0.01, num_output_channels=3, method='weighted_average'), CLAHE(p=0.01, clip_limit=(1.0, 4.0), tile_grid_size=(8, 8))\n"
          ]
        },
        {
          "metadata": {
            "tags": null
          },
          "name": "stderr",
          "output_type": "stream",
          "text": [
            "/usr/local/lib/python3.10/dist-packages/albumentations/__init__.py:24: UserWarning: A new version of Albumentations is available: 1.4.21 (you have 1.4.20). Upgrade using: pip install -U albumentations. To disable automatic update checks, set the environment variable NO_ALBUMENTATIONS_UPDATE to 1.\n",
            "  check_for_updates()\n",
            "\u001b[34m\u001b[1mval: \u001b[0mScanning /content/drive/MyDrive/drowsiness_detection/kaggle/test/labels... 296 images, 4 backgrounds, 0 corrupt: 100%|██████████| 300/300 [01:36<00:00,  3.10it/s]\n"
          ]
        },
        {
          "metadata": {
            "tags": null
          },
          "name": "stdout",
          "output_type": "stream",
          "text": [
            "\u001b[34m\u001b[1mval: \u001b[0mNew cache created: /content/drive/MyDrive/drowsiness_detection/kaggle/test/labels.cache\n",
            "Plotting labels to /content/drive/MyDrive/drowsiness_detection/kaggle/yolov8_training/drowsiness_detection9/labels.jpg... \n",
            "\u001b[34m\u001b[1moptimizer:\u001b[0m 'optimizer=auto' found, ignoring 'lr0=0.01' and 'momentum=0.937' and determining best 'optimizer', 'lr0' and 'momentum' automatically... \n",
            "\u001b[34m\u001b[1moptimizer:\u001b[0m AdamW(lr=0.001667, momentum=0.9) with parameter groups 57 weight(decay=0.0), 64 weight(decay=0.0005), 63 bias(decay=0.0)\n",
            "\u001b[34m\u001b[1mTensorBoard: \u001b[0mmodel graph visualization added ✅\n",
            "Image sizes 640 train, 640 val\n",
            "Using 2 dataloader workers\n",
            "Logging results to \u001b[1m/content/drive/MyDrive/drowsiness_detection/kaggle/yolov8_training/drowsiness_detection9\u001b[0m\n",
            "Starting training for 100 epochs...\n",
            "\n",
            "      Epoch    GPU_mem   box_loss   cls_loss   dfl_loss  Instances       Size\n"
          ]
        },
        {
          "metadata": {
            "tags": null
          },
          "name": "stderr",
          "output_type": "stream",
          "text": [
            "      1/100      2.17G     0.2961      1.757      1.043         50        640: 100%|██████████| 75/75 [00:36<00:00,  2.08it/s]\n",
            "                 Class     Images  Instances      Box(P          R      mAP50  mAP50-95): 100%|██████████| 10/10 [00:07<00:00,  1.27it/s]"
          ]
        },
        {
          "metadata": {
            "tags": null
          },
          "name": "stdout",
          "output_type": "stream",
          "text": [
            "                   all        300        296      0.502      0.863      0.777      0.709\n"
          ]
        },
        {
          "metadata": {
            "tags": null
          },
          "name": "stderr",
          "output_type": "stream",
          "text": [
            "\n"
          ]
        },
        {
          "metadata": {
            "tags": null
          },
          "name": "stdout",
          "output_type": "stream",
          "text": [
            "\n",
            "      Epoch    GPU_mem   box_loss   cls_loss   dfl_loss  Instances       Size\n"
          ]
        },
        {
          "metadata": {
            "tags": null
          },
          "name": "stderr",
          "output_type": "stream",
          "text": [
            "      2/100      2.16G     0.1801        1.1     0.9417         42        640: 100%|██████████| 75/75 [00:30<00:00,  2.44it/s]\n",
            "                 Class     Images  Instances      Box(P          R      mAP50  mAP50-95): 100%|██████████| 10/10 [00:07<00:00,  1.41it/s]\n"
          ]
        },
        {
          "metadata": {
            "tags": null
          },
          "name": "stdout",
          "output_type": "stream",
          "text": [
            "                   all        300        296      0.447       0.55      0.377      0.322\n",
            "\n",
            "      Epoch    GPU_mem   box_loss   cls_loss   dfl_loss  Instances       Size\n"
          ]
        },
        {
          "metadata": {
            "tags": null
          },
          "name": "stderr",
          "output_type": "stream",
          "text": [
            "      3/100      2.16G     0.1903     0.9567     0.9349         52        640: 100%|██████████| 75/75 [00:34<00:00,  2.19it/s]\n",
            "                 Class     Images  Instances      Box(P          R      mAP50  mAP50-95): 100%|██████████| 10/10 [00:06<00:00,  1.45it/s]\n"
          ]
        },
        {
          "metadata": {
            "tags": null
          },
          "name": "stdout",
          "output_type": "stream",
          "text": [
            "                   all        300        296        0.4      0.605      0.415       0.34\n",
            "\n",
            "      Epoch    GPU_mem   box_loss   cls_loss   dfl_loss  Instances       Size\n"
          ]
        },
        {
          "metadata": {
            "tags": null
          },
          "name": "stderr",
          "output_type": "stream",
          "text": [
            "      4/100      2.16G       0.17     0.8416     0.9283         40        640: 100%|██████████| 75/75 [00:30<00:00,  2.45it/s]\n",
            "                 Class     Images  Instances      Box(P          R      mAP50  mAP50-95): 100%|██████████| 10/10 [00:06<00:00,  1.43it/s]"
          ]
        },
        {
          "metadata": {
            "tags": null
          },
          "name": "stdout",
          "output_type": "stream",
          "text": [
            "                   all        300        296      0.538       0.82      0.692      0.615\n"
          ]
        },
        {
          "metadata": {
            "tags": null
          },
          "name": "stderr",
          "output_type": "stream",
          "text": [
            "\n"
          ]
        },
        {
          "metadata": {
            "tags": null
          },
          "name": "stdout",
          "output_type": "stream",
          "text": [
            "\n",
            "      Epoch    GPU_mem   box_loss   cls_loss   dfl_loss  Instances       Size\n"
          ]
        },
        {
          "metadata": {
            "tags": null
          },
          "name": "stderr",
          "output_type": "stream",
          "text": [
            "      5/100      2.16G     0.1585     0.7943     0.9228         46        640: 100%|██████████| 75/75 [00:31<00:00,  2.40it/s]\n",
            "                 Class     Images  Instances      Box(P          R      mAP50  mAP50-95): 100%|██████████| 10/10 [00:06<00:00,  1.60it/s]"
          ]
        },
        {
          "metadata": {
            "tags": null
          },
          "name": "stdout",
          "output_type": "stream",
          "text": [
            "                   all        300        296      0.797      0.855      0.936      0.831\n"
          ]
        },
        {
          "metadata": {
            "tags": null
          },
          "name": "stderr",
          "output_type": "stream",
          "text": [
            "\n"
          ]
        },
        {
          "metadata": {
            "tags": null
          },
          "name": "stdout",
          "output_type": "stream",
          "text": [
            "\n",
            "      Epoch    GPU_mem   box_loss   cls_loss   dfl_loss  Instances       Size\n"
          ]
        },
        {
          "metadata": {
            "tags": null
          },
          "name": "stderr",
          "output_type": "stream",
          "text": [
            "      6/100      2.16G     0.1492     0.7244      0.926         48        640: 100%|██████████| 75/75 [00:32<00:00,  2.33it/s]\n",
            "                 Class     Images  Instances      Box(P          R      mAP50  mAP50-95): 100%|██████████| 10/10 [00:05<00:00,  1.74it/s]"
          ]
        },
        {
          "metadata": {
            "tags": null
          },
          "name": "stdout",
          "output_type": "stream",
          "text": [
            "                   all        300        296      0.822      0.825      0.918      0.717\n"
          ]
        },
        {
          "metadata": {
            "tags": null
          },
          "name": "stderr",
          "output_type": "stream",
          "text": [
            "\n"
          ]
        },
        {
          "metadata": {
            "tags": null
          },
          "name": "stdout",
          "output_type": "stream",
          "text": [
            "\n",
            "      Epoch    GPU_mem   box_loss   cls_loss   dfl_loss  Instances       Size\n"
          ]
        },
        {
          "metadata": {
            "tags": null
          },
          "name": "stderr",
          "output_type": "stream",
          "text": [
            "      7/100      2.16G      0.149     0.6869     0.9232         44        640: 100%|██████████| 75/75 [00:30<00:00,  2.49it/s]\n",
            "                 Class     Images  Instances      Box(P          R      mAP50  mAP50-95): 100%|██████████| 10/10 [00:06<00:00,  1.60it/s]"
          ]
        },
        {
          "metadata": {
            "tags": null
          },
          "name": "stdout",
          "output_type": "stream",
          "text": [
            "                   all        300        296      0.896      0.866      0.954      0.943\n"
          ]
        },
        {
          "metadata": {
            "tags": null
          },
          "name": "stderr",
          "output_type": "stream",
          "text": [
            "\n"
          ]
        },
        {
          "metadata": {
            "tags": null
          },
          "name": "stdout",
          "output_type": "stream",
          "text": [
            "\n",
            "      Epoch    GPU_mem   box_loss   cls_loss   dfl_loss  Instances       Size\n"
          ]
        },
        {
          "metadata": {
            "tags": null
          },
          "name": "stderr",
          "output_type": "stream",
          "text": [
            "      8/100      2.15G     0.1312     0.6573     0.9177         53        640: 100%|██████████| 75/75 [00:31<00:00,  2.35it/s]\n",
            "                 Class     Images  Instances      Box(P          R      mAP50  mAP50-95): 100%|██████████| 10/10 [00:05<00:00,  1.74it/s]\n"
          ]
        },
        {
          "metadata": {
            "tags": null
          },
          "name": "stdout",
          "output_type": "stream",
          "text": [
            "                   all        300        296      0.794      0.822      0.878      0.846\n",
            "\n",
            "      Epoch    GPU_mem   box_loss   cls_loss   dfl_loss  Instances       Size\n"
          ]
        },
        {
          "metadata": {
            "tags": null
          },
          "name": "stderr",
          "output_type": "stream",
          "text": [
            "      9/100      2.16G     0.1339     0.6517     0.9178         42        640: 100%|██████████| 75/75 [00:29<00:00,  2.51it/s]\n",
            "                 Class     Images  Instances      Box(P          R      mAP50  mAP50-95): 100%|██████████| 10/10 [00:06<00:00,  1.51it/s]\n"
          ]
        },
        {
          "metadata": {
            "tags": null
          },
          "name": "stdout",
          "output_type": "stream",
          "text": [
            "                   all        300        296      0.828      0.859      0.897       0.89\n",
            "\n",
            "      Epoch    GPU_mem   box_loss   cls_loss   dfl_loss  Instances       Size\n"
          ]
        },
        {
          "metadata": {
            "tags": null
          },
          "name": "stderr",
          "output_type": "stream",
          "text": [
            "     10/100      2.16G     0.1173     0.6237     0.9128         47        640: 100%|██████████| 75/75 [00:29<00:00,  2.52it/s]\n",
            "                 Class     Images  Instances      Box(P          R      mAP50  mAP50-95): 100%|██████████| 10/10 [00:07<00:00,  1.37it/s]"
          ]
        },
        {
          "metadata": {
            "tags": null
          },
          "name": "stdout",
          "output_type": "stream",
          "text": [
            "                   all        300        296      0.813      0.919      0.959      0.957\n"
          ]
        },
        {
          "metadata": {
            "tags": null
          },
          "name": "stderr",
          "output_type": "stream",
          "text": [
            "\n"
          ]
        },
        {
          "metadata": {
            "tags": null
          },
          "name": "stdout",
          "output_type": "stream",
          "text": [
            "\n",
            "      Epoch    GPU_mem   box_loss   cls_loss   dfl_loss  Instances       Size\n"
          ]
        },
        {
          "metadata": {
            "tags": null
          },
          "name": "stderr",
          "output_type": "stream",
          "text": [
            "     11/100      2.15G     0.1096      0.572     0.9064         54        640: 100%|██████████| 75/75 [00:30<00:00,  2.47it/s]\n",
            "                 Class     Images  Instances      Box(P          R      mAP50  mAP50-95): 100%|██████████| 10/10 [00:06<00:00,  1.43it/s]"
          ]
        },
        {
          "metadata": {
            "tags": null
          },
          "name": "stdout",
          "output_type": "stream",
          "text": [
            "                   all        300        296      0.756      0.919      0.971      0.971\n"
          ]
        },
        {
          "metadata": {
            "tags": null
          },
          "name": "stderr",
          "output_type": "stream",
          "text": [
            "\n"
          ]
        },
        {
          "metadata": {
            "tags": null
          },
          "name": "stdout",
          "output_type": "stream",
          "text": [
            "\n",
            "      Epoch    GPU_mem   box_loss   cls_loss   dfl_loss  Instances       Size\n"
          ]
        },
        {
          "metadata": {
            "tags": null
          },
          "name": "stderr",
          "output_type": "stream",
          "text": [
            "     12/100      2.15G      0.118     0.5906     0.9073         52        640: 100%|██████████| 75/75 [00:34<00:00,  2.15it/s]\n",
            "                 Class     Images  Instances      Box(P          R      mAP50  mAP50-95): 100%|██████████| 10/10 [00:05<00:00,  1.93it/s]"
          ]
        },
        {
          "metadata": {
            "tags": null
          },
          "name": "stdout",
          "output_type": "stream",
          "text": [
            "                   all        300        296      0.945      0.898      0.977      0.964\n"
          ]
        },
        {
          "metadata": {
            "tags": null
          },
          "name": "stderr",
          "output_type": "stream",
          "text": [
            "\n"
          ]
        },
        {
          "metadata": {
            "tags": null
          },
          "name": "stdout",
          "output_type": "stream",
          "text": [
            "\n",
            "      Epoch    GPU_mem   box_loss   cls_loss   dfl_loss  Instances       Size\n"
          ]
        },
        {
          "metadata": {
            "tags": null
          },
          "name": "stderr",
          "output_type": "stream",
          "text": [
            "     13/100      2.15G     0.1137     0.5438     0.9132         46        640: 100%|██████████| 75/75 [00:31<00:00,  2.40it/s]\n",
            "                 Class     Images  Instances      Box(P          R      mAP50  mAP50-95): 100%|██████████| 10/10 [00:05<00:00,  1.81it/s]"
          ]
        },
        {
          "metadata": {
            "tags": null
          },
          "name": "stdout",
          "output_type": "stream",
          "text": [
            "                   all        300        296      0.765      0.561      0.705      0.703\n"
          ]
        },
        {
          "metadata": {
            "tags": null
          },
          "name": "stderr",
          "output_type": "stream",
          "text": [
            "\n"
          ]
        },
        {
          "metadata": {
            "tags": null
          },
          "name": "stdout",
          "output_type": "stream",
          "text": [
            "\n",
            "      Epoch    GPU_mem   box_loss   cls_loss   dfl_loss  Instances       Size\n"
          ]
        },
        {
          "metadata": {
            "tags": null
          },
          "name": "stderr",
          "output_type": "stream",
          "text": [
            "     14/100      2.16G     0.1098     0.5253     0.9086         42        640: 100%|██████████| 75/75 [00:30<00:00,  2.43it/s]\n",
            "                 Class     Images  Instances      Box(P          R      mAP50  mAP50-95): 100%|██████████| 10/10 [00:06<00:00,  1.53it/s]"
          ]
        },
        {
          "metadata": {
            "tags": null
          },
          "name": "stdout",
          "output_type": "stream",
          "text": [
            "                   all        300        296       0.85      0.931      0.972      0.972\n"
          ]
        },
        {
          "metadata": {
            "tags": null
          },
          "name": "stderr",
          "output_type": "stream",
          "text": [
            "\n"
          ]
        },
        {
          "metadata": {
            "tags": null
          },
          "name": "stdout",
          "output_type": "stream",
          "text": [
            "\n",
            "      Epoch    GPU_mem   box_loss   cls_loss   dfl_loss  Instances       Size\n"
          ]
        },
        {
          "metadata": {
            "tags": null
          },
          "name": "stderr",
          "output_type": "stream",
          "text": [
            "     15/100      2.16G     0.1051       0.52     0.9059         46        640: 100%|██████████| 75/75 [00:29<00:00,  2.55it/s]\n",
            "                 Class     Images  Instances      Box(P          R      mAP50  mAP50-95): 100%|██████████| 10/10 [00:06<00:00,  1.52it/s]"
          ]
        },
        {
          "metadata": {
            "tags": null
          },
          "name": "stdout",
          "output_type": "stream",
          "text": [
            "                   all        300        296      0.952      0.926      0.978      0.977\n"
          ]
        },
        {
          "metadata": {
            "tags": null
          },
          "name": "stderr",
          "output_type": "stream",
          "text": [
            "\n"
          ]
        },
        {
          "metadata": {
            "tags": null
          },
          "name": "stdout",
          "output_type": "stream",
          "text": [
            "\n",
            "      Epoch    GPU_mem   box_loss   cls_loss   dfl_loss  Instances       Size\n"
          ]
        },
        {
          "metadata": {
            "tags": null
          },
          "name": "stderr",
          "output_type": "stream",
          "text": [
            "     16/100      2.15G     0.1044     0.5247     0.9034         47        640: 100%|██████████| 75/75 [00:30<00:00,  2.49it/s]\n",
            "                 Class     Images  Instances      Box(P          R      mAP50  mAP50-95): 100%|██████████| 10/10 [00:05<00:00,  1.77it/s]"
          ]
        },
        {
          "metadata": {
            "tags": null
          },
          "name": "stdout",
          "output_type": "stream",
          "text": [
            "                   all        300        296      0.589      0.933      0.875      0.872\n"
          ]
        },
        {
          "metadata": {
            "tags": null
          },
          "name": "stderr",
          "output_type": "stream",
          "text": [
            "\n"
          ]
        },
        {
          "metadata": {
            "tags": null
          },
          "name": "stdout",
          "output_type": "stream",
          "text": [
            "\n",
            "      Epoch    GPU_mem   box_loss   cls_loss   dfl_loss  Instances       Size\n"
          ]
        },
        {
          "metadata": {
            "tags": null
          },
          "name": "stderr",
          "output_type": "stream",
          "text": [
            "     17/100      2.15G     0.1066     0.5007     0.9039         45        640: 100%|██████████| 75/75 [00:31<00:00,  2.40it/s]\n",
            "                 Class     Images  Instances      Box(P          R      mAP50  mAP50-95): 100%|██████████| 10/10 [00:05<00:00,  1.77it/s]"
          ]
        },
        {
          "metadata": {
            "tags": null
          },
          "name": "stdout",
          "output_type": "stream",
          "text": [
            "                   all        300        296      0.914      0.927      0.968      0.959\n"
          ]
        },
        {
          "metadata": {
            "tags": null
          },
          "name": "stderr",
          "output_type": "stream",
          "text": [
            "\n"
          ]
        },
        {
          "metadata": {
            "tags": null
          },
          "name": "stdout",
          "output_type": "stream",
          "text": [
            "\n",
            "      Epoch    GPU_mem   box_loss   cls_loss   dfl_loss  Instances       Size\n"
          ]
        },
        {
          "metadata": {
            "tags": null
          },
          "name": "stderr",
          "output_type": "stream",
          "text": [
            "     18/100      2.16G     0.1001     0.5115     0.9077         48        640: 100%|██████████| 75/75 [00:30<00:00,  2.46it/s]\n",
            "                 Class     Images  Instances      Box(P          R      mAP50  mAP50-95): 100%|██████████| 10/10 [00:06<00:00,  1.59it/s]"
          ]
        },
        {
          "metadata": {
            "tags": null
          },
          "name": "stdout",
          "output_type": "stream",
          "text": [
            "                   all        300        296      0.934      0.934      0.977      0.975\n"
          ]
        },
        {
          "metadata": {
            "tags": null
          },
          "name": "stderr",
          "output_type": "stream",
          "text": [
            "\n"
          ]
        },
        {
          "metadata": {
            "tags": null
          },
          "name": "stdout",
          "output_type": "stream",
          "text": [
            "\n",
            "      Epoch    GPU_mem   box_loss   cls_loss   dfl_loss  Instances       Size\n"
          ]
        },
        {
          "metadata": {
            "tags": null
          },
          "name": "stderr",
          "output_type": "stream",
          "text": [
            "     19/100      2.16G    0.09486     0.4678     0.8964         48        640: 100%|██████████| 75/75 [00:30<00:00,  2.50it/s]\n",
            "                 Class     Images  Instances      Box(P          R      mAP50  mAP50-95): 100%|██████████| 10/10 [00:06<00:00,  1.56it/s]"
          ]
        },
        {
          "metadata": {
            "tags": null
          },
          "name": "stdout",
          "output_type": "stream",
          "text": [
            "                   all        300        296      0.959      0.953      0.982      0.928\n"
          ]
        },
        {
          "metadata": {
            "tags": null
          },
          "name": "stderr",
          "output_type": "stream",
          "text": [
            "\n"
          ]
        },
        {
          "metadata": {
            "tags": null
          },
          "name": "stdout",
          "output_type": "stream",
          "text": [
            "\n",
            "      Epoch    GPU_mem   box_loss   cls_loss   dfl_loss  Instances       Size\n"
          ]
        },
        {
          "metadata": {
            "tags": null
          },
          "name": "stderr",
          "output_type": "stream",
          "text": [
            "     20/100      2.16G    0.09647     0.4635      0.899         42        640: 100%|██████████| 75/75 [00:31<00:00,  2.41it/s]\n",
            "                 Class     Images  Instances      Box(P          R      mAP50  mAP50-95): 100%|██████████| 10/10 [00:06<00:00,  1.45it/s]"
          ]
        },
        {
          "metadata": {
            "tags": null
          },
          "name": "stdout",
          "output_type": "stream",
          "text": [
            "                   all        300        296      0.957      0.955      0.983       0.98\n"
          ]
        },
        {
          "metadata": {
            "tags": null
          },
          "name": "stderr",
          "output_type": "stream",
          "text": [
            "\n"
          ]
        },
        {
          "metadata": {
            "tags": null
          },
          "name": "stdout",
          "output_type": "stream",
          "text": [
            "\n",
            "      Epoch    GPU_mem   box_loss   cls_loss   dfl_loss  Instances       Size\n"
          ]
        },
        {
          "metadata": {
            "tags": null
          },
          "name": "stderr",
          "output_type": "stream",
          "text": [
            "     21/100      2.15G    0.09677      0.445     0.8959         53        640: 100%|██████████| 75/75 [00:30<00:00,  2.45it/s]\n",
            "                 Class     Images  Instances      Box(P          R      mAP50  mAP50-95): 100%|██████████| 10/10 [00:06<00:00,  1.46it/s]"
          ]
        },
        {
          "metadata": {
            "tags": null
          },
          "name": "stdout",
          "output_type": "stream",
          "text": [
            "                   all        300        296      0.945      0.962      0.979      0.973\n"
          ]
        },
        {
          "metadata": {
            "tags": null
          },
          "name": "stderr",
          "output_type": "stream",
          "text": [
            "\n"
          ]
        },
        {
          "metadata": {
            "tags": null
          },
          "name": "stdout",
          "output_type": "stream",
          "text": [
            "\n",
            "      Epoch    GPU_mem   box_loss   cls_loss   dfl_loss  Instances       Size\n"
          ]
        },
        {
          "metadata": {
            "tags": null
          },
          "name": "stderr",
          "output_type": "stream",
          "text": [
            "     22/100      2.16G    0.09437     0.4344     0.9015         43        640: 100%|██████████| 75/75 [00:29<00:00,  2.54it/s]\n",
            "                 Class     Images  Instances      Box(P          R      mAP50  mAP50-95): 100%|██████████| 10/10 [00:06<00:00,  1.62it/s]"
          ]
        },
        {
          "metadata": {
            "tags": null
          },
          "name": "stdout",
          "output_type": "stream",
          "text": [
            "                   all        300        296      0.884      0.882      0.978       0.96\n"
          ]
        },
        {
          "metadata": {
            "tags": null
          },
          "name": "stderr",
          "output_type": "stream",
          "text": [
            "\n"
          ]
        },
        {
          "metadata": {
            "tags": null
          },
          "name": "stdout",
          "output_type": "stream",
          "text": [
            "\n",
            "      Epoch    GPU_mem   box_loss   cls_loss   dfl_loss  Instances       Size\n"
          ]
        },
        {
          "metadata": {
            "tags": null
          },
          "name": "stderr",
          "output_type": "stream",
          "text": [
            "     23/100      2.15G    0.09489     0.4389     0.8987         52        640: 100%|██████████| 75/75 [00:29<00:00,  2.58it/s]\n",
            "                 Class     Images  Instances      Box(P          R      mAP50  mAP50-95): 100%|██████████| 10/10 [00:05<00:00,  1.69it/s]"
          ]
        },
        {
          "metadata": {
            "tags": null
          },
          "name": "stdout",
          "output_type": "stream",
          "text": [
            "                   all        300        296      0.895      0.938      0.975      0.975\n"
          ]
        },
        {
          "metadata": {
            "tags": null
          },
          "name": "stderr",
          "output_type": "stream",
          "text": [
            "\n"
          ]
        },
        {
          "metadata": {
            "tags": null
          },
          "name": "stdout",
          "output_type": "stream",
          "text": [
            "\n",
            "      Epoch    GPU_mem   box_loss   cls_loss   dfl_loss  Instances       Size\n"
          ]
        },
        {
          "metadata": {
            "tags": null
          },
          "name": "stderr",
          "output_type": "stream",
          "text": [
            "     24/100      2.15G    0.08818      0.428     0.8999         54        640: 100%|██████████| 75/75 [00:30<00:00,  2.46it/s]\n",
            "                 Class     Images  Instances      Box(P          R      mAP50  mAP50-95): 100%|██████████| 10/10 [00:04<00:00,  2.02it/s]"
          ]
        },
        {
          "metadata": {
            "tags": null
          },
          "name": "stdout",
          "output_type": "stream",
          "text": [
            "                   all        300        296      0.973      0.969      0.985      0.975\n"
          ]
        },
        {
          "metadata": {
            "tags": null
          },
          "name": "stderr",
          "output_type": "stream",
          "text": [
            "\n"
          ]
        },
        {
          "metadata": {
            "tags": null
          },
          "name": "stdout",
          "output_type": "stream",
          "text": [
            "\n",
            "      Epoch    GPU_mem   box_loss   cls_loss   dfl_loss  Instances       Size\n"
          ]
        },
        {
          "metadata": {
            "tags": null
          },
          "name": "stderr",
          "output_type": "stream",
          "text": [
            "     25/100      2.16G    0.08866     0.3859     0.8941         45        640: 100%|██████████| 75/75 [00:30<00:00,  2.47it/s]\n",
            "                 Class     Images  Instances      Box(P          R      mAP50  mAP50-95): 100%|██████████| 10/10 [00:04<00:00,  2.07it/s]"
          ]
        },
        {
          "metadata": {
            "tags": null
          },
          "name": "stdout",
          "output_type": "stream",
          "text": [
            "                   all        300        296      0.945      0.962      0.989      0.979\n"
          ]
        },
        {
          "metadata": {
            "tags": null
          },
          "name": "stderr",
          "output_type": "stream",
          "text": [
            "\n"
          ]
        },
        {
          "metadata": {
            "tags": null
          },
          "name": "stdout",
          "output_type": "stream",
          "text": [
            "\n",
            "      Epoch    GPU_mem   box_loss   cls_loss   dfl_loss  Instances       Size\n"
          ]
        },
        {
          "metadata": {
            "tags": null
          },
          "name": "stderr",
          "output_type": "stream",
          "text": [
            "     26/100      2.16G    0.08396     0.4081     0.8973         49        640: 100%|██████████| 75/75 [00:30<00:00,  2.43it/s]\n",
            "                 Class     Images  Instances      Box(P          R      mAP50  mAP50-95): 100%|██████████| 10/10 [00:04<00:00,  2.09it/s]"
          ]
        },
        {
          "metadata": {
            "tags": null
          },
          "name": "stdout",
          "output_type": "stream",
          "text": [
            "                   all        300        296      0.794      0.918       0.98      0.958\n"
          ]
        },
        {
          "metadata": {
            "tags": null
          },
          "name": "stderr",
          "output_type": "stream",
          "text": [
            "\n"
          ]
        },
        {
          "metadata": {
            "tags": null
          },
          "name": "stdout",
          "output_type": "stream",
          "text": [
            "\n",
            "      Epoch    GPU_mem   box_loss   cls_loss   dfl_loss  Instances       Size\n"
          ]
        },
        {
          "metadata": {
            "tags": null
          },
          "name": "stderr",
          "output_type": "stream",
          "text": [
            "     27/100      2.15G     0.0867     0.3898     0.8961         44        640: 100%|██████████| 75/75 [00:31<00:00,  2.39it/s]\n",
            "                 Class     Images  Instances      Box(P          R      mAP50  mAP50-95): 100%|██████████| 10/10 [00:05<00:00,  1.67it/s]"
          ]
        },
        {
          "metadata": {
            "tags": null
          },
          "name": "stdout",
          "output_type": "stream",
          "text": [
            "                   all        300        296      0.985       0.97      0.989      0.969\n"
          ]
        },
        {
          "metadata": {
            "tags": null
          },
          "name": "stderr",
          "output_type": "stream",
          "text": [
            "\n"
          ]
        },
        {
          "metadata": {
            "tags": null
          },
          "name": "stdout",
          "output_type": "stream",
          "text": [
            "\n",
            "      Epoch    GPU_mem   box_loss   cls_loss   dfl_loss  Instances       Size\n"
          ]
        },
        {
          "metadata": {
            "tags": null
          },
          "name": "stderr",
          "output_type": "stream",
          "text": [
            "     28/100      2.16G    0.07967     0.3954     0.8913         48        640: 100%|██████████| 75/75 [00:31<00:00,  2.40it/s]\n",
            "                 Class     Images  Instances      Box(P          R      mAP50  mAP50-95): 100%|██████████| 10/10 [00:04<00:00,  2.09it/s]"
          ]
        },
        {
          "metadata": {
            "tags": null
          },
          "name": "stdout",
          "output_type": "stream",
          "text": [
            "                   all        300        296      0.979      0.978       0.99      0.989\n"
          ]
        },
        {
          "metadata": {
            "tags": null
          },
          "name": "stderr",
          "output_type": "stream",
          "text": [
            "\n"
          ]
        },
        {
          "metadata": {
            "tags": null
          },
          "name": "stdout",
          "output_type": "stream",
          "text": [
            "\n",
            "      Epoch    GPU_mem   box_loss   cls_loss   dfl_loss  Instances       Size\n"
          ]
        },
        {
          "metadata": {
            "tags": null
          },
          "name": "stderr",
          "output_type": "stream",
          "text": [
            "     29/100      2.15G    0.07974     0.4016     0.8968         48        640: 100%|██████████| 75/75 [00:34<00:00,  2.14it/s]\n",
            "                 Class     Images  Instances      Box(P          R      mAP50  mAP50-95): 100%|██████████| 10/10 [00:03<00:00,  3.01it/s]"
          ]
        },
        {
          "metadata": {
            "tags": null
          },
          "name": "stdout",
          "output_type": "stream",
          "text": [
            "                   all        300        296      0.937       0.97      0.986      0.954\n"
          ]
        },
        {
          "metadata": {
            "tags": null
          },
          "name": "stderr",
          "output_type": "stream",
          "text": [
            "\n"
          ]
        },
        {
          "metadata": {
            "tags": null
          },
          "name": "stdout",
          "output_type": "stream",
          "text": [
            "\n",
            "      Epoch    GPU_mem   box_loss   cls_loss   dfl_loss  Instances       Size\n"
          ]
        },
        {
          "metadata": {
            "tags": null
          },
          "name": "stderr",
          "output_type": "stream",
          "text": [
            "     30/100      2.16G    0.08227       0.37     0.8959         50        640: 100%|██████████| 75/75 [00:30<00:00,  2.43it/s]\n",
            "                 Class     Images  Instances      Box(P          R      mAP50  mAP50-95): 100%|██████████| 10/10 [00:03<00:00,  2.59it/s]"
          ]
        },
        {
          "metadata": {
            "tags": null
          },
          "name": "stdout",
          "output_type": "stream",
          "text": [
            "                   all        300        296      0.953      0.983      0.989      0.986\n"
          ]
        },
        {
          "metadata": {
            "tags": null
          },
          "name": "stderr",
          "output_type": "stream",
          "text": [
            "\n"
          ]
        },
        {
          "metadata": {
            "tags": null
          },
          "name": "stdout",
          "output_type": "stream",
          "text": [
            "\n",
            "      Epoch    GPU_mem   box_loss   cls_loss   dfl_loss  Instances       Size\n"
          ]
        },
        {
          "metadata": {
            "tags": null
          },
          "name": "stderr",
          "output_type": "stream",
          "text": [
            "     31/100      2.15G    0.07984     0.3744     0.8982         53        640: 100%|██████████| 75/75 [00:31<00:00,  2.40it/s]\n",
            "                 Class     Images  Instances      Box(P          R      mAP50  mAP50-95): 100%|██████████| 10/10 [00:03<00:00,  2.73it/s]"
          ]
        },
        {
          "metadata": {
            "tags": null
          },
          "name": "stdout",
          "output_type": "stream",
          "text": [
            "                   all        300        296      0.967      0.973      0.988      0.956\n"
          ]
        },
        {
          "metadata": {
            "tags": null
          },
          "name": "stderr",
          "output_type": "stream",
          "text": [
            "\n"
          ]
        },
        {
          "metadata": {
            "tags": null
          },
          "name": "stdout",
          "output_type": "stream",
          "text": [
            "\n",
            "      Epoch    GPU_mem   box_loss   cls_loss   dfl_loss  Instances       Size\n"
          ]
        },
        {
          "metadata": {
            "tags": null
          },
          "name": "stderr",
          "output_type": "stream",
          "text": [
            "     32/100      2.15G    0.07736     0.3658     0.8939         52        640: 100%|██████████| 75/75 [00:31<00:00,  2.39it/s]\n",
            "                 Class     Images  Instances      Box(P          R      mAP50  mAP50-95): 100%|██████████| 10/10 [00:04<00:00,  2.37it/s]"
          ]
        },
        {
          "metadata": {
            "tags": null
          },
          "name": "stdout",
          "output_type": "stream",
          "text": [
            "                   all        300        296      0.974      0.982       0.99      0.989\n"
          ]
        },
        {
          "metadata": {
            "tags": null
          },
          "name": "stderr",
          "output_type": "stream",
          "text": [
            "\n"
          ]
        },
        {
          "metadata": {
            "tags": null
          },
          "name": "stdout",
          "output_type": "stream",
          "text": [
            "\n",
            "      Epoch    GPU_mem   box_loss   cls_loss   dfl_loss  Instances       Size\n"
          ]
        },
        {
          "metadata": {
            "tags": null
          },
          "name": "stderr",
          "output_type": "stream",
          "text": [
            "     33/100      2.16G    0.07502     0.3694        0.9         48        640: 100%|██████████| 75/75 [00:30<00:00,  2.45it/s]\n",
            "                 Class     Images  Instances      Box(P          R      mAP50  mAP50-95): 100%|██████████| 10/10 [00:04<00:00,  2.47it/s]"
          ]
        },
        {
          "metadata": {
            "tags": null
          },
          "name": "stdout",
          "output_type": "stream",
          "text": [
            "                   all        300        296      0.896      0.951      0.987      0.984\n"
          ]
        },
        {
          "metadata": {
            "tags": null
          },
          "name": "stderr",
          "output_type": "stream",
          "text": [
            "\n"
          ]
        },
        {
          "metadata": {
            "tags": null
          },
          "name": "stdout",
          "output_type": "stream",
          "text": [
            "\n",
            "      Epoch    GPU_mem   box_loss   cls_loss   dfl_loss  Instances       Size\n"
          ]
        },
        {
          "metadata": {
            "tags": null
          },
          "name": "stderr",
          "output_type": "stream",
          "text": [
            "     34/100      2.16G    0.07329      0.373     0.8969         48        640: 100%|██████████| 75/75 [00:31<00:00,  2.35it/s]\n",
            "                 Class     Images  Instances      Box(P          R      mAP50  mAP50-95): 100%|██████████| 10/10 [00:03<00:00,  2.96it/s]"
          ]
        },
        {
          "metadata": {
            "tags": null
          },
          "name": "stdout",
          "output_type": "stream",
          "text": [
            "                   all        300        296      0.949      0.978      0.986      0.959\n"
          ]
        },
        {
          "metadata": {
            "tags": null
          },
          "name": "stderr",
          "output_type": "stream",
          "text": [
            "\n"
          ]
        },
        {
          "metadata": {
            "tags": null
          },
          "name": "stdout",
          "output_type": "stream",
          "text": [
            "\n",
            "      Epoch    GPU_mem   box_loss   cls_loss   dfl_loss  Instances       Size\n"
          ]
        },
        {
          "metadata": {
            "tags": null
          },
          "name": "stderr",
          "output_type": "stream",
          "text": [
            "     35/100      2.16G    0.07385     0.3301     0.8998         41        640: 100%|██████████| 75/75 [00:31<00:00,  2.39it/s]\n",
            "                 Class     Images  Instances      Box(P          R      mAP50  mAP50-95): 100%|██████████| 10/10 [00:03<00:00,  2.77it/s]"
          ]
        },
        {
          "metadata": {
            "tags": null
          },
          "name": "stdout",
          "output_type": "stream",
          "text": [
            "                   all        300        296      0.963      0.981      0.987      0.966\n"
          ]
        },
        {
          "metadata": {
            "tags": null
          },
          "name": "stderr",
          "output_type": "stream",
          "text": [
            "\n"
          ]
        },
        {
          "metadata": {
            "tags": null
          },
          "name": "stdout",
          "output_type": "stream",
          "text": [
            "\n",
            "      Epoch    GPU_mem   box_loss   cls_loss   dfl_loss  Instances       Size\n"
          ]
        },
        {
          "metadata": {
            "tags": null
          },
          "name": "stderr",
          "output_type": "stream",
          "text": [
            "     36/100      2.15G    0.07457     0.3438     0.8918         53        640: 100%|██████████| 75/75 [00:31<00:00,  2.40it/s]\n",
            "                 Class     Images  Instances      Box(P          R      mAP50  mAP50-95): 100%|██████████| 10/10 [00:03<00:00,  2.82it/s]"
          ]
        },
        {
          "metadata": {
            "tags": null
          },
          "name": "stdout",
          "output_type": "stream",
          "text": [
            "                   all        300        296      0.979      0.995      0.987      0.987\n"
          ]
        },
        {
          "metadata": {
            "tags": null
          },
          "name": "stderr",
          "output_type": "stream",
          "text": [
            "\n"
          ]
        },
        {
          "metadata": {
            "tags": null
          },
          "name": "stdout",
          "output_type": "stream",
          "text": [
            "\n",
            "      Epoch    GPU_mem   box_loss   cls_loss   dfl_loss  Instances       Size\n"
          ]
        },
        {
          "metadata": {
            "tags": null
          },
          "name": "stderr",
          "output_type": "stream",
          "text": [
            "     37/100      2.15G     0.0731     0.3581     0.8961         43        640: 100%|██████████| 75/75 [00:32<00:00,  2.32it/s]\n",
            "                 Class     Images  Instances      Box(P          R      mAP50  mAP50-95): 100%|██████████| 10/10 [00:03<00:00,  2.89it/s]"
          ]
        },
        {
          "metadata": {
            "tags": null
          },
          "name": "stdout",
          "output_type": "stream",
          "text": [
            "                   all        300        296      0.979      0.951      0.987      0.981\n"
          ]
        },
        {
          "metadata": {
            "tags": null
          },
          "name": "stderr",
          "output_type": "stream",
          "text": [
            "\n"
          ]
        },
        {
          "metadata": {
            "tags": null
          },
          "name": "stdout",
          "output_type": "stream",
          "text": [
            "\n",
            "      Epoch    GPU_mem   box_loss   cls_loss   dfl_loss  Instances       Size\n"
          ]
        },
        {
          "metadata": {
            "tags": null
          },
          "name": "stderr",
          "output_type": "stream",
          "text": [
            "     38/100      2.16G    0.07206     0.3341      0.897         45        640: 100%|██████████| 75/75 [00:35<00:00,  2.14it/s]\n",
            "                 Class     Images  Instances      Box(P          R      mAP50  mAP50-95): 100%|██████████| 10/10 [00:03<00:00,  2.95it/s]"
          ]
        },
        {
          "metadata": {
            "tags": null
          },
          "name": "stdout",
          "output_type": "stream",
          "text": [
            "                   all        300        296      0.953       0.98      0.989      0.988\n"
          ]
        },
        {
          "metadata": {
            "tags": null
          },
          "name": "stderr",
          "output_type": "stream",
          "text": [
            "\n"
          ]
        },
        {
          "metadata": {
            "tags": null
          },
          "name": "stdout",
          "output_type": "stream",
          "text": [
            "\n",
            "      Epoch    GPU_mem   box_loss   cls_loss   dfl_loss  Instances       Size\n"
          ]
        },
        {
          "metadata": {
            "tags": null
          },
          "name": "stderr",
          "output_type": "stream",
          "text": [
            "     39/100      2.16G     0.0741     0.3201     0.8945         44        640: 100%|██████████| 75/75 [00:32<00:00,  2.34it/s]\n",
            "                 Class     Images  Instances      Box(P          R      mAP50  mAP50-95): 100%|██████████| 10/10 [00:03<00:00,  2.72it/s]"
          ]
        },
        {
          "metadata": {
            "tags": null
          },
          "name": "stdout",
          "output_type": "stream",
          "text": [
            "                   all        300        296      0.951      0.982      0.984      0.894\n"
          ]
        },
        {
          "metadata": {
            "tags": null
          },
          "name": "stderr",
          "output_type": "stream",
          "text": [
            "\n"
          ]
        },
        {
          "metadata": {
            "tags": null
          },
          "name": "stdout",
          "output_type": "stream",
          "text": [
            "\n",
            "      Epoch    GPU_mem   box_loss   cls_loss   dfl_loss  Instances       Size\n"
          ]
        },
        {
          "metadata": {
            "tags": null
          },
          "name": "stderr",
          "output_type": "stream",
          "text": [
            "     40/100      2.15G    0.07096     0.3013     0.8947         52        640: 100%|██████████| 75/75 [00:32<00:00,  2.31it/s]\n",
            "                 Class     Images  Instances      Box(P          R      mAP50  mAP50-95): 100%|██████████| 10/10 [00:03<00:00,  2.82it/s]"
          ]
        },
        {
          "metadata": {
            "tags": null
          },
          "name": "stdout",
          "output_type": "stream",
          "text": [
            "                   all        300        296      0.978      0.987      0.991      0.991\n"
          ]
        },
        {
          "metadata": {
            "tags": null
          },
          "name": "stderr",
          "output_type": "stream",
          "text": [
            "\n"
          ]
        },
        {
          "metadata": {
            "tags": null
          },
          "name": "stdout",
          "output_type": "stream",
          "text": [
            "\n",
            "      Epoch    GPU_mem   box_loss   cls_loss   dfl_loss  Instances       Size\n"
          ]
        },
        {
          "metadata": {
            "tags": null
          },
          "name": "stderr",
          "output_type": "stream",
          "text": [
            "     41/100      2.16G    0.06593     0.3008     0.8836         47        640: 100%|██████████| 75/75 [00:31<00:00,  2.36it/s]\n",
            "                 Class     Images  Instances      Box(P          R      mAP50  mAP50-95): 100%|██████████| 10/10 [00:03<00:00,  2.86it/s]"
          ]
        },
        {
          "metadata": {
            "tags": null
          },
          "name": "stdout",
          "output_type": "stream",
          "text": [
            "                   all        300        296      0.887      0.924       0.99       0.99\n"
          ]
        },
        {
          "metadata": {
            "tags": null
          },
          "name": "stderr",
          "output_type": "stream",
          "text": [
            "\n"
          ]
        },
        {
          "metadata": {
            "tags": null
          },
          "name": "stdout",
          "output_type": "stream",
          "text": [
            "\n",
            "      Epoch    GPU_mem   box_loss   cls_loss   dfl_loss  Instances       Size\n"
          ]
        },
        {
          "metadata": {
            "tags": null
          },
          "name": "stderr",
          "output_type": "stream",
          "text": [
            "     42/100      2.16G    0.06676     0.3107     0.8878         46        640: 100%|██████████| 75/75 [00:32<00:00,  2.29it/s]\n",
            "                 Class     Images  Instances      Box(P          R      mAP50  mAP50-95): 100%|██████████| 10/10 [00:03<00:00,  2.73it/s]"
          ]
        },
        {
          "metadata": {
            "tags": null
          },
          "name": "stdout",
          "output_type": "stream",
          "text": [
            "                   all        300        296      0.979      0.993       0.99       0.99\n"
          ]
        },
        {
          "metadata": {
            "tags": null
          },
          "name": "stderr",
          "output_type": "stream",
          "text": [
            "\n"
          ]
        },
        {
          "metadata": {
            "tags": null
          },
          "name": "stdout",
          "output_type": "stream",
          "text": [
            "\n",
            "      Epoch    GPU_mem   box_loss   cls_loss   dfl_loss  Instances       Size\n"
          ]
        },
        {
          "metadata": {
            "tags": null
          },
          "name": "stderr",
          "output_type": "stream",
          "text": [
            "     43/100      2.15G    0.06776      0.312     0.8877         51        640: 100%|██████████| 75/75 [00:31<00:00,  2.35it/s]\n",
            "                 Class     Images  Instances      Box(P          R      mAP50  mAP50-95): 100%|██████████| 10/10 [00:03<00:00,  2.90it/s]\n"
          ]
        },
        {
          "metadata": {
            "tags": null
          },
          "name": "stdout",
          "output_type": "stream",
          "text": [
            "                   all        300        296      0.982      0.991      0.991      0.991\n",
            "\n",
            "      Epoch    GPU_mem   box_loss   cls_loss   dfl_loss  Instances       Size\n"
          ]
        },
        {
          "metadata": {
            "tags": null
          },
          "name": "stderr",
          "output_type": "stream",
          "text": [
            "     44/100      2.16G    0.06185     0.3033     0.8941         51        640: 100%|██████████| 75/75 [00:33<00:00,  2.22it/s]\n",
            "                 Class     Images  Instances      Box(P          R      mAP50  mAP50-95): 100%|██████████| 10/10 [00:03<00:00,  3.01it/s]"
          ]
        },
        {
          "metadata": {
            "tags": null
          },
          "name": "stdout",
          "output_type": "stream",
          "text": [
            "                   all        300        296      0.898      0.943      0.984      0.983\n"
          ]
        },
        {
          "metadata": {
            "tags": null
          },
          "name": "stderr",
          "output_type": "stream",
          "text": [
            "\n"
          ]
        },
        {
          "metadata": {
            "tags": null
          },
          "name": "stdout",
          "output_type": "stream",
          "text": [
            "\n",
            "      Epoch    GPU_mem   box_loss   cls_loss   dfl_loss  Instances       Size\n"
          ]
        },
        {
          "metadata": {
            "tags": null
          },
          "name": "stderr",
          "output_type": "stream",
          "text": [
            "     45/100      2.15G    0.06337      0.269     0.8888         42        640: 100%|██████████| 75/75 [00:32<00:00,  2.31it/s]\n",
            "                 Class     Images  Instances      Box(P          R      mAP50  mAP50-95): 100%|██████████| 10/10 [00:03<00:00,  2.78it/s]"
          ]
        },
        {
          "metadata": {
            "tags": null
          },
          "name": "stdout",
          "output_type": "stream",
          "text": [
            "                   all        300        296      0.986      0.998      0.988      0.988\n"
          ]
        },
        {
          "metadata": {
            "tags": null
          },
          "name": "stderr",
          "output_type": "stream",
          "text": [
            "\n"
          ]
        },
        {
          "metadata": {
            "tags": null
          },
          "name": "stdout",
          "output_type": "stream",
          "text": [
            "\n",
            "      Epoch    GPU_mem   box_loss   cls_loss   dfl_loss  Instances       Size\n"
          ]
        },
        {
          "metadata": {
            "tags": null
          },
          "name": "stderr",
          "output_type": "stream",
          "text": [
            "     46/100      2.16G    0.06247     0.2877     0.8899         49        640: 100%|██████████| 75/75 [00:30<00:00,  2.45it/s]\n",
            "                 Class     Images  Instances      Box(P          R      mAP50  mAP50-95): 100%|██████████| 10/10 [00:05<00:00,  1.68it/s]"
          ]
        },
        {
          "metadata": {
            "tags": null
          },
          "name": "stdout",
          "output_type": "stream",
          "text": [
            "                   all        300        296      0.981      0.996      0.988      0.985\n"
          ]
        },
        {
          "metadata": {
            "tags": null
          },
          "name": "stderr",
          "output_type": "stream",
          "text": [
            "\n"
          ]
        },
        {
          "metadata": {
            "tags": null
          },
          "name": "stdout",
          "output_type": "stream",
          "text": [
            "\n",
            "      Epoch    GPU_mem   box_loss   cls_loss   dfl_loss  Instances       Size\n"
          ]
        },
        {
          "metadata": {
            "tags": null
          },
          "name": "stderr",
          "output_type": "stream",
          "text": [
            "     47/100      2.16G    0.06383     0.3013     0.8906         48        640: 100%|██████████| 75/75 [00:32<00:00,  2.31it/s]\n",
            "                 Class     Images  Instances      Box(P          R      mAP50  mAP50-95): 100%|██████████| 10/10 [00:04<00:00,  2.07it/s]"
          ]
        },
        {
          "metadata": {
            "tags": null
          },
          "name": "stdout",
          "output_type": "stream",
          "text": [
            "                   all        300        296      0.975      0.995      0.988      0.988\n"
          ]
        },
        {
          "metadata": {
            "tags": null
          },
          "name": "stderr",
          "output_type": "stream",
          "text": [
            "\n"
          ]
        },
        {
          "metadata": {
            "tags": null
          },
          "name": "stdout",
          "output_type": "stream",
          "text": [
            "\n",
            "      Epoch    GPU_mem   box_loss   cls_loss   dfl_loss  Instances       Size\n"
          ]
        },
        {
          "metadata": {
            "tags": null
          },
          "name": "stderr",
          "output_type": "stream",
          "text": [
            "     48/100      2.16G    0.06135      0.273     0.8857         49        640: 100%|██████████| 75/75 [00:29<00:00,  2.51it/s]\n",
            "                 Class     Images  Instances      Box(P          R      mAP50  mAP50-95): 100%|██████████| 10/10 [00:05<00:00,  1.95it/s]"
          ]
        },
        {
          "metadata": {
            "tags": null
          },
          "name": "stdout",
          "output_type": "stream",
          "text": [
            "                   all        300        296      0.984      0.989      0.991       0.99\n"
          ]
        },
        {
          "metadata": {
            "tags": null
          },
          "name": "stderr",
          "output_type": "stream",
          "text": [
            "\n"
          ]
        },
        {
          "metadata": {
            "tags": null
          },
          "name": "stdout",
          "output_type": "stream",
          "text": [
            "\n",
            "      Epoch    GPU_mem   box_loss   cls_loss   dfl_loss  Instances       Size\n"
          ]
        },
        {
          "metadata": {
            "tags": null
          },
          "name": "stderr",
          "output_type": "stream",
          "text": [
            "     49/100      2.15G    0.06554     0.2841     0.8924         48        640: 100%|██████████| 75/75 [00:29<00:00,  2.54it/s]\n",
            "                 Class     Images  Instances      Box(P          R      mAP50  mAP50-95): 100%|██████████| 10/10 [00:05<00:00,  1.73it/s]"
          ]
        },
        {
          "metadata": {
            "tags": null
          },
          "name": "stdout",
          "output_type": "stream",
          "text": [
            "                   all        300        296      0.986          1      0.987      0.987\n"
          ]
        },
        {
          "metadata": {
            "tags": null
          },
          "name": "stderr",
          "output_type": "stream",
          "text": [
            "\n"
          ]
        },
        {
          "metadata": {
            "tags": null
          },
          "name": "stdout",
          "output_type": "stream",
          "text": [
            "\n",
            "      Epoch    GPU_mem   box_loss   cls_loss   dfl_loss  Instances       Size\n"
          ]
        },
        {
          "metadata": {
            "tags": null
          },
          "name": "stderr",
          "output_type": "stream",
          "text": [
            "     50/100      2.16G    0.06014     0.2738     0.8855         47        640: 100%|██████████| 75/75 [00:29<00:00,  2.57it/s]\n",
            "                 Class     Images  Instances      Box(P          R      mAP50  mAP50-95): 100%|██████████| 10/10 [00:06<00:00,  1.64it/s]"
          ]
        },
        {
          "metadata": {
            "tags": null
          },
          "name": "stdout",
          "output_type": "stream",
          "text": [
            "                   all        300        296      0.975       0.99      0.986      0.967\n"
          ]
        },
        {
          "metadata": {
            "tags": null
          },
          "name": "stderr",
          "output_type": "stream",
          "text": [
            "\n"
          ]
        },
        {
          "metadata": {
            "tags": null
          },
          "name": "stdout",
          "output_type": "stream",
          "text": [
            "\n",
            "      Epoch    GPU_mem   box_loss   cls_loss   dfl_loss  Instances       Size\n"
          ]
        },
        {
          "metadata": {
            "tags": null
          },
          "name": "stderr",
          "output_type": "stream",
          "text": [
            "     51/100      2.15G    0.05756      0.266     0.8938         46        640: 100%|██████████| 75/75 [00:29<00:00,  2.54it/s]\n",
            "                 Class     Images  Instances      Box(P          R      mAP50  mAP50-95): 100%|██████████| 10/10 [00:05<00:00,  1.70it/s]"
          ]
        },
        {
          "metadata": {
            "tags": null
          },
          "name": "stdout",
          "output_type": "stream",
          "text": [
            "                   all        300        296      0.985          1       0.99       0.99\n"
          ]
        },
        {
          "metadata": {
            "tags": null
          },
          "name": "stderr",
          "output_type": "stream",
          "text": [
            "\n"
          ]
        },
        {
          "metadata": {
            "tags": null
          },
          "name": "stdout",
          "output_type": "stream",
          "text": [
            "\n",
            "      Epoch    GPU_mem   box_loss   cls_loss   dfl_loss  Instances       Size\n"
          ]
        },
        {
          "metadata": {
            "tags": null
          },
          "name": "stderr",
          "output_type": "stream",
          "text": [
            "     52/100      2.15G    0.05736     0.2599     0.8942         42        640: 100%|██████████| 75/75 [00:28<00:00,  2.61it/s]\n",
            "                 Class     Images  Instances      Box(P          R      mAP50  mAP50-95): 100%|██████████| 10/10 [00:07<00:00,  1.36it/s]"
          ]
        },
        {
          "metadata": {
            "tags": null
          },
          "name": "stdout",
          "output_type": "stream",
          "text": [
            "                   all        300        296      0.983      0.988       0.99       0.99\n"
          ]
        },
        {
          "metadata": {
            "tags": null
          },
          "name": "stderr",
          "output_type": "stream",
          "text": [
            "\n"
          ]
        },
        {
          "metadata": {
            "tags": null
          },
          "name": "stdout",
          "output_type": "stream",
          "text": [
            "\n",
            "      Epoch    GPU_mem   box_loss   cls_loss   dfl_loss  Instances       Size\n"
          ]
        },
        {
          "metadata": {
            "tags": null
          },
          "name": "stderr",
          "output_type": "stream",
          "text": [
            "     53/100      2.15G    0.05744     0.2603     0.8893         53        640: 100%|██████████| 75/75 [00:28<00:00,  2.62it/s]\n",
            "                 Class     Images  Instances      Box(P          R      mAP50  mAP50-95): 100%|██████████| 10/10 [00:05<00:00,  1.77it/s]"
          ]
        },
        {
          "metadata": {
            "tags": null
          },
          "name": "stdout",
          "output_type": "stream",
          "text": [
            "                   all        300        296      0.973      0.991      0.991      0.985\n"
          ]
        },
        {
          "metadata": {
            "tags": null
          },
          "name": "stderr",
          "output_type": "stream",
          "text": [
            "\n"
          ]
        },
        {
          "metadata": {
            "tags": null
          },
          "name": "stdout",
          "output_type": "stream",
          "text": [
            "\n",
            "      Epoch    GPU_mem   box_loss   cls_loss   dfl_loss  Instances       Size\n"
          ]
        },
        {
          "metadata": {
            "tags": null
          },
          "name": "stderr",
          "output_type": "stream",
          "text": [
            "     54/100      2.16G    0.05387     0.2675      0.894         47        640: 100%|██████████| 75/75 [00:28<00:00,  2.63it/s]\n",
            "                 Class     Images  Instances      Box(P          R      mAP50  mAP50-95): 100%|██████████| 10/10 [00:06<00:00,  1.67it/s]"
          ]
        },
        {
          "metadata": {
            "tags": null
          },
          "name": "stdout",
          "output_type": "stream",
          "text": [
            "                   all        300        296      0.982      0.997      0.988      0.988\n"
          ]
        },
        {
          "metadata": {
            "tags": null
          },
          "name": "stderr",
          "output_type": "stream",
          "text": [
            "\n"
          ]
        },
        {
          "metadata": {
            "tags": null
          },
          "name": "stdout",
          "output_type": "stream",
          "text": [
            "\n",
            "      Epoch    GPU_mem   box_loss   cls_loss   dfl_loss  Instances       Size\n"
          ]
        },
        {
          "metadata": {
            "tags": null
          },
          "name": "stderr",
          "output_type": "stream",
          "text": [
            "     55/100      2.15G    0.05506     0.2525     0.8898         52        640: 100%|██████████| 75/75 [00:33<00:00,  2.21it/s]\n",
            "                 Class     Images  Instances      Box(P          R      mAP50  mAP50-95): 100%|██████████| 10/10 [00:06<00:00,  1.61it/s]"
          ]
        },
        {
          "metadata": {
            "tags": null
          },
          "name": "stdout",
          "output_type": "stream",
          "text": [
            "                   all        300        296      0.981       0.99      0.989      0.989\n"
          ]
        },
        {
          "metadata": {
            "tags": null
          },
          "name": "stderr",
          "output_type": "stream",
          "text": [
            "\n"
          ]
        },
        {
          "metadata": {
            "tags": null
          },
          "name": "stdout",
          "output_type": "stream",
          "text": [
            "\n",
            "      Epoch    GPU_mem   box_loss   cls_loss   dfl_loss  Instances       Size\n"
          ]
        },
        {
          "metadata": {
            "tags": null
          },
          "name": "stderr",
          "output_type": "stream",
          "text": [
            "     56/100      2.15G    0.05529     0.2539     0.8931         42        640: 100%|██████████| 75/75 [00:29<00:00,  2.57it/s]\n",
            "                 Class     Images  Instances      Box(P          R      mAP50  mAP50-95): 100%|██████████| 10/10 [00:06<00:00,  1.58it/s]"
          ]
        },
        {
          "metadata": {
            "tags": null
          },
          "name": "stdout",
          "output_type": "stream",
          "text": [
            "                   all        300        296      0.986          1      0.991      0.991\n"
          ]
        },
        {
          "metadata": {
            "tags": null
          },
          "name": "stderr",
          "output_type": "stream",
          "text": [
            "\n"
          ]
        },
        {
          "metadata": {
            "tags": null
          },
          "name": "stdout",
          "output_type": "stream",
          "text": [
            "\n",
            "      Epoch    GPU_mem   box_loss   cls_loss   dfl_loss  Instances       Size\n"
          ]
        },
        {
          "metadata": {
            "tags": null
          },
          "name": "stderr",
          "output_type": "stream",
          "text": [
            "     57/100      2.15G    0.05629      0.262      0.892         44        640: 100%|██████████| 75/75 [00:29<00:00,  2.55it/s]\n",
            "                 Class     Images  Instances      Box(P          R      mAP50  mAP50-95): 100%|██████████| 10/10 [00:06<00:00,  1.59it/s]"
          ]
        },
        {
          "metadata": {
            "tags": null
          },
          "name": "stdout",
          "output_type": "stream",
          "text": [
            "                   all        300        296      0.985          1      0.986      0.986\n"
          ]
        },
        {
          "metadata": {
            "tags": null
          },
          "name": "stderr",
          "output_type": "stream",
          "text": [
            "\n"
          ]
        },
        {
          "metadata": {
            "tags": null
          },
          "name": "stdout",
          "output_type": "stream",
          "text": [
            "\n",
            "      Epoch    GPU_mem   box_loss   cls_loss   dfl_loss  Instances       Size\n"
          ]
        },
        {
          "metadata": {
            "tags": null
          },
          "name": "stderr",
          "output_type": "stream",
          "text": [
            "     58/100      2.16G    0.05707     0.2488     0.8831         54        640: 100%|██████████| 75/75 [00:28<00:00,  2.64it/s]\n",
            "                 Class     Images  Instances      Box(P          R      mAP50  mAP50-95): 100%|██████████| 10/10 [00:05<00:00,  1.88it/s]"
          ]
        },
        {
          "metadata": {
            "tags": null
          },
          "name": "stdout",
          "output_type": "stream",
          "text": [
            "                   all        300        296      0.989      0.996      0.992      0.992\n"
          ]
        },
        {
          "metadata": {
            "tags": null
          },
          "name": "stderr",
          "output_type": "stream",
          "text": [
            "\n"
          ]
        },
        {
          "metadata": {
            "tags": null
          },
          "name": "stdout",
          "output_type": "stream",
          "text": [
            "\n",
            "      Epoch    GPU_mem   box_loss   cls_loss   dfl_loss  Instances       Size\n"
          ]
        },
        {
          "metadata": {
            "tags": null
          },
          "name": "stderr",
          "output_type": "stream",
          "text": [
            "     59/100      2.15G    0.05329     0.2341     0.8897         40        640: 100%|██████████| 75/75 [00:29<00:00,  2.53it/s]\n",
            "                 Class     Images  Instances      Box(P          R      mAP50  mAP50-95): 100%|██████████| 10/10 [00:04<00:00,  2.28it/s]"
          ]
        },
        {
          "metadata": {
            "tags": null
          },
          "name": "stdout",
          "output_type": "stream",
          "text": [
            "                   all        300        296      0.983      0.998      0.989      0.989\n"
          ]
        },
        {
          "metadata": {
            "tags": null
          },
          "name": "stderr",
          "output_type": "stream",
          "text": [
            "\n"
          ]
        },
        {
          "metadata": {
            "tags": null
          },
          "name": "stdout",
          "output_type": "stream",
          "text": [
            "\n",
            "      Epoch    GPU_mem   box_loss   cls_loss   dfl_loss  Instances       Size\n"
          ]
        },
        {
          "metadata": {
            "tags": null
          },
          "name": "stderr",
          "output_type": "stream",
          "text": [
            "     60/100      2.16G    0.05222     0.2258     0.8849         47        640: 100%|██████████| 75/75 [00:29<00:00,  2.51it/s]\n",
            "                 Class     Images  Instances      Box(P          R      mAP50  mAP50-95): 100%|██████████| 10/10 [00:04<00:00,  2.19it/s]"
          ]
        },
        {
          "metadata": {
            "tags": null
          },
          "name": "stdout",
          "output_type": "stream",
          "text": [
            "                   all        300        296      0.982          1      0.993      0.993\n"
          ]
        },
        {
          "metadata": {
            "tags": null
          },
          "name": "stderr",
          "output_type": "stream",
          "text": [
            "\n"
          ]
        },
        {
          "metadata": {
            "tags": null
          },
          "name": "stdout",
          "output_type": "stream",
          "text": [
            "\n",
            "      Epoch    GPU_mem   box_loss   cls_loss   dfl_loss  Instances       Size\n"
          ]
        },
        {
          "metadata": {
            "tags": null
          },
          "name": "stderr",
          "output_type": "stream",
          "text": [
            "     61/100      2.15G    0.05309     0.2442     0.8854         51        640: 100%|██████████| 75/75 [00:30<00:00,  2.42it/s]\n",
            "                 Class     Images  Instances      Box(P          R      mAP50  mAP50-95): 100%|██████████| 10/10 [00:03<00:00,  2.81it/s]"
          ]
        },
        {
          "metadata": {
            "tags": null
          },
          "name": "stdout",
          "output_type": "stream",
          "text": [
            "                   all        300        296       0.99      0.995      0.991      0.991\n"
          ]
        },
        {
          "metadata": {
            "tags": null
          },
          "name": "stderr",
          "output_type": "stream",
          "text": [
            "\n"
          ]
        },
        {
          "metadata": {
            "tags": null
          },
          "name": "stdout",
          "output_type": "stream",
          "text": [
            "\n",
            "      Epoch    GPU_mem   box_loss   cls_loss   dfl_loss  Instances       Size\n"
          ]
        },
        {
          "metadata": {
            "tags": null
          },
          "name": "stderr",
          "output_type": "stream",
          "text": [
            "     62/100      2.16G    0.05263     0.2335     0.8879         45        640: 100%|██████████| 75/75 [00:31<00:00,  2.38it/s]\n",
            "                 Class     Images  Instances      Box(P          R      mAP50  mAP50-95): 100%|██████████| 10/10 [00:03<00:00,  3.13it/s]"
          ]
        },
        {
          "metadata": {
            "tags": null
          },
          "name": "stdout",
          "output_type": "stream",
          "text": [
            "                   all        300        296      0.987      0.999      0.987      0.987\n"
          ]
        },
        {
          "metadata": {
            "tags": null
          },
          "name": "stderr",
          "output_type": "stream",
          "text": [
            "\n"
          ]
        },
        {
          "metadata": {
            "tags": null
          },
          "name": "stdout",
          "output_type": "stream",
          "text": [
            "\n",
            "      Epoch    GPU_mem   box_loss   cls_loss   dfl_loss  Instances       Size\n"
          ]
        },
        {
          "metadata": {
            "tags": null
          },
          "name": "stderr",
          "output_type": "stream",
          "text": [
            "     63/100      2.15G    0.05018     0.2287     0.8918         56        640: 100%|██████████| 75/75 [00:32<00:00,  2.30it/s]\n",
            "                 Class     Images  Instances      Box(P          R      mAP50  mAP50-95): 100%|██████████| 10/10 [00:03<00:00,  2.98it/s]"
          ]
        },
        {
          "metadata": {
            "tags": null
          },
          "name": "stdout",
          "output_type": "stream",
          "text": [
            "                   all        300        296      0.989      0.996       0.99      0.989\n"
          ]
        },
        {
          "metadata": {
            "tags": null
          },
          "name": "stderr",
          "output_type": "stream",
          "text": [
            "\n"
          ]
        },
        {
          "metadata": {
            "tags": null
          },
          "name": "stdout",
          "output_type": "stream",
          "text": [
            "\n",
            "      Epoch    GPU_mem   box_loss   cls_loss   dfl_loss  Instances       Size\n"
          ]
        },
        {
          "metadata": {
            "tags": null
          },
          "name": "stderr",
          "output_type": "stream",
          "text": [
            "     64/100      2.15G    0.04811     0.2127     0.8917         54        640: 100%|██████████| 75/75 [00:34<00:00,  2.16it/s]\n",
            "                 Class     Images  Instances      Box(P          R      mAP50  mAP50-95): 100%|██████████| 10/10 [00:03<00:00,  2.92it/s]"
          ]
        },
        {
          "metadata": {
            "tags": null
          },
          "name": "stdout",
          "output_type": "stream",
          "text": [
            "                   all        300        296      0.989      0.999      0.991      0.988\n"
          ]
        },
        {
          "metadata": {
            "tags": null
          },
          "name": "stderr",
          "output_type": "stream",
          "text": [
            "\n"
          ]
        },
        {
          "metadata": {
            "tags": null
          },
          "name": "stdout",
          "output_type": "stream",
          "text": [
            "\n",
            "      Epoch    GPU_mem   box_loss   cls_loss   dfl_loss  Instances       Size\n"
          ]
        },
        {
          "metadata": {
            "tags": null
          },
          "name": "stderr",
          "output_type": "stream",
          "text": [
            "     65/100      2.15G    0.05001     0.2276     0.8877         51        640: 100%|██████████| 75/75 [00:31<00:00,  2.38it/s]\n",
            "                 Class     Images  Instances      Box(P          R      mAP50  mAP50-95): 100%|██████████| 10/10 [00:03<00:00,  2.87it/s]"
          ]
        },
        {
          "metadata": {
            "tags": null
          },
          "name": "stdout",
          "output_type": "stream",
          "text": [
            "                   all        300        296      0.983          1       0.99       0.99\n"
          ]
        },
        {
          "metadata": {
            "tags": null
          },
          "name": "stderr",
          "output_type": "stream",
          "text": [
            "\n"
          ]
        },
        {
          "metadata": {
            "tags": null
          },
          "name": "stdout",
          "output_type": "stream",
          "text": [
            "\n",
            "      Epoch    GPU_mem   box_loss   cls_loss   dfl_loss  Instances       Size\n"
          ]
        },
        {
          "metadata": {
            "tags": null
          },
          "name": "stderr",
          "output_type": "stream",
          "text": [
            "     66/100      2.16G    0.04941     0.2382     0.8921         53        640: 100%|██████████| 75/75 [00:32<00:00,  2.29it/s]\n",
            "                 Class     Images  Instances      Box(P          R      mAP50  mAP50-95): 100%|██████████| 10/10 [00:03<00:00,  2.80it/s]"
          ]
        },
        {
          "metadata": {
            "tags": null
          },
          "name": "stdout",
          "output_type": "stream",
          "text": [
            "                   all        300        296      0.985          1      0.991      0.988\n"
          ]
        },
        {
          "metadata": {
            "tags": null
          },
          "name": "stderr",
          "output_type": "stream",
          "text": [
            "\n"
          ]
        },
        {
          "metadata": {
            "tags": null
          },
          "name": "stdout",
          "output_type": "stream",
          "text": [
            "\n",
            "      Epoch    GPU_mem   box_loss   cls_loss   dfl_loss  Instances       Size\n"
          ]
        },
        {
          "metadata": {
            "tags": null
          },
          "name": "stderr",
          "output_type": "stream",
          "text": [
            "     67/100      2.16G    0.04823     0.2338     0.8855         47        640: 100%|██████████| 75/75 [00:32<00:00,  2.30it/s]\n",
            "                 Class     Images  Instances      Box(P          R      mAP50  mAP50-95): 100%|██████████| 10/10 [00:03<00:00,  3.11it/s]"
          ]
        },
        {
          "metadata": {
            "tags": null
          },
          "name": "stdout",
          "output_type": "stream",
          "text": [
            "                   all        300        296      0.989      0.999      0.989      0.989\n"
          ]
        },
        {
          "metadata": {
            "tags": null
          },
          "name": "stderr",
          "output_type": "stream",
          "text": [
            "\n"
          ]
        },
        {
          "metadata": {
            "tags": null
          },
          "name": "stdout",
          "output_type": "stream",
          "text": [
            "\n",
            "      Epoch    GPU_mem   box_loss   cls_loss   dfl_loss  Instances       Size\n"
          ]
        },
        {
          "metadata": {
            "tags": null
          },
          "name": "stderr",
          "output_type": "stream",
          "text": [
            "     68/100      2.15G    0.04721     0.2074     0.8946         51        640: 100%|██████████| 75/75 [00:31<00:00,  2.36it/s]\n",
            "                 Class     Images  Instances      Box(P          R      mAP50  mAP50-95): 100%|██████████| 10/10 [00:03<00:00,  2.66it/s]\n"
          ]
        },
        {
          "metadata": {
            "tags": null
          },
          "name": "stdout",
          "output_type": "stream",
          "text": [
            "                   all        300        296      0.984      0.996       0.99      0.989\n",
            "\n",
            "      Epoch    GPU_mem   box_loss   cls_loss   dfl_loss  Instances       Size\n"
          ]
        },
        {
          "metadata": {
            "tags": null
          },
          "name": "stderr",
          "output_type": "stream",
          "text": [
            "     69/100      2.15G    0.04768     0.2096     0.8889         43        640: 100%|██████████| 75/75 [00:32<00:00,  2.34it/s]\n",
            "                 Class     Images  Instances      Box(P          R      mAP50  mAP50-95): 100%|██████████| 10/10 [00:03<00:00,  2.99it/s]"
          ]
        },
        {
          "metadata": {
            "tags": null
          },
          "name": "stdout",
          "output_type": "stream",
          "text": [
            "                   all        300        296      0.982      0.997       0.99       0.99\n"
          ]
        },
        {
          "metadata": {
            "tags": null
          },
          "name": "stderr",
          "output_type": "stream",
          "text": [
            "\n"
          ]
        },
        {
          "metadata": {
            "tags": null
          },
          "name": "stdout",
          "output_type": "stream",
          "text": [
            "\n",
            "      Epoch    GPU_mem   box_loss   cls_loss   dfl_loss  Instances       Size\n"
          ]
        },
        {
          "metadata": {
            "tags": null
          },
          "name": "stderr",
          "output_type": "stream",
          "text": [
            "     70/100      2.16G    0.04657     0.1908     0.8852         42        640: 100%|██████████| 75/75 [00:31<00:00,  2.36it/s]\n",
            "                 Class     Images  Instances      Box(P          R      mAP50  mAP50-95): 100%|██████████| 10/10 [00:03<00:00,  2.72it/s]"
          ]
        },
        {
          "metadata": {
            "tags": null
          },
          "name": "stdout",
          "output_type": "stream",
          "text": [
            "                   all        300        296      0.983      0.997      0.991      0.991\n"
          ]
        },
        {
          "metadata": {
            "tags": null
          },
          "name": "stderr",
          "output_type": "stream",
          "text": [
            "\n"
          ]
        },
        {
          "metadata": {
            "tags": null
          },
          "name": "stdout",
          "output_type": "stream",
          "text": [
            "\n",
            "      Epoch    GPU_mem   box_loss   cls_loss   dfl_loss  Instances       Size\n"
          ]
        },
        {
          "metadata": {
            "tags": null
          },
          "name": "stderr",
          "output_type": "stream",
          "text": [
            "     71/100      2.15G    0.04516      0.194     0.8869         39        640: 100%|██████████| 75/75 [00:32<00:00,  2.32it/s]\n",
            "                 Class     Images  Instances      Box(P          R      mAP50  mAP50-95): 100%|██████████| 10/10 [00:03<00:00,  2.94it/s]"
          ]
        },
        {
          "metadata": {
            "tags": null
          },
          "name": "stdout",
          "output_type": "stream",
          "text": [
            "                   all        300        296      0.988          1       0.99      0.989\n"
          ]
        },
        {
          "metadata": {
            "tags": null
          },
          "name": "stderr",
          "output_type": "stream",
          "text": [
            "\n"
          ]
        },
        {
          "metadata": {
            "tags": null
          },
          "name": "stdout",
          "output_type": "stream",
          "text": [
            "\n",
            "      Epoch    GPU_mem   box_loss   cls_loss   dfl_loss  Instances       Size\n"
          ]
        },
        {
          "metadata": {
            "tags": null
          },
          "name": "stderr",
          "output_type": "stream",
          "text": [
            "     72/100      2.16G    0.04657     0.1955     0.8881         52        640: 100%|██████████| 75/75 [00:32<00:00,  2.30it/s]\n",
            "                 Class     Images  Instances      Box(P          R      mAP50  mAP50-95): 100%|██████████| 10/10 [00:06<00:00,  1.50it/s]"
          ]
        },
        {
          "metadata": {
            "tags": null
          },
          "name": "stdout",
          "output_type": "stream",
          "text": [
            "                   all        300        296      0.986      0.999      0.989      0.989\n"
          ]
        },
        {
          "metadata": {
            "tags": null
          },
          "name": "stderr",
          "output_type": "stream",
          "text": [
            "\n"
          ]
        },
        {
          "metadata": {
            "tags": null
          },
          "name": "stdout",
          "output_type": "stream",
          "text": [
            "\n",
            "      Epoch    GPU_mem   box_loss   cls_loss   dfl_loss  Instances       Size\n"
          ]
        },
        {
          "metadata": {
            "tags": null
          },
          "name": "stderr",
          "output_type": "stream",
          "text": [
            "     73/100      2.15G    0.04492     0.1969     0.8856         46        640: 100%|██████████| 75/75 [00:32<00:00,  2.34it/s]\n",
            "                 Class     Images  Instances      Box(P          R      mAP50  mAP50-95): 100%|██████████| 10/10 [00:03<00:00,  2.86it/s]"
          ]
        },
        {
          "metadata": {
            "tags": null
          },
          "name": "stdout",
          "output_type": "stream",
          "text": [
            "                   all        300        296      0.986          1      0.989      0.989\n"
          ]
        },
        {
          "metadata": {
            "tags": null
          },
          "name": "stderr",
          "output_type": "stream",
          "text": [
            "\n"
          ]
        },
        {
          "metadata": {
            "tags": null
          },
          "name": "stdout",
          "output_type": "stream",
          "text": [
            "\n",
            "      Epoch    GPU_mem   box_loss   cls_loss   dfl_loss  Instances       Size\n"
          ]
        },
        {
          "metadata": {
            "tags": null
          },
          "name": "stderr",
          "output_type": "stream",
          "text": [
            "     74/100      2.16G    0.04291     0.2072     0.8918         51        640: 100%|██████████| 75/75 [00:32<00:00,  2.28it/s]\n",
            "                 Class     Images  Instances      Box(P          R      mAP50  mAP50-95): 100%|██████████| 10/10 [00:03<00:00,  2.93it/s]"
          ]
        },
        {
          "metadata": {
            "tags": null
          },
          "name": "stdout",
          "output_type": "stream",
          "text": [
            "                   all        300        296      0.986          1      0.989      0.989\n"
          ]
        },
        {
          "metadata": {
            "tags": null
          },
          "name": "stderr",
          "output_type": "stream",
          "text": [
            "\n"
          ]
        },
        {
          "metadata": {
            "tags": null
          },
          "name": "stdout",
          "output_type": "stream",
          "text": [
            "\n",
            "      Epoch    GPU_mem   box_loss   cls_loss   dfl_loss  Instances       Size\n"
          ]
        },
        {
          "metadata": {
            "tags": null
          },
          "name": "stderr",
          "output_type": "stream",
          "text": [
            "     75/100      2.15G    0.04309      0.194     0.8894         47        640: 100%|██████████| 75/75 [00:31<00:00,  2.40it/s]\n",
            "                 Class     Images  Instances      Box(P          R      mAP50  mAP50-95): 100%|██████████| 10/10 [00:03<00:00,  2.55it/s]"
          ]
        },
        {
          "metadata": {
            "tags": null
          },
          "name": "stdout",
          "output_type": "stream",
          "text": [
            "                   all        300        296      0.986      0.999      0.991      0.991\n"
          ]
        },
        {
          "metadata": {
            "tags": null
          },
          "name": "stderr",
          "output_type": "stream",
          "text": [
            "\n"
          ]
        },
        {
          "metadata": {
            "tags": null
          },
          "name": "stdout",
          "output_type": "stream",
          "text": [
            "\n",
            "      Epoch    GPU_mem   box_loss   cls_loss   dfl_loss  Instances       Size\n"
          ]
        },
        {
          "metadata": {
            "tags": null
          },
          "name": "stderr",
          "output_type": "stream",
          "text": [
            "     76/100      2.15G    0.03954     0.1965     0.8851         49        640: 100%|██████████| 75/75 [00:31<00:00,  2.38it/s]\n",
            "                 Class     Images  Instances      Box(P          R      mAP50  mAP50-95): 100%|██████████| 10/10 [00:04<00:00,  2.36it/s]"
          ]
        },
        {
          "metadata": {
            "tags": null
          },
          "name": "stdout",
          "output_type": "stream",
          "text": [
            "                   all        300        296      0.988      0.996       0.99       0.99\n"
          ]
        },
        {
          "metadata": {
            "tags": null
          },
          "name": "stderr",
          "output_type": "stream",
          "text": [
            "\n"
          ]
        },
        {
          "metadata": {
            "tags": null
          },
          "name": "stdout",
          "output_type": "stream",
          "text": [
            "\n",
            "      Epoch    GPU_mem   box_loss   cls_loss   dfl_loss  Instances       Size\n"
          ]
        },
        {
          "metadata": {
            "tags": null
          },
          "name": "stderr",
          "output_type": "stream",
          "text": [
            "     77/100      2.15G    0.04092     0.1847     0.8886         57        640: 100%|██████████| 75/75 [00:30<00:00,  2.45it/s]\n",
            "                 Class     Images  Instances      Box(P          R      mAP50  mAP50-95): 100%|██████████| 10/10 [00:05<00:00,  1.91it/s]"
          ]
        },
        {
          "metadata": {
            "tags": null
          },
          "name": "stdout",
          "output_type": "stream",
          "text": [
            "                   all        300        296      0.983      0.998      0.991      0.991\n"
          ]
        },
        {
          "metadata": {
            "tags": null
          },
          "name": "stderr",
          "output_type": "stream",
          "text": [
            "\n"
          ]
        },
        {
          "metadata": {
            "tags": null
          },
          "name": "stdout",
          "output_type": "stream",
          "text": [
            "\n",
            "      Epoch    GPU_mem   box_loss   cls_loss   dfl_loss  Instances       Size\n"
          ]
        },
        {
          "metadata": {
            "tags": null
          },
          "name": "stderr",
          "output_type": "stream",
          "text": [
            "     78/100      2.16G    0.04073     0.1832     0.8854         51        640: 100%|██████████| 75/75 [00:29<00:00,  2.53it/s]\n",
            "                 Class     Images  Instances      Box(P          R      mAP50  mAP50-95): 100%|██████████| 10/10 [00:07<00:00,  1.42it/s]"
          ]
        },
        {
          "metadata": {
            "tags": null
          },
          "name": "stdout",
          "output_type": "stream",
          "text": [
            "                   all        300        296      0.986          1       0.99       0.99\n"
          ]
        },
        {
          "metadata": {
            "tags": null
          },
          "name": "stderr",
          "output_type": "stream",
          "text": [
            "\n"
          ]
        },
        {
          "metadata": {
            "tags": null
          },
          "name": "stdout",
          "output_type": "stream",
          "text": [
            "\n",
            "      Epoch    GPU_mem   box_loss   cls_loss   dfl_loss  Instances       Size\n"
          ]
        },
        {
          "metadata": {
            "tags": null
          },
          "name": "stderr",
          "output_type": "stream",
          "text": [
            "     79/100      2.15G    0.03914      0.183     0.8838         48        640: 100%|██████████| 75/75 [00:28<00:00,  2.62it/s]\n",
            "                 Class     Images  Instances      Box(P          R      mAP50  mAP50-95): 100%|██████████| 10/10 [00:05<00:00,  1.91it/s]"
          ]
        },
        {
          "metadata": {
            "tags": null
          },
          "name": "stdout",
          "output_type": "stream",
          "text": [
            "                   all        300        296      0.987          1       0.99       0.99\n"
          ]
        },
        {
          "metadata": {
            "tags": null
          },
          "name": "stderr",
          "output_type": "stream",
          "text": [
            "\n"
          ]
        },
        {
          "metadata": {
            "tags": null
          },
          "name": "stdout",
          "output_type": "stream",
          "text": [
            "\n",
            "      Epoch    GPU_mem   box_loss   cls_loss   dfl_loss  Instances       Size\n"
          ]
        },
        {
          "metadata": {
            "tags": null
          },
          "name": "stderr",
          "output_type": "stream",
          "text": [
            "     80/100      2.15G    0.03842     0.1792     0.8885         46        640: 100%|██████████| 75/75 [00:28<00:00,  2.61it/s]\n",
            "                 Class     Images  Instances      Box(P          R      mAP50  mAP50-95): 100%|██████████| 10/10 [00:06<00:00,  1.55it/s]"
          ]
        },
        {
          "metadata": {
            "tags": null
          },
          "name": "stdout",
          "output_type": "stream",
          "text": [
            "                   all        300        296      0.989          1      0.991      0.991\n"
          ]
        },
        {
          "metadata": {
            "tags": null
          },
          "name": "stderr",
          "output_type": "stream",
          "text": [
            "\n"
          ]
        },
        {
          "metadata": {
            "tags": null
          },
          "name": "stdout",
          "output_type": "stream",
          "text": [
            "\n",
            "      Epoch    GPU_mem   box_loss   cls_loss   dfl_loss  Instances       Size\n"
          ]
        },
        {
          "metadata": {
            "tags": null
          },
          "name": "stderr",
          "output_type": "stream",
          "text": [
            "     81/100      2.15G     0.0388        0.2     0.8785         42        640: 100%|██████████| 75/75 [00:30<00:00,  2.43it/s]\n",
            "                 Class     Images  Instances      Box(P          R      mAP50  mAP50-95): 100%|██████████| 10/10 [00:04<00:00,  2.45it/s]"
          ]
        },
        {
          "metadata": {
            "tags": null
          },
          "name": "stdout",
          "output_type": "stream",
          "text": [
            "                   all        300        296      0.985          1      0.991      0.991\n"
          ]
        },
        {
          "metadata": {
            "tags": null
          },
          "name": "stderr",
          "output_type": "stream",
          "text": [
            "\n"
          ]
        },
        {
          "metadata": {
            "tags": null
          },
          "name": "stdout",
          "output_type": "stream",
          "text": [
            "\n",
            "      Epoch    GPU_mem   box_loss   cls_loss   dfl_loss  Instances       Size\n"
          ]
        },
        {
          "metadata": {
            "tags": null
          },
          "name": "stderr",
          "output_type": "stream",
          "text": [
            "     82/100      2.16G    0.03837     0.1824     0.8878         50        640: 100%|██████████| 75/75 [00:30<00:00,  2.43it/s]\n",
            "                 Class     Images  Instances      Box(P          R      mAP50  mAP50-95): 100%|██████████| 10/10 [00:03<00:00,  2.59it/s]"
          ]
        },
        {
          "metadata": {
            "tags": null
          },
          "name": "stdout",
          "output_type": "stream",
          "text": [
            "                   all        300        296      0.986          1      0.991      0.991\n"
          ]
        },
        {
          "metadata": {
            "tags": null
          },
          "name": "stderr",
          "output_type": "stream",
          "text": [
            "\n"
          ]
        },
        {
          "metadata": {
            "tags": null
          },
          "name": "stdout",
          "output_type": "stream",
          "text": [
            "\n",
            "      Epoch    GPU_mem   box_loss   cls_loss   dfl_loss  Instances       Size\n"
          ]
        },
        {
          "metadata": {
            "tags": null
          },
          "name": "stderr",
          "output_type": "stream",
          "text": [
            "     83/100      2.15G    0.03629     0.1734     0.8871         50        640: 100%|██████████| 75/75 [00:31<00:00,  2.41it/s]\n",
            "                 Class     Images  Instances      Box(P          R      mAP50  mAP50-95): 100%|██████████| 10/10 [00:04<00:00,  2.24it/s]\n"
          ]
        },
        {
          "metadata": {
            "tags": null
          },
          "name": "stdout",
          "output_type": "stream",
          "text": [
            "                   all        300        296      0.983          1      0.989      0.989\n",
            "\n",
            "      Epoch    GPU_mem   box_loss   cls_loss   dfl_loss  Instances       Size\n"
          ]
        },
        {
          "metadata": {
            "tags": null
          },
          "name": "stderr",
          "output_type": "stream",
          "text": [
            "     84/100      2.15G     0.0357     0.1762     0.8852         46        640: 100%|██████████| 75/75 [00:31<00:00,  2.39it/s]\n",
            "                 Class     Images  Instances      Box(P          R      mAP50  mAP50-95): 100%|██████████| 10/10 [00:03<00:00,  3.02it/s]"
          ]
        },
        {
          "metadata": {
            "tags": null
          },
          "name": "stdout",
          "output_type": "stream",
          "text": [
            "                   all        300        296      0.989      0.999       0.99       0.99\n"
          ]
        },
        {
          "metadata": {
            "tags": null
          },
          "name": "stderr",
          "output_type": "stream",
          "text": [
            "\n"
          ]
        },
        {
          "metadata": {
            "tags": null
          },
          "name": "stdout",
          "output_type": "stream",
          "text": [
            "\n",
            "      Epoch    GPU_mem   box_loss   cls_loss   dfl_loss  Instances       Size\n"
          ]
        },
        {
          "metadata": {
            "tags": null
          },
          "name": "stderr",
          "output_type": "stream",
          "text": [
            "     85/100      2.15G    0.03575     0.1604     0.8912         47        640: 100%|██████████| 75/75 [00:31<00:00,  2.35it/s]\n",
            "                 Class     Images  Instances      Box(P          R      mAP50  mAP50-95): 100%|██████████| 10/10 [00:03<00:00,  2.87it/s]\n"
          ]
        },
        {
          "metadata": {
            "tags": null
          },
          "name": "stdout",
          "output_type": "stream",
          "text": [
            "                   all        300        296      0.989          1      0.991      0.991\n",
            "\n",
            "      Epoch    GPU_mem   box_loss   cls_loss   dfl_loss  Instances       Size\n"
          ]
        },
        {
          "metadata": {
            "tags": null
          },
          "name": "stderr",
          "output_type": "stream",
          "text": [
            "     86/100      2.16G    0.03522     0.1671     0.8888         45        640: 100%|██████████| 75/75 [00:31<00:00,  2.39it/s]\n",
            "                 Class     Images  Instances      Box(P          R      mAP50  mAP50-95): 100%|██████████| 10/10 [00:03<00:00,  2.77it/s]"
          ]
        },
        {
          "metadata": {
            "tags": null
          },
          "name": "stdout",
          "output_type": "stream",
          "text": [
            "                   all        300        296      0.986          1      0.989      0.989\n"
          ]
        },
        {
          "metadata": {
            "tags": null
          },
          "name": "stderr",
          "output_type": "stream",
          "text": [
            "\n"
          ]
        },
        {
          "metadata": {
            "tags": null
          },
          "name": "stdout",
          "output_type": "stream",
          "text": [
            "\n",
            "      Epoch    GPU_mem   box_loss   cls_loss   dfl_loss  Instances       Size\n"
          ]
        },
        {
          "metadata": {
            "tags": null
          },
          "name": "stderr",
          "output_type": "stream",
          "text": [
            "     87/100      2.16G    0.03473     0.1588     0.8867         40        640: 100%|██████████| 75/75 [00:31<00:00,  2.36it/s]\n",
            "                 Class     Images  Instances      Box(P          R      mAP50  mAP50-95): 100%|██████████| 10/10 [00:03<00:00,  2.71it/s]\n"
          ]
        },
        {
          "metadata": {
            "tags": null
          },
          "name": "stdout",
          "output_type": "stream",
          "text": [
            "                   all        300        296      0.989          1       0.99       0.99\n",
            "\n",
            "      Epoch    GPU_mem   box_loss   cls_loss   dfl_loss  Instances       Size\n"
          ]
        },
        {
          "metadata": {
            "tags": null
          },
          "name": "stderr",
          "output_type": "stream",
          "text": [
            "     88/100      2.15G    0.03269     0.1608     0.8857         50        640: 100%|██████████| 75/75 [00:32<00:00,  2.28it/s]\n",
            "                 Class     Images  Instances      Box(P          R      mAP50  mAP50-95): 100%|██████████| 10/10 [00:03<00:00,  2.75it/s]"
          ]
        },
        {
          "metadata": {
            "tags": null
          },
          "name": "stdout",
          "output_type": "stream",
          "text": [
            "                   all        300        296      0.985      0.999       0.99       0.99\n"
          ]
        },
        {
          "metadata": {
            "tags": null
          },
          "name": "stderr",
          "output_type": "stream",
          "text": [
            "\n"
          ]
        },
        {
          "metadata": {
            "tags": null
          },
          "name": "stdout",
          "output_type": "stream",
          "text": [
            "\n",
            "      Epoch    GPU_mem   box_loss   cls_loss   dfl_loss  Instances       Size\n"
          ]
        },
        {
          "metadata": {
            "tags": null
          },
          "name": "stderr",
          "output_type": "stream",
          "text": [
            "     89/100      2.16G    0.03212     0.1583     0.8904         43        640: 100%|██████████| 75/75 [00:33<00:00,  2.25it/s]\n",
            "                 Class     Images  Instances      Box(P          R      mAP50  mAP50-95): 100%|██████████| 10/10 [00:05<00:00,  1.92it/s]"
          ]
        },
        {
          "metadata": {
            "tags": null
          },
          "name": "stdout",
          "output_type": "stream",
          "text": [
            "                   all        300        296      0.988      0.997      0.991      0.991\n"
          ]
        },
        {
          "metadata": {
            "tags": null
          },
          "name": "stderr",
          "output_type": "stream",
          "text": [
            "\n"
          ]
        },
        {
          "metadata": {
            "tags": null
          },
          "name": "stdout",
          "output_type": "stream",
          "text": [
            "\n",
            "      Epoch    GPU_mem   box_loss   cls_loss   dfl_loss  Instances       Size\n"
          ]
        },
        {
          "metadata": {
            "tags": null
          },
          "name": "stderr",
          "output_type": "stream",
          "text": [
            "     90/100      2.16G    0.03125     0.1656     0.8903         38        640: 100%|██████████| 75/75 [00:33<00:00,  2.24it/s]\n",
            "                 Class     Images  Instances      Box(P          R      mAP50  mAP50-95): 100%|██████████| 10/10 [00:03<00:00,  3.00it/s]"
          ]
        },
        {
          "metadata": {
            "tags": null
          },
          "name": "stdout",
          "output_type": "stream",
          "text": [
            "                   all        300        296      0.988      0.999      0.991      0.991\n"
          ]
        },
        {
          "metadata": {
            "tags": null
          },
          "name": "stderr",
          "output_type": "stream",
          "text": [
            "\n"
          ]
        },
        {
          "metadata": {
            "tags": null
          },
          "name": "stdout",
          "output_type": "stream",
          "text": [
            "Closing dataloader mosaic\n",
            "\u001b[34m\u001b[1malbumentations: \u001b[0mBlur(p=0.01, blur_limit=(3, 7)), MedianBlur(p=0.01, blur_limit=(3, 7)), ToGray(p=0.01, num_output_channels=3, method='weighted_average'), CLAHE(p=0.01, clip_limit=(1.0, 4.0), tile_grid_size=(8, 8))\n",
            "\n",
            "      Epoch    GPU_mem   box_loss   cls_loss   dfl_loss  Instances       Size\n"
          ]
        },
        {
          "metadata": {
            "tags": null
          },
          "name": "stderr",
          "output_type": "stream",
          "text": [
            "     91/100      2.16G    0.05138     0.2229     0.9291         16        640: 100%|██████████| 75/75 [00:33<00:00,  2.26it/s]\n",
            "                 Class     Images  Instances      Box(P          R      mAP50  mAP50-95): 100%|██████████| 10/10 [00:03<00:00,  2.84it/s]"
          ]
        },
        {
          "metadata": {
            "tags": null
          },
          "name": "stdout",
          "output_type": "stream",
          "text": [
            "                   all        300        296      0.986          1      0.991       0.99\n"
          ]
        },
        {
          "metadata": {
            "tags": null
          },
          "name": "stderr",
          "output_type": "stream",
          "text": [
            "\n"
          ]
        },
        {
          "metadata": {
            "tags": null
          },
          "name": "stdout",
          "output_type": "stream",
          "text": [
            "\n",
            "      Epoch    GPU_mem   box_loss   cls_loss   dfl_loss  Instances       Size\n"
          ]
        },
        {
          "metadata": {
            "tags": null
          },
          "name": "stderr",
          "output_type": "stream",
          "text": [
            "     92/100      2.16G    0.03256     0.1086      0.897         16        640: 100%|██████████| 75/75 [00:30<00:00,  2.46it/s]\n",
            "                 Class     Images  Instances      Box(P          R      mAP50  mAP50-95): 100%|██████████| 10/10 [00:03<00:00,  2.76it/s]"
          ]
        },
        {
          "metadata": {
            "tags": null
          },
          "name": "stdout",
          "output_type": "stream",
          "text": [
            "                   all        300        296      0.984      0.999      0.992      0.992\n"
          ]
        },
        {
          "metadata": {
            "tags": null
          },
          "name": "stderr",
          "output_type": "stream",
          "text": [
            "\n"
          ]
        },
        {
          "metadata": {
            "tags": null
          },
          "name": "stdout",
          "output_type": "stream",
          "text": [
            "\n",
            "      Epoch    GPU_mem   box_loss   cls_loss   dfl_loss  Instances       Size\n"
          ]
        },
        {
          "metadata": {
            "tags": null
          },
          "name": "stderr",
          "output_type": "stream",
          "text": [
            "     93/100      2.15G    0.02856    0.08967     0.9084         16        640: 100%|██████████| 75/75 [00:30<00:00,  2.46it/s]\n",
            "                 Class     Images  Instances      Box(P          R      mAP50  mAP50-95): 100%|██████████| 10/10 [00:03<00:00,  2.61it/s]"
          ]
        },
        {
          "metadata": {
            "tags": null
          },
          "name": "stdout",
          "output_type": "stream",
          "text": [
            "                   all        300        296      0.986          1      0.991      0.991\n"
          ]
        },
        {
          "metadata": {
            "tags": null
          },
          "name": "stderr",
          "output_type": "stream",
          "text": [
            "\n"
          ]
        },
        {
          "metadata": {
            "tags": null
          },
          "name": "stdout",
          "output_type": "stream",
          "text": [
            "\n",
            "      Epoch    GPU_mem   box_loss   cls_loss   dfl_loss  Instances       Size\n"
          ]
        },
        {
          "metadata": {
            "tags": null
          },
          "name": "stderr",
          "output_type": "stream",
          "text": [
            "     94/100      2.16G    0.02721    0.09634     0.9043         16        640: 100%|██████████| 75/75 [00:31<00:00,  2.36it/s]\n",
            "                 Class     Images  Instances      Box(P          R      mAP50  mAP50-95): 100%|██████████| 10/10 [00:03<00:00,  2.90it/s]"
          ]
        },
        {
          "metadata": {
            "tags": null
          },
          "name": "stdout",
          "output_type": "stream",
          "text": [
            "                   all        300        296      0.984          1      0.991      0.991\n"
          ]
        },
        {
          "metadata": {
            "tags": null
          },
          "name": "stderr",
          "output_type": "stream",
          "text": [
            "\n"
          ]
        },
        {
          "metadata": {
            "tags": null
          },
          "name": "stdout",
          "output_type": "stream",
          "text": [
            "\n",
            "      Epoch    GPU_mem   box_loss   cls_loss   dfl_loss  Instances       Size\n"
          ]
        },
        {
          "metadata": {
            "tags": null
          },
          "name": "stderr",
          "output_type": "stream",
          "text": [
            "     95/100      2.15G     0.0229    0.08587     0.8983         16        640: 100%|██████████| 75/75 [00:28<00:00,  2.61it/s]\n",
            "                 Class     Images  Instances      Box(P          R      mAP50  mAP50-95): 100%|██████████| 10/10 [00:06<00:00,  1.59it/s]"
          ]
        },
        {
          "metadata": {
            "tags": null
          },
          "name": "stdout",
          "output_type": "stream",
          "text": [
            "                   all        300        296      0.983      0.999      0.991      0.991\n"
          ]
        },
        {
          "metadata": {
            "tags": null
          },
          "name": "stderr",
          "output_type": "stream",
          "text": [
            "\n"
          ]
        },
        {
          "metadata": {
            "tags": null
          },
          "name": "stdout",
          "output_type": "stream",
          "text": [
            "\n",
            "      Epoch    GPU_mem   box_loss   cls_loss   dfl_loss  Instances       Size\n"
          ]
        },
        {
          "metadata": {
            "tags": null
          },
          "name": "stderr",
          "output_type": "stream",
          "text": [
            "     96/100      2.15G    0.02289    0.09058     0.8982         16        640: 100%|██████████| 75/75 [00:27<00:00,  2.71it/s]\n",
            "                 Class     Images  Instances      Box(P          R      mAP50  mAP50-95): 100%|██████████| 10/10 [00:06<00:00,  1.61it/s]"
          ]
        },
        {
          "metadata": {
            "tags": null
          },
          "name": "stdout",
          "output_type": "stream",
          "text": [
            "                   all        300        296      0.989      0.999       0.99       0.99\n"
          ]
        },
        {
          "metadata": {
            "tags": null
          },
          "name": "stderr",
          "output_type": "stream",
          "text": [
            "\n"
          ]
        },
        {
          "metadata": {
            "tags": null
          },
          "name": "stdout",
          "output_type": "stream",
          "text": [
            "\n",
            "      Epoch    GPU_mem   box_loss   cls_loss   dfl_loss  Instances       Size\n"
          ]
        },
        {
          "metadata": {
            "tags": null
          },
          "name": "stderr",
          "output_type": "stream",
          "text": [
            "     97/100      2.16G    0.02121    0.08644     0.9054         16        640: 100%|██████████| 75/75 [00:27<00:00,  2.71it/s]\n",
            "                 Class     Images  Instances      Box(P          R      mAP50  mAP50-95): 100%|██████████| 10/10 [00:04<00:00,  2.01it/s]"
          ]
        },
        {
          "metadata": {
            "tags": null
          },
          "name": "stdout",
          "output_type": "stream",
          "text": [
            "                   all        300        296      0.988          1       0.99       0.99\n"
          ]
        },
        {
          "metadata": {
            "tags": null
          },
          "name": "stderr",
          "output_type": "stream",
          "text": [
            "\n"
          ]
        },
        {
          "metadata": {
            "tags": null
          },
          "name": "stdout",
          "output_type": "stream",
          "text": [
            "\n",
            "      Epoch    GPU_mem   box_loss   cls_loss   dfl_loss  Instances       Size\n"
          ]
        },
        {
          "metadata": {
            "tags": null
          },
          "name": "stderr",
          "output_type": "stream",
          "text": [
            "     98/100      2.16G    0.02049    0.08891     0.8995         16        640: 100%|██████████| 75/75 [00:31<00:00,  2.36it/s]\n",
            "                 Class     Images  Instances      Box(P          R      mAP50  mAP50-95): 100%|██████████| 10/10 [00:03<00:00,  2.93it/s]"
          ]
        },
        {
          "metadata": {
            "tags": null
          },
          "name": "stdout",
          "output_type": "stream",
          "text": [
            "                   all        300        296      0.984          1      0.989      0.989\n"
          ]
        },
        {
          "metadata": {
            "tags": null
          },
          "name": "stderr",
          "output_type": "stream",
          "text": [
            "\n"
          ]
        },
        {
          "metadata": {
            "tags": null
          },
          "name": "stdout",
          "output_type": "stream",
          "text": [
            "\n",
            "      Epoch    GPU_mem   box_loss   cls_loss   dfl_loss  Instances       Size\n"
          ]
        },
        {
          "output_type": "stream",
          "name": "stderr",
          "text": [
            "     99/100      2.15G    0.01997    0.08158     0.8908         15        640: 100%|██████████| 75/75 [00:30<00:00,  2.46it/s]\n",
            "                 Class     Images  Instances      Box(P          R      mAP50  mAP50-95): 100%|██████████| 10/10 [00:03<00:00,  2.88it/s]"
          ]
        },
        {
          "output_type": "stream",
          "name": "stdout",
          "text": [
            "                   all        300        296      0.989      0.997       0.99       0.99\n"
          ]
        },
        {
          "output_type": "stream",
          "name": "stderr",
          "text": [
            "\n"
          ]
        },
        {
          "output_type": "stream",
          "name": "stdout",
          "text": [
            "\n",
            "      Epoch    GPU_mem   box_loss   cls_loss   dfl_loss  Instances       Size\n"
          ]
        },
        {
          "output_type": "stream",
          "name": "stderr",
          "text": [
            "    100/100      2.15G    0.02062    0.07614     0.8958         16        640: 100%|██████████| 75/75 [00:31<00:00,  2.39it/s]\n",
            "                 Class     Images  Instances      Box(P          R      mAP50  mAP50-95): 100%|██████████| 10/10 [00:03<00:00,  2.92it/s]"
          ]
        },
        {
          "output_type": "stream",
          "name": "stdout",
          "text": [
            "                   all        300        296      0.985          1       0.99       0.99\n"
          ]
        },
        {
          "output_type": "stream",
          "name": "stderr",
          "text": [
            "\n"
          ]
        },
        {
          "output_type": "stream",
          "name": "stdout",
          "text": [
            "\n",
            "100 epochs completed in 1.044 hours.\n",
            "Optimizer stripped from /content/drive/MyDrive/drowsiness_detection/kaggle/yolov8_training/drowsiness_detection9/weights/last.pt, 6.3MB\n",
            "Optimizer stripped from /content/drive/MyDrive/drowsiness_detection/kaggle/yolov8_training/drowsiness_detection9/weights/best.pt, 6.3MB\n",
            "\n",
            "Validating /content/drive/MyDrive/drowsiness_detection/kaggle/yolov8_training/drowsiness_detection9/weights/best.pt...\n",
            "Ultralytics 8.3.40 🚀 Python-3.10.12 torch-2.5.1+cu121 CUDA:0 (Tesla T4, 15102MiB)\n",
            "Model summary (fused): 168 layers, 3,006,038 parameters, 0 gradients, 8.1 GFLOPs\n"
          ]
        },
        {
          "output_type": "stream",
          "name": "stderr",
          "text": [
            "                 Class     Images  Instances      Box(P          R      mAP50  mAP50-95):  50%|█████     | 5/10 [00:04<00:05,  1.18s/it]"
          ]
        }
      ]
    },
    {
      "cell_type": "code",
      "source": [
        "from ultralytics import YOLO\n",
        "import cv2\n",
        "import matplotlib.pyplot as plt\n",
        "import os\n",
        "\n",
        "# Load the YOLO model\n",
        "model_path = '/content/drive/MyDrive/drowsiness_detection/kaggle/yolov8_training/drowsiness_detection9/weights/best.pt'\n",
        "model = YOLO(model_path)\n"
      ],
      "metadata": {
        "id": "1e31o7oE1WIV"
      },
      "execution_count": null,
      "outputs": []
    },
    {
      "cell_type": "code",
      "source": [
        "def visualize_results(model, test_images_dir, annotation_dir, num_samples=5):\n",
        "    \"\"\"\n",
        "    Visualize predictions on the test dataset.\n",
        "\n",
        "    Args:\n",
        "        model: Trained YOLO model.\n",
        "        test_images_dir: Path to test images directory.\n",
        "        annotation_dir: Path to annotation files directory (optional for comparison).\n",
        "        num_samples: Number of samples to visualize.\n",
        "    \"\"\"\n",
        "    # Get test image file paths\n",
        "    image_files = [os.path.join(test_images_dir, f) for f in os.listdir(test_images_dir) if f.endswith(('.jpg', '.png'))]\n",
        "    image_files = sorted(image_files)[:num_samples]\n",
        "\n",
        "    for img_path in image_files:\n",
        "        # Load image\n",
        "        img = cv2.imread(img_path)\n",
        "        img = cv2.cvtColor(img, cv2.COLOR_BGR2RGB)\n",
        "\n",
        "        # Get predictions\n",
        "        results = model(img_path)\n",
        "\n",
        "        # Extract bounding boxes, class indices, and confidences\n",
        "        predictions = results[0].boxes\n",
        "        if predictions is not None:\n",
        "            for box, cls, conf in zip(predictions.xyxy, predictions.cls, predictions.conf):\n",
        "                # Draw bounding box\n",
        "                x1, y1, x2, y2 = map(int, box)\n",
        "                class_label = int(cls)\n",
        "                label = f\"{model.names[class_label]}: {conf:.2f}\"\n",
        "                cv2.rectangle(img, (x1, y1), (x2, y2), (0, 255, 0), 2)\n",
        "                cv2.putText(img, label, (x1, y1 - 10), cv2.FONT_HERSHEY_SIMPLEX, 0.5, (255, 0, 0), 2)\n",
        "\n",
        "        # Display image with predictions\n",
        "        plt.figure(figsize=(10, 10))\n",
        "        plt.imshow(img)\n",
        "        plt.axis('off')\n",
        "        plt.title(f\"Predictions for {os.path.basename(img_path)}\")\n",
        "        plt.show()\n"
      ],
      "metadata": {
        "id": "M4gh6TzA1s2q"
      },
      "execution_count": null,
      "outputs": []
    },
    {
      "cell_type": "code",
      "source": [
        "# Paths to test images and annotations\n",
        "test_images_dir = '/content/drive/MyDrive/drowsiness_detection/kaggle/test/images'\n",
        "annotation_dir = '/content/drive/MyDrive/drowsiness_detection/kaggle/test/labels'\n",
        "\n",
        "# Visualize results on test images\n",
        "visualize_results(model, test_images_dir, annotation_dir, num_samples=5)\n"
      ],
      "metadata": {
        "id": "UvlEjJpw2E0e",
        "colab": {
          "base_uri": "https://localhost:8080/",
          "height": 176
        },
        "outputId": "7509c453-68b9-461d-ef4f-bb499fbe1059"
      },
      "execution_count": null,
      "outputs": [
        {
          "output_type": "error",
          "ename": "NameError",
          "evalue": "name 'visualize_results' is not defined",
          "traceback": [
            "\u001b[0;31m---------------------------------------------------------------------------\u001b[0m",
            "\u001b[0;31mNameError\u001b[0m                                 Traceback (most recent call last)",
            "\u001b[0;32m<ipython-input-16-7af7a77e898b>\u001b[0m in \u001b[0;36m<cell line: 6>\u001b[0;34m()\u001b[0m\n\u001b[1;32m      4\u001b[0m \u001b[0;34m\u001b[0m\u001b[0m\n\u001b[1;32m      5\u001b[0m \u001b[0;31m# Visualize results on test images\u001b[0m\u001b[0;34m\u001b[0m\u001b[0;34m\u001b[0m\u001b[0m\n\u001b[0;32m----> 6\u001b[0;31m \u001b[0mvisualize_results\u001b[0m\u001b[0;34m(\u001b[0m\u001b[0mmodel\u001b[0m\u001b[0;34m,\u001b[0m \u001b[0mtest_images_dir\u001b[0m\u001b[0;34m,\u001b[0m \u001b[0mannotation_dir\u001b[0m\u001b[0;34m,\u001b[0m \u001b[0mnum_samples\u001b[0m\u001b[0;34m=\u001b[0m\u001b[0;36m5\u001b[0m\u001b[0;34m)\u001b[0m\u001b[0;34m\u001b[0m\u001b[0;34m\u001b[0m\u001b[0m\n\u001b[0m",
            "\u001b[0;31mNameError\u001b[0m: name 'visualize_results' is not defined"
          ]
        }
      ]
    },
    {
      "cell_type": "code",
      "source": [
        "import cv2\n",
        "import os\n",
        "import random\n",
        "import ultralytics\n",
        "\n",
        "# Load the YOLOv8 model\n",
        "model_path = '/content/drive/MyDrive/drowsiness_detection/kaggle/yolov8_training/drowsiness_detection9/weights/best.pt' # Path to your trained YOLOv8 model\n",
        "model = ultralytics.YOLO(model_path)\n",
        "\n",
        "# Define paths\n",
        "test_images_dir = \"/content/drive/MyDrive/drowsiness_detection/kaggle/test/images\"\n",
        "output_visualizations_dir = \"/content/detection_visualizations\"  # Output directory for visualizations\n",
        "os.makedirs(output_visualizations_dir, exist_ok=True)\n",
        "\n",
        "# Evaluate model on the test set to get metrics\n",
        "results = model.val(data=\"/content/drive/MyDrive/drowsiness_detection/kaggle/dataset.yaml\", split=\"val\")\n",
        "metrics = results.metrics  # Retrieve the evaluation metrics\n",
        "\n",
        "# Extract specific metrics\n",
        "precision = metrics[\"precision\"]\n",
        "recall = metrics[\"recall\"]\n",
        "map50 = metrics[\"map50\"]\n",
        "map5095 = metrics[\"map\"]  # mAP@50-95\n",
        "\n",
        "# Select 20 random images\n",
        "image_files = os.listdir(test_images_dir)\n",
        "selected_images = random.sample(image_files, min(20, len(image_files)))\n",
        "\n",
        "# Visualize predictions with metrics\n",
        "for img_file in selected_images:\n",
        "    img_path = os.path.join(test_images_dir, img_file)\n",
        "\n",
        "    # Load image\n",
        "    img = cv2.imread(img_path)\n",
        "    if img is None:\n",
        "        continue\n",
        "\n",
        "    # Get predictions for the image\n",
        "    results = model.predict(source=img_path, conf=0.25, save=False)\n",
        "    detections = results[0].boxes\n",
        "\n",
        "    # Draw predictions on the image\n",
        "    for box in detections:\n",
        "        x_min, y_min, x_max, y_max = map(int, box.xyxy[0].tolist())\n",
        "        confidence = box.conf[0]\n",
        "        class_id = int(box.cls[0])\n",
        "        label = \"Drowsy\" if class_id == 0 else \"Non-Drowsy\"\n",
        "        cv2.rectangle(img, (x_min, y_min), (x_max, y_max), (0, 255, 0), 2)\n",
        "        cv2.putText(img, f\"Pred: {label} ({confidence:.2f})\", (x_min, y_min - 10), cv2.FONT_HERSHEY_SIMPLEX, 0.5, (0, 255, 0), 1)\n",
        "\n",
        "    # Overlay general metrics\n",
        "    metrics_text = (\n",
        "        f\"Precision: {precision:.3f}\\n\"\n",
        "        f\"Recall: {recall:.3f}\\n\"\n",
        "        f\"mAP@50: {map50:.3f}\\n\"\n",
        "        f\"mAP@50-95: {map5095:.3f}\"\n",
        "    )\n",
        "    y_offset = 20\n",
        "    for i, line in enumerate(metrics_text.split(\"\\n\")):\n",
        "        cv2.putText(img, line, (10, y_offset + i * 25), cv2.FONT_HERSHEY_SIMPLEX, 0.6, (255, 255, 255), 1, cv2.LINE_AA)\n",
        "\n",
        "    # Save visualization\n",
        "    output_path = os.path.join(output_visualizations_dir, img_file)\n",
        "    cv2.imwrite(output_path, img)\n",
        "    print(f\"Visualization saved: {output_path}\")\n"
      ],
      "metadata": {
        "colab": {
          "base_uri": "https://localhost:8080/",
          "height": 515
        },
        "id": "PsIjIuZ-OlbN",
        "outputId": "77e136d2-aa6e-494b-806c-7c0c9ee2cca8"
      },
      "execution_count": null,
      "outputs": [
        {
          "output_type": "stream",
          "name": "stdout",
          "text": [
            "Ultralytics 8.3.40 🚀 Python-3.10.12 torch-2.5.1+cu121 CPU (Intel Xeon 2.20GHz)\n",
            "Model summary (fused): 168 layers, 3,006,038 parameters, 0 gradients, 8.1 GFLOPs\n"
          ]
        },
        {
          "output_type": "stream",
          "name": "stderr",
          "text": [
            "\u001b[34m\u001b[1mval: \u001b[0mScanning /content/drive/MyDrive/drowsiness_detection/kaggle/test/labels.cache... 296 images, 4 backgrounds, 0 corrupt: 100%|██████████| 300/300 [00:00<?, ?it/s]\n",
            "                 Class     Images  Instances      Box(P          R      mAP50  mAP50-95):  68%|██████▊   | 13/19 [01:22<00:38,  6.36s/it]\n"
          ]
        },
        {
          "output_type": "error",
          "ename": "KeyboardInterrupt",
          "evalue": "",
          "traceback": [
            "\u001b[0;31m---------------------------------------------------------------------------\u001b[0m",
            "\u001b[0;31mKeyboardInterrupt\u001b[0m                         Traceback (most recent call last)",
            "\u001b[0;32m<ipython-input-26-76ed95d619ef>\u001b[0m in \u001b[0;36m<cell line: 16>\u001b[0;34m()\u001b[0m\n\u001b[1;32m     14\u001b[0m \u001b[0;34m\u001b[0m\u001b[0m\n\u001b[1;32m     15\u001b[0m \u001b[0;31m# Evaluate model on the test set to get metrics\u001b[0m\u001b[0;34m\u001b[0m\u001b[0;34m\u001b[0m\u001b[0m\n\u001b[0;32m---> 16\u001b[0;31m \u001b[0mresults\u001b[0m \u001b[0;34m=\u001b[0m \u001b[0mmodel\u001b[0m\u001b[0;34m.\u001b[0m\u001b[0mval\u001b[0m\u001b[0;34m(\u001b[0m\u001b[0mdata\u001b[0m\u001b[0;34m=\u001b[0m\u001b[0;34m\"/content/drive/MyDrive/drowsiness_detection/kaggle/dataset.yaml\"\u001b[0m\u001b[0;34m,\u001b[0m \u001b[0msplit\u001b[0m\u001b[0;34m=\u001b[0m\u001b[0;34m\"val\"\u001b[0m\u001b[0;34m)\u001b[0m\u001b[0;34m\u001b[0m\u001b[0;34m\u001b[0m\u001b[0m\n\u001b[0m\u001b[1;32m     17\u001b[0m \u001b[0mmetrics\u001b[0m \u001b[0;34m=\u001b[0m \u001b[0mresults\u001b[0m\u001b[0;34m.\u001b[0m\u001b[0mmetrics\u001b[0m  \u001b[0;31m# Retrieve the evaluation metrics\u001b[0m\u001b[0;34m\u001b[0m\u001b[0;34m\u001b[0m\u001b[0m\n\u001b[1;32m     18\u001b[0m \u001b[0;34m\u001b[0m\u001b[0m\n",
            "\u001b[0;32m/usr/local/lib/python3.10/dist-packages/ultralytics/engine/model.py\u001b[0m in \u001b[0;36mval\u001b[0;34m(self, validator, **kwargs)\u001b[0m\n\u001b[1;32m    636\u001b[0m \u001b[0;34m\u001b[0m\u001b[0m\n\u001b[1;32m    637\u001b[0m         \u001b[0mvalidator\u001b[0m \u001b[0;34m=\u001b[0m \u001b[0;34m(\u001b[0m\u001b[0mvalidator\u001b[0m \u001b[0;32mor\u001b[0m \u001b[0mself\u001b[0m\u001b[0;34m.\u001b[0m\u001b[0m_smart_load\u001b[0m\u001b[0;34m(\u001b[0m\u001b[0;34m\"validator\"\u001b[0m\u001b[0;34m)\u001b[0m\u001b[0;34m)\u001b[0m\u001b[0;34m(\u001b[0m\u001b[0margs\u001b[0m\u001b[0;34m=\u001b[0m\u001b[0margs\u001b[0m\u001b[0;34m,\u001b[0m \u001b[0m_callbacks\u001b[0m\u001b[0;34m=\u001b[0m\u001b[0mself\u001b[0m\u001b[0;34m.\u001b[0m\u001b[0mcallbacks\u001b[0m\u001b[0;34m)\u001b[0m\u001b[0;34m\u001b[0m\u001b[0;34m\u001b[0m\u001b[0m\n\u001b[0;32m--> 638\u001b[0;31m         \u001b[0mvalidator\u001b[0m\u001b[0;34m(\u001b[0m\u001b[0mmodel\u001b[0m\u001b[0;34m=\u001b[0m\u001b[0mself\u001b[0m\u001b[0;34m.\u001b[0m\u001b[0mmodel\u001b[0m\u001b[0;34m)\u001b[0m\u001b[0;34m\u001b[0m\u001b[0;34m\u001b[0m\u001b[0m\n\u001b[0m\u001b[1;32m    639\u001b[0m         \u001b[0mself\u001b[0m\u001b[0;34m.\u001b[0m\u001b[0mmetrics\u001b[0m \u001b[0;34m=\u001b[0m \u001b[0mvalidator\u001b[0m\u001b[0;34m.\u001b[0m\u001b[0mmetrics\u001b[0m\u001b[0;34m\u001b[0m\u001b[0;34m\u001b[0m\u001b[0m\n\u001b[1;32m    640\u001b[0m         \u001b[0;32mreturn\u001b[0m \u001b[0mvalidator\u001b[0m\u001b[0;34m.\u001b[0m\u001b[0mmetrics\u001b[0m\u001b[0;34m\u001b[0m\u001b[0;34m\u001b[0m\u001b[0m\n",
            "\u001b[0;32m/usr/local/lib/python3.10/dist-packages/torch/utils/_contextlib.py\u001b[0m in \u001b[0;36mdecorate_context\u001b[0;34m(*args, **kwargs)\u001b[0m\n\u001b[1;32m    114\u001b[0m     \u001b[0;32mdef\u001b[0m \u001b[0mdecorate_context\u001b[0m\u001b[0;34m(\u001b[0m\u001b[0;34m*\u001b[0m\u001b[0margs\u001b[0m\u001b[0;34m,\u001b[0m \u001b[0;34m**\u001b[0m\u001b[0mkwargs\u001b[0m\u001b[0;34m)\u001b[0m\u001b[0;34m:\u001b[0m\u001b[0;34m\u001b[0m\u001b[0;34m\u001b[0m\u001b[0m\n\u001b[1;32m    115\u001b[0m         \u001b[0;32mwith\u001b[0m \u001b[0mctx_factory\u001b[0m\u001b[0;34m(\u001b[0m\u001b[0;34m)\u001b[0m\u001b[0;34m:\u001b[0m\u001b[0;34m\u001b[0m\u001b[0;34m\u001b[0m\u001b[0m\n\u001b[0;32m--> 116\u001b[0;31m             \u001b[0;32mreturn\u001b[0m \u001b[0mfunc\u001b[0m\u001b[0;34m(\u001b[0m\u001b[0;34m*\u001b[0m\u001b[0margs\u001b[0m\u001b[0;34m,\u001b[0m \u001b[0;34m**\u001b[0m\u001b[0mkwargs\u001b[0m\u001b[0;34m)\u001b[0m\u001b[0;34m\u001b[0m\u001b[0;34m\u001b[0m\u001b[0m\n\u001b[0m\u001b[1;32m    117\u001b[0m \u001b[0;34m\u001b[0m\u001b[0m\n\u001b[1;32m    118\u001b[0m     \u001b[0;32mreturn\u001b[0m \u001b[0mdecorate_context\u001b[0m\u001b[0;34m\u001b[0m\u001b[0;34m\u001b[0m\u001b[0m\n",
            "\u001b[0;32m/usr/local/lib/python3.10/dist-packages/ultralytics/engine/validator.py\u001b[0m in \u001b[0;36m__call__\u001b[0;34m(self, trainer, model)\u001b[0m\n\u001b[1;32m    178\u001b[0m             \u001b[0;31m# Inference\u001b[0m\u001b[0;34m\u001b[0m\u001b[0;34m\u001b[0m\u001b[0m\n\u001b[1;32m    179\u001b[0m             \u001b[0;32mwith\u001b[0m \u001b[0mdt\u001b[0m\u001b[0;34m[\u001b[0m\u001b[0;36m1\u001b[0m\u001b[0;34m]\u001b[0m\u001b[0;34m:\u001b[0m\u001b[0;34m\u001b[0m\u001b[0;34m\u001b[0m\u001b[0m\n\u001b[0;32m--> 180\u001b[0;31m                 \u001b[0mpreds\u001b[0m \u001b[0;34m=\u001b[0m \u001b[0mmodel\u001b[0m\u001b[0;34m(\u001b[0m\u001b[0mbatch\u001b[0m\u001b[0;34m[\u001b[0m\u001b[0;34m\"img\"\u001b[0m\u001b[0;34m]\u001b[0m\u001b[0;34m,\u001b[0m \u001b[0maugment\u001b[0m\u001b[0;34m=\u001b[0m\u001b[0maugment\u001b[0m\u001b[0;34m)\u001b[0m\u001b[0;34m\u001b[0m\u001b[0;34m\u001b[0m\u001b[0m\n\u001b[0m\u001b[1;32m    181\u001b[0m \u001b[0;34m\u001b[0m\u001b[0m\n\u001b[1;32m    182\u001b[0m             \u001b[0;31m# Loss\u001b[0m\u001b[0;34m\u001b[0m\u001b[0;34m\u001b[0m\u001b[0m\n",
            "\u001b[0;32m/usr/local/lib/python3.10/dist-packages/torch/nn/modules/module.py\u001b[0m in \u001b[0;36m_wrapped_call_impl\u001b[0;34m(self, *args, **kwargs)\u001b[0m\n\u001b[1;32m   1734\u001b[0m             \u001b[0;32mreturn\u001b[0m \u001b[0mself\u001b[0m\u001b[0;34m.\u001b[0m\u001b[0m_compiled_call_impl\u001b[0m\u001b[0;34m(\u001b[0m\u001b[0;34m*\u001b[0m\u001b[0margs\u001b[0m\u001b[0;34m,\u001b[0m \u001b[0;34m**\u001b[0m\u001b[0mkwargs\u001b[0m\u001b[0;34m)\u001b[0m  \u001b[0;31m# type: ignore[misc]\u001b[0m\u001b[0;34m\u001b[0m\u001b[0;34m\u001b[0m\u001b[0m\n\u001b[1;32m   1735\u001b[0m         \u001b[0;32melse\u001b[0m\u001b[0;34m:\u001b[0m\u001b[0;34m\u001b[0m\u001b[0;34m\u001b[0m\u001b[0m\n\u001b[0;32m-> 1736\u001b[0;31m             \u001b[0;32mreturn\u001b[0m \u001b[0mself\u001b[0m\u001b[0;34m.\u001b[0m\u001b[0m_call_impl\u001b[0m\u001b[0;34m(\u001b[0m\u001b[0;34m*\u001b[0m\u001b[0margs\u001b[0m\u001b[0;34m,\u001b[0m \u001b[0;34m**\u001b[0m\u001b[0mkwargs\u001b[0m\u001b[0;34m)\u001b[0m\u001b[0;34m\u001b[0m\u001b[0;34m\u001b[0m\u001b[0m\n\u001b[0m\u001b[1;32m   1737\u001b[0m \u001b[0;34m\u001b[0m\u001b[0m\n\u001b[1;32m   1738\u001b[0m     \u001b[0;31m# torchrec tests the code consistency with the following code\u001b[0m\u001b[0;34m\u001b[0m\u001b[0;34m\u001b[0m\u001b[0m\n",
            "\u001b[0;32m/usr/local/lib/python3.10/dist-packages/torch/nn/modules/module.py\u001b[0m in \u001b[0;36m_call_impl\u001b[0;34m(self, *args, **kwargs)\u001b[0m\n\u001b[1;32m   1745\u001b[0m                 \u001b[0;32mor\u001b[0m \u001b[0m_global_backward_pre_hooks\u001b[0m \u001b[0;32mor\u001b[0m \u001b[0m_global_backward_hooks\u001b[0m\u001b[0;34m\u001b[0m\u001b[0;34m\u001b[0m\u001b[0m\n\u001b[1;32m   1746\u001b[0m                 or _global_forward_hooks or _global_forward_pre_hooks):\n\u001b[0;32m-> 1747\u001b[0;31m             \u001b[0;32mreturn\u001b[0m \u001b[0mforward_call\u001b[0m\u001b[0;34m(\u001b[0m\u001b[0;34m*\u001b[0m\u001b[0margs\u001b[0m\u001b[0;34m,\u001b[0m \u001b[0;34m**\u001b[0m\u001b[0mkwargs\u001b[0m\u001b[0;34m)\u001b[0m\u001b[0;34m\u001b[0m\u001b[0;34m\u001b[0m\u001b[0m\n\u001b[0m\u001b[1;32m   1748\u001b[0m \u001b[0;34m\u001b[0m\u001b[0m\n\u001b[1;32m   1749\u001b[0m         \u001b[0mresult\u001b[0m \u001b[0;34m=\u001b[0m \u001b[0;32mNone\u001b[0m\u001b[0;34m\u001b[0m\u001b[0;34m\u001b[0m\u001b[0m\n",
            "\u001b[0;32m/usr/local/lib/python3.10/dist-packages/ultralytics/nn/autobackend.py\u001b[0m in \u001b[0;36mforward\u001b[0;34m(self, im, augment, visualize, embed)\u001b[0m\n\u001b[1;32m    524\u001b[0m         \u001b[0;31m# PyTorch\u001b[0m\u001b[0;34m\u001b[0m\u001b[0;34m\u001b[0m\u001b[0m\n\u001b[1;32m    525\u001b[0m         \u001b[0;32mif\u001b[0m \u001b[0mself\u001b[0m\u001b[0;34m.\u001b[0m\u001b[0mpt\u001b[0m \u001b[0;32mor\u001b[0m \u001b[0mself\u001b[0m\u001b[0;34m.\u001b[0m\u001b[0mnn_module\u001b[0m\u001b[0;34m:\u001b[0m\u001b[0;34m\u001b[0m\u001b[0;34m\u001b[0m\u001b[0m\n\u001b[0;32m--> 526\u001b[0;31m             \u001b[0my\u001b[0m \u001b[0;34m=\u001b[0m \u001b[0mself\u001b[0m\u001b[0;34m.\u001b[0m\u001b[0mmodel\u001b[0m\u001b[0;34m(\u001b[0m\u001b[0mim\u001b[0m\u001b[0;34m,\u001b[0m \u001b[0maugment\u001b[0m\u001b[0;34m=\u001b[0m\u001b[0maugment\u001b[0m\u001b[0;34m,\u001b[0m \u001b[0mvisualize\u001b[0m\u001b[0;34m=\u001b[0m\u001b[0mvisualize\u001b[0m\u001b[0;34m,\u001b[0m \u001b[0membed\u001b[0m\u001b[0;34m=\u001b[0m\u001b[0membed\u001b[0m\u001b[0;34m)\u001b[0m\u001b[0;34m\u001b[0m\u001b[0;34m\u001b[0m\u001b[0m\n\u001b[0m\u001b[1;32m    527\u001b[0m \u001b[0;34m\u001b[0m\u001b[0m\n\u001b[1;32m    528\u001b[0m         \u001b[0;31m# TorchScript\u001b[0m\u001b[0;34m\u001b[0m\u001b[0;34m\u001b[0m\u001b[0m\n",
            "\u001b[0;32m/usr/local/lib/python3.10/dist-packages/torch/nn/modules/module.py\u001b[0m in \u001b[0;36m_wrapped_call_impl\u001b[0;34m(self, *args, **kwargs)\u001b[0m\n\u001b[1;32m   1734\u001b[0m             \u001b[0;32mreturn\u001b[0m \u001b[0mself\u001b[0m\u001b[0;34m.\u001b[0m\u001b[0m_compiled_call_impl\u001b[0m\u001b[0;34m(\u001b[0m\u001b[0;34m*\u001b[0m\u001b[0margs\u001b[0m\u001b[0;34m,\u001b[0m \u001b[0;34m**\u001b[0m\u001b[0mkwargs\u001b[0m\u001b[0;34m)\u001b[0m  \u001b[0;31m# type: ignore[misc]\u001b[0m\u001b[0;34m\u001b[0m\u001b[0;34m\u001b[0m\u001b[0m\n\u001b[1;32m   1735\u001b[0m         \u001b[0;32melse\u001b[0m\u001b[0;34m:\u001b[0m\u001b[0;34m\u001b[0m\u001b[0;34m\u001b[0m\u001b[0m\n\u001b[0;32m-> 1736\u001b[0;31m             \u001b[0;32mreturn\u001b[0m \u001b[0mself\u001b[0m\u001b[0;34m.\u001b[0m\u001b[0m_call_impl\u001b[0m\u001b[0;34m(\u001b[0m\u001b[0;34m*\u001b[0m\u001b[0margs\u001b[0m\u001b[0;34m,\u001b[0m \u001b[0;34m**\u001b[0m\u001b[0mkwargs\u001b[0m\u001b[0;34m)\u001b[0m\u001b[0;34m\u001b[0m\u001b[0;34m\u001b[0m\u001b[0m\n\u001b[0m\u001b[1;32m   1737\u001b[0m \u001b[0;34m\u001b[0m\u001b[0m\n\u001b[1;32m   1738\u001b[0m     \u001b[0;31m# torchrec tests the code consistency with the following code\u001b[0m\u001b[0;34m\u001b[0m\u001b[0;34m\u001b[0m\u001b[0m\n",
            "\u001b[0;32m/usr/local/lib/python3.10/dist-packages/torch/nn/modules/module.py\u001b[0m in \u001b[0;36m_call_impl\u001b[0;34m(self, *args, **kwargs)\u001b[0m\n\u001b[1;32m   1745\u001b[0m                 \u001b[0;32mor\u001b[0m \u001b[0m_global_backward_pre_hooks\u001b[0m \u001b[0;32mor\u001b[0m \u001b[0m_global_backward_hooks\u001b[0m\u001b[0;34m\u001b[0m\u001b[0;34m\u001b[0m\u001b[0m\n\u001b[1;32m   1746\u001b[0m                 or _global_forward_hooks or _global_forward_pre_hooks):\n\u001b[0;32m-> 1747\u001b[0;31m             \u001b[0;32mreturn\u001b[0m \u001b[0mforward_call\u001b[0m\u001b[0;34m(\u001b[0m\u001b[0;34m*\u001b[0m\u001b[0margs\u001b[0m\u001b[0;34m,\u001b[0m \u001b[0;34m**\u001b[0m\u001b[0mkwargs\u001b[0m\u001b[0;34m)\u001b[0m\u001b[0;34m\u001b[0m\u001b[0;34m\u001b[0m\u001b[0m\n\u001b[0m\u001b[1;32m   1748\u001b[0m \u001b[0;34m\u001b[0m\u001b[0m\n\u001b[1;32m   1749\u001b[0m         \u001b[0mresult\u001b[0m \u001b[0;34m=\u001b[0m \u001b[0;32mNone\u001b[0m\u001b[0;34m\u001b[0m\u001b[0;34m\u001b[0m\u001b[0m\n",
            "\u001b[0;32m/usr/local/lib/python3.10/dist-packages/ultralytics/nn/tasks.py\u001b[0m in \u001b[0;36mforward\u001b[0;34m(self, x, *args, **kwargs)\u001b[0m\n\u001b[1;32m    110\u001b[0m         \u001b[0;32mif\u001b[0m \u001b[0misinstance\u001b[0m\u001b[0;34m(\u001b[0m\u001b[0mx\u001b[0m\u001b[0;34m,\u001b[0m \u001b[0mdict\u001b[0m\u001b[0;34m)\u001b[0m\u001b[0;34m:\u001b[0m  \u001b[0;31m# for cases of training and validating while training.\u001b[0m\u001b[0;34m\u001b[0m\u001b[0;34m\u001b[0m\u001b[0m\n\u001b[1;32m    111\u001b[0m             \u001b[0;32mreturn\u001b[0m \u001b[0mself\u001b[0m\u001b[0;34m.\u001b[0m\u001b[0mloss\u001b[0m\u001b[0;34m(\u001b[0m\u001b[0mx\u001b[0m\u001b[0;34m,\u001b[0m \u001b[0;34m*\u001b[0m\u001b[0margs\u001b[0m\u001b[0;34m,\u001b[0m \u001b[0;34m**\u001b[0m\u001b[0mkwargs\u001b[0m\u001b[0;34m)\u001b[0m\u001b[0;34m\u001b[0m\u001b[0;34m\u001b[0m\u001b[0m\n\u001b[0;32m--> 112\u001b[0;31m         \u001b[0;32mreturn\u001b[0m \u001b[0mself\u001b[0m\u001b[0;34m.\u001b[0m\u001b[0mpredict\u001b[0m\u001b[0;34m(\u001b[0m\u001b[0mx\u001b[0m\u001b[0;34m,\u001b[0m \u001b[0;34m*\u001b[0m\u001b[0margs\u001b[0m\u001b[0;34m,\u001b[0m \u001b[0;34m**\u001b[0m\u001b[0mkwargs\u001b[0m\u001b[0;34m)\u001b[0m\u001b[0;34m\u001b[0m\u001b[0;34m\u001b[0m\u001b[0m\n\u001b[0m\u001b[1;32m    113\u001b[0m \u001b[0;34m\u001b[0m\u001b[0m\n\u001b[1;32m    114\u001b[0m     \u001b[0;32mdef\u001b[0m \u001b[0mpredict\u001b[0m\u001b[0;34m(\u001b[0m\u001b[0mself\u001b[0m\u001b[0;34m,\u001b[0m \u001b[0mx\u001b[0m\u001b[0;34m,\u001b[0m \u001b[0mprofile\u001b[0m\u001b[0;34m=\u001b[0m\u001b[0;32mFalse\u001b[0m\u001b[0;34m,\u001b[0m \u001b[0mvisualize\u001b[0m\u001b[0;34m=\u001b[0m\u001b[0;32mFalse\u001b[0m\u001b[0;34m,\u001b[0m \u001b[0maugment\u001b[0m\u001b[0;34m=\u001b[0m\u001b[0;32mFalse\u001b[0m\u001b[0;34m,\u001b[0m \u001b[0membed\u001b[0m\u001b[0;34m=\u001b[0m\u001b[0;32mNone\u001b[0m\u001b[0;34m)\u001b[0m\u001b[0;34m:\u001b[0m\u001b[0;34m\u001b[0m\u001b[0;34m\u001b[0m\u001b[0m\n",
            "\u001b[0;32m/usr/local/lib/python3.10/dist-packages/ultralytics/nn/tasks.py\u001b[0m in \u001b[0;36mpredict\u001b[0;34m(self, x, profile, visualize, augment, embed)\u001b[0m\n\u001b[1;32m    128\u001b[0m         \u001b[0;32mif\u001b[0m \u001b[0maugment\u001b[0m\u001b[0;34m:\u001b[0m\u001b[0;34m\u001b[0m\u001b[0;34m\u001b[0m\u001b[0m\n\u001b[1;32m    129\u001b[0m             \u001b[0;32mreturn\u001b[0m \u001b[0mself\u001b[0m\u001b[0;34m.\u001b[0m\u001b[0m_predict_augment\u001b[0m\u001b[0;34m(\u001b[0m\u001b[0mx\u001b[0m\u001b[0;34m)\u001b[0m\u001b[0;34m\u001b[0m\u001b[0;34m\u001b[0m\u001b[0m\n\u001b[0;32m--> 130\u001b[0;31m         \u001b[0;32mreturn\u001b[0m \u001b[0mself\u001b[0m\u001b[0;34m.\u001b[0m\u001b[0m_predict_once\u001b[0m\u001b[0;34m(\u001b[0m\u001b[0mx\u001b[0m\u001b[0;34m,\u001b[0m \u001b[0mprofile\u001b[0m\u001b[0;34m,\u001b[0m \u001b[0mvisualize\u001b[0m\u001b[0;34m,\u001b[0m \u001b[0membed\u001b[0m\u001b[0;34m)\u001b[0m\u001b[0;34m\u001b[0m\u001b[0;34m\u001b[0m\u001b[0m\n\u001b[0m\u001b[1;32m    131\u001b[0m \u001b[0;34m\u001b[0m\u001b[0m\n\u001b[1;32m    132\u001b[0m     \u001b[0;32mdef\u001b[0m \u001b[0m_predict_once\u001b[0m\u001b[0;34m(\u001b[0m\u001b[0mself\u001b[0m\u001b[0;34m,\u001b[0m \u001b[0mx\u001b[0m\u001b[0;34m,\u001b[0m \u001b[0mprofile\u001b[0m\u001b[0;34m=\u001b[0m\u001b[0;32mFalse\u001b[0m\u001b[0;34m,\u001b[0m \u001b[0mvisualize\u001b[0m\u001b[0;34m=\u001b[0m\u001b[0;32mFalse\u001b[0m\u001b[0;34m,\u001b[0m \u001b[0membed\u001b[0m\u001b[0;34m=\u001b[0m\u001b[0;32mNone\u001b[0m\u001b[0;34m)\u001b[0m\u001b[0;34m:\u001b[0m\u001b[0;34m\u001b[0m\u001b[0;34m\u001b[0m\u001b[0m\n",
            "\u001b[0;32m/usr/local/lib/python3.10/dist-packages/ultralytics/nn/tasks.py\u001b[0m in \u001b[0;36m_predict_once\u001b[0;34m(self, x, profile, visualize, embed)\u001b[0m\n\u001b[1;32m    149\u001b[0m             \u001b[0;32mif\u001b[0m \u001b[0mprofile\u001b[0m\u001b[0;34m:\u001b[0m\u001b[0;34m\u001b[0m\u001b[0;34m\u001b[0m\u001b[0m\n\u001b[1;32m    150\u001b[0m                 \u001b[0mself\u001b[0m\u001b[0;34m.\u001b[0m\u001b[0m_profile_one_layer\u001b[0m\u001b[0;34m(\u001b[0m\u001b[0mm\u001b[0m\u001b[0;34m,\u001b[0m \u001b[0mx\u001b[0m\u001b[0;34m,\u001b[0m \u001b[0mdt\u001b[0m\u001b[0;34m)\u001b[0m\u001b[0;34m\u001b[0m\u001b[0;34m\u001b[0m\u001b[0m\n\u001b[0;32m--> 151\u001b[0;31m             \u001b[0mx\u001b[0m \u001b[0;34m=\u001b[0m \u001b[0mm\u001b[0m\u001b[0;34m(\u001b[0m\u001b[0mx\u001b[0m\u001b[0;34m)\u001b[0m  \u001b[0;31m# run\u001b[0m\u001b[0;34m\u001b[0m\u001b[0;34m\u001b[0m\u001b[0m\n\u001b[0m\u001b[1;32m    152\u001b[0m             \u001b[0my\u001b[0m\u001b[0;34m.\u001b[0m\u001b[0mappend\u001b[0m\u001b[0;34m(\u001b[0m\u001b[0mx\u001b[0m \u001b[0;32mif\u001b[0m \u001b[0mm\u001b[0m\u001b[0;34m.\u001b[0m\u001b[0mi\u001b[0m \u001b[0;32min\u001b[0m \u001b[0mself\u001b[0m\u001b[0;34m.\u001b[0m\u001b[0msave\u001b[0m \u001b[0;32melse\u001b[0m \u001b[0;32mNone\u001b[0m\u001b[0;34m)\u001b[0m  \u001b[0;31m# save output\u001b[0m\u001b[0;34m\u001b[0m\u001b[0;34m\u001b[0m\u001b[0m\n\u001b[1;32m    153\u001b[0m             \u001b[0;32mif\u001b[0m \u001b[0mvisualize\u001b[0m\u001b[0;34m:\u001b[0m\u001b[0;34m\u001b[0m\u001b[0;34m\u001b[0m\u001b[0m\n",
            "\u001b[0;32m/usr/local/lib/python3.10/dist-packages/torch/nn/modules/module.py\u001b[0m in \u001b[0;36m_wrapped_call_impl\u001b[0;34m(self, *args, **kwargs)\u001b[0m\n\u001b[1;32m   1734\u001b[0m             \u001b[0;32mreturn\u001b[0m \u001b[0mself\u001b[0m\u001b[0;34m.\u001b[0m\u001b[0m_compiled_call_impl\u001b[0m\u001b[0;34m(\u001b[0m\u001b[0;34m*\u001b[0m\u001b[0margs\u001b[0m\u001b[0;34m,\u001b[0m \u001b[0;34m**\u001b[0m\u001b[0mkwargs\u001b[0m\u001b[0;34m)\u001b[0m  \u001b[0;31m# type: ignore[misc]\u001b[0m\u001b[0;34m\u001b[0m\u001b[0;34m\u001b[0m\u001b[0m\n\u001b[1;32m   1735\u001b[0m         \u001b[0;32melse\u001b[0m\u001b[0;34m:\u001b[0m\u001b[0;34m\u001b[0m\u001b[0;34m\u001b[0m\u001b[0m\n\u001b[0;32m-> 1736\u001b[0;31m             \u001b[0;32mreturn\u001b[0m \u001b[0mself\u001b[0m\u001b[0;34m.\u001b[0m\u001b[0m_call_impl\u001b[0m\u001b[0;34m(\u001b[0m\u001b[0;34m*\u001b[0m\u001b[0margs\u001b[0m\u001b[0;34m,\u001b[0m \u001b[0;34m**\u001b[0m\u001b[0mkwargs\u001b[0m\u001b[0;34m)\u001b[0m\u001b[0;34m\u001b[0m\u001b[0;34m\u001b[0m\u001b[0m\n\u001b[0m\u001b[1;32m   1737\u001b[0m \u001b[0;34m\u001b[0m\u001b[0m\n\u001b[1;32m   1738\u001b[0m     \u001b[0;31m# torchrec tests the code consistency with the following code\u001b[0m\u001b[0;34m\u001b[0m\u001b[0;34m\u001b[0m\u001b[0m\n",
            "\u001b[0;32m/usr/local/lib/python3.10/dist-packages/torch/nn/modules/module.py\u001b[0m in \u001b[0;36m_call_impl\u001b[0;34m(self, *args, **kwargs)\u001b[0m\n\u001b[1;32m   1745\u001b[0m                 \u001b[0;32mor\u001b[0m \u001b[0m_global_backward_pre_hooks\u001b[0m \u001b[0;32mor\u001b[0m \u001b[0m_global_backward_hooks\u001b[0m\u001b[0;34m\u001b[0m\u001b[0;34m\u001b[0m\u001b[0m\n\u001b[1;32m   1746\u001b[0m                 or _global_forward_hooks or _global_forward_pre_hooks):\n\u001b[0;32m-> 1747\u001b[0;31m             \u001b[0;32mreturn\u001b[0m \u001b[0mforward_call\u001b[0m\u001b[0;34m(\u001b[0m\u001b[0;34m*\u001b[0m\u001b[0margs\u001b[0m\u001b[0;34m,\u001b[0m \u001b[0;34m**\u001b[0m\u001b[0mkwargs\u001b[0m\u001b[0;34m)\u001b[0m\u001b[0;34m\u001b[0m\u001b[0;34m\u001b[0m\u001b[0m\n\u001b[0m\u001b[1;32m   1748\u001b[0m \u001b[0;34m\u001b[0m\u001b[0m\n\u001b[1;32m   1749\u001b[0m         \u001b[0mresult\u001b[0m \u001b[0;34m=\u001b[0m \u001b[0;32mNone\u001b[0m\u001b[0;34m\u001b[0m\u001b[0;34m\u001b[0m\u001b[0m\n",
            "\u001b[0;32m/usr/local/lib/python3.10/dist-packages/ultralytics/nn/modules/block.py\u001b[0m in \u001b[0;36mforward\u001b[0;34m(self, x)\u001b[0m\n\u001b[1;32m    237\u001b[0m         \u001b[0my\u001b[0m \u001b[0;34m=\u001b[0m \u001b[0mlist\u001b[0m\u001b[0;34m(\u001b[0m\u001b[0mself\u001b[0m\u001b[0;34m.\u001b[0m\u001b[0mcv1\u001b[0m\u001b[0;34m(\u001b[0m\u001b[0mx\u001b[0m\u001b[0;34m)\u001b[0m\u001b[0;34m.\u001b[0m\u001b[0mchunk\u001b[0m\u001b[0;34m(\u001b[0m\u001b[0;36m2\u001b[0m\u001b[0;34m,\u001b[0m \u001b[0;36m1\u001b[0m\u001b[0;34m)\u001b[0m\u001b[0;34m)\u001b[0m\u001b[0;34m\u001b[0m\u001b[0;34m\u001b[0m\u001b[0m\n\u001b[1;32m    238\u001b[0m         \u001b[0my\u001b[0m\u001b[0;34m.\u001b[0m\u001b[0mextend\u001b[0m\u001b[0;34m(\u001b[0m\u001b[0mm\u001b[0m\u001b[0;34m(\u001b[0m\u001b[0my\u001b[0m\u001b[0;34m[\u001b[0m\u001b[0;34m-\u001b[0m\u001b[0;36m1\u001b[0m\u001b[0;34m]\u001b[0m\u001b[0;34m)\u001b[0m \u001b[0;32mfor\u001b[0m \u001b[0mm\u001b[0m \u001b[0;32min\u001b[0m \u001b[0mself\u001b[0m\u001b[0;34m.\u001b[0m\u001b[0mm\u001b[0m\u001b[0;34m)\u001b[0m\u001b[0;34m\u001b[0m\u001b[0;34m\u001b[0m\u001b[0m\n\u001b[0;32m--> 239\u001b[0;31m         \u001b[0;32mreturn\u001b[0m \u001b[0mself\u001b[0m\u001b[0;34m.\u001b[0m\u001b[0mcv2\u001b[0m\u001b[0;34m(\u001b[0m\u001b[0mtorch\u001b[0m\u001b[0;34m.\u001b[0m\u001b[0mcat\u001b[0m\u001b[0;34m(\u001b[0m\u001b[0my\u001b[0m\u001b[0;34m,\u001b[0m \u001b[0;36m1\u001b[0m\u001b[0;34m)\u001b[0m\u001b[0;34m)\u001b[0m\u001b[0;34m\u001b[0m\u001b[0;34m\u001b[0m\u001b[0m\n\u001b[0m\u001b[1;32m    240\u001b[0m \u001b[0;34m\u001b[0m\u001b[0m\n\u001b[1;32m    241\u001b[0m     \u001b[0;32mdef\u001b[0m \u001b[0mforward_split\u001b[0m\u001b[0;34m(\u001b[0m\u001b[0mself\u001b[0m\u001b[0;34m,\u001b[0m \u001b[0mx\u001b[0m\u001b[0;34m)\u001b[0m\u001b[0;34m:\u001b[0m\u001b[0;34m\u001b[0m\u001b[0;34m\u001b[0m\u001b[0m\n",
            "\u001b[0;32m/usr/local/lib/python3.10/dist-packages/torch/nn/modules/module.py\u001b[0m in \u001b[0;36m_wrapped_call_impl\u001b[0;34m(self, *args, **kwargs)\u001b[0m\n\u001b[1;32m   1734\u001b[0m             \u001b[0;32mreturn\u001b[0m \u001b[0mself\u001b[0m\u001b[0;34m.\u001b[0m\u001b[0m_compiled_call_impl\u001b[0m\u001b[0;34m(\u001b[0m\u001b[0;34m*\u001b[0m\u001b[0margs\u001b[0m\u001b[0;34m,\u001b[0m \u001b[0;34m**\u001b[0m\u001b[0mkwargs\u001b[0m\u001b[0;34m)\u001b[0m  \u001b[0;31m# type: ignore[misc]\u001b[0m\u001b[0;34m\u001b[0m\u001b[0;34m\u001b[0m\u001b[0m\n\u001b[1;32m   1735\u001b[0m         \u001b[0;32melse\u001b[0m\u001b[0;34m:\u001b[0m\u001b[0;34m\u001b[0m\u001b[0;34m\u001b[0m\u001b[0m\n\u001b[0;32m-> 1736\u001b[0;31m             \u001b[0;32mreturn\u001b[0m \u001b[0mself\u001b[0m\u001b[0;34m.\u001b[0m\u001b[0m_call_impl\u001b[0m\u001b[0;34m(\u001b[0m\u001b[0;34m*\u001b[0m\u001b[0margs\u001b[0m\u001b[0;34m,\u001b[0m \u001b[0;34m**\u001b[0m\u001b[0mkwargs\u001b[0m\u001b[0;34m)\u001b[0m\u001b[0;34m\u001b[0m\u001b[0;34m\u001b[0m\u001b[0m\n\u001b[0m\u001b[1;32m   1737\u001b[0m \u001b[0;34m\u001b[0m\u001b[0m\n\u001b[1;32m   1738\u001b[0m     \u001b[0;31m# torchrec tests the code consistency with the following code\u001b[0m\u001b[0;34m\u001b[0m\u001b[0;34m\u001b[0m\u001b[0m\n",
            "\u001b[0;32m/usr/local/lib/python3.10/dist-packages/torch/nn/modules/module.py\u001b[0m in \u001b[0;36m_call_impl\u001b[0;34m(self, *args, **kwargs)\u001b[0m\n\u001b[1;32m   1745\u001b[0m                 \u001b[0;32mor\u001b[0m \u001b[0m_global_backward_pre_hooks\u001b[0m \u001b[0;32mor\u001b[0m \u001b[0m_global_backward_hooks\u001b[0m\u001b[0;34m\u001b[0m\u001b[0;34m\u001b[0m\u001b[0m\n\u001b[1;32m   1746\u001b[0m                 or _global_forward_hooks or _global_forward_pre_hooks):\n\u001b[0;32m-> 1747\u001b[0;31m             \u001b[0;32mreturn\u001b[0m \u001b[0mforward_call\u001b[0m\u001b[0;34m(\u001b[0m\u001b[0;34m*\u001b[0m\u001b[0margs\u001b[0m\u001b[0;34m,\u001b[0m \u001b[0;34m**\u001b[0m\u001b[0mkwargs\u001b[0m\u001b[0;34m)\u001b[0m\u001b[0;34m\u001b[0m\u001b[0;34m\u001b[0m\u001b[0m\n\u001b[0m\u001b[1;32m   1748\u001b[0m \u001b[0;34m\u001b[0m\u001b[0m\n\u001b[1;32m   1749\u001b[0m         \u001b[0mresult\u001b[0m \u001b[0;34m=\u001b[0m \u001b[0;32mNone\u001b[0m\u001b[0;34m\u001b[0m\u001b[0;34m\u001b[0m\u001b[0m\n",
            "\u001b[0;32m/usr/local/lib/python3.10/dist-packages/ultralytics/nn/modules/conv.py\u001b[0m in \u001b[0;36mforward_fuse\u001b[0;34m(self, x)\u001b[0m\n\u001b[1;32m     52\u001b[0m     \u001b[0;32mdef\u001b[0m \u001b[0mforward_fuse\u001b[0m\u001b[0;34m(\u001b[0m\u001b[0mself\u001b[0m\u001b[0;34m,\u001b[0m \u001b[0mx\u001b[0m\u001b[0;34m)\u001b[0m\u001b[0;34m:\u001b[0m\u001b[0;34m\u001b[0m\u001b[0;34m\u001b[0m\u001b[0m\n\u001b[1;32m     53\u001b[0m         \u001b[0;34m\"\"\"Apply convolution and activation without batch normalization.\"\"\"\u001b[0m\u001b[0;34m\u001b[0m\u001b[0;34m\u001b[0m\u001b[0m\n\u001b[0;32m---> 54\u001b[0;31m         \u001b[0;32mreturn\u001b[0m \u001b[0mself\u001b[0m\u001b[0;34m.\u001b[0m\u001b[0mact\u001b[0m\u001b[0;34m(\u001b[0m\u001b[0mself\u001b[0m\u001b[0;34m.\u001b[0m\u001b[0mconv\u001b[0m\u001b[0;34m(\u001b[0m\u001b[0mx\u001b[0m\u001b[0;34m)\u001b[0m\u001b[0;34m)\u001b[0m\u001b[0;34m\u001b[0m\u001b[0;34m\u001b[0m\u001b[0m\n\u001b[0m\u001b[1;32m     55\u001b[0m \u001b[0;34m\u001b[0m\u001b[0m\n\u001b[1;32m     56\u001b[0m \u001b[0;34m\u001b[0m\u001b[0m\n",
            "\u001b[0;32m/usr/local/lib/python3.10/dist-packages/torch/nn/modules/module.py\u001b[0m in \u001b[0;36m_wrapped_call_impl\u001b[0;34m(self, *args, **kwargs)\u001b[0m\n\u001b[1;32m   1734\u001b[0m             \u001b[0;32mreturn\u001b[0m \u001b[0mself\u001b[0m\u001b[0;34m.\u001b[0m\u001b[0m_compiled_call_impl\u001b[0m\u001b[0;34m(\u001b[0m\u001b[0;34m*\u001b[0m\u001b[0margs\u001b[0m\u001b[0;34m,\u001b[0m \u001b[0;34m**\u001b[0m\u001b[0mkwargs\u001b[0m\u001b[0;34m)\u001b[0m  \u001b[0;31m# type: ignore[misc]\u001b[0m\u001b[0;34m\u001b[0m\u001b[0;34m\u001b[0m\u001b[0m\n\u001b[1;32m   1735\u001b[0m         \u001b[0;32melse\u001b[0m\u001b[0;34m:\u001b[0m\u001b[0;34m\u001b[0m\u001b[0;34m\u001b[0m\u001b[0m\n\u001b[0;32m-> 1736\u001b[0;31m             \u001b[0;32mreturn\u001b[0m \u001b[0mself\u001b[0m\u001b[0;34m.\u001b[0m\u001b[0m_call_impl\u001b[0m\u001b[0;34m(\u001b[0m\u001b[0;34m*\u001b[0m\u001b[0margs\u001b[0m\u001b[0;34m,\u001b[0m \u001b[0;34m**\u001b[0m\u001b[0mkwargs\u001b[0m\u001b[0;34m)\u001b[0m\u001b[0;34m\u001b[0m\u001b[0;34m\u001b[0m\u001b[0m\n\u001b[0m\u001b[1;32m   1737\u001b[0m \u001b[0;34m\u001b[0m\u001b[0m\n\u001b[1;32m   1738\u001b[0m     \u001b[0;31m# torchrec tests the code consistency with the following code\u001b[0m\u001b[0;34m\u001b[0m\u001b[0;34m\u001b[0m\u001b[0m\n",
            "\u001b[0;32m/usr/local/lib/python3.10/dist-packages/torch/nn/modules/module.py\u001b[0m in \u001b[0;36m_call_impl\u001b[0;34m(self, *args, **kwargs)\u001b[0m\n\u001b[1;32m   1745\u001b[0m                 \u001b[0;32mor\u001b[0m \u001b[0m_global_backward_pre_hooks\u001b[0m \u001b[0;32mor\u001b[0m \u001b[0m_global_backward_hooks\u001b[0m\u001b[0;34m\u001b[0m\u001b[0;34m\u001b[0m\u001b[0m\n\u001b[1;32m   1746\u001b[0m                 or _global_forward_hooks or _global_forward_pre_hooks):\n\u001b[0;32m-> 1747\u001b[0;31m             \u001b[0;32mreturn\u001b[0m \u001b[0mforward_call\u001b[0m\u001b[0;34m(\u001b[0m\u001b[0;34m*\u001b[0m\u001b[0margs\u001b[0m\u001b[0;34m,\u001b[0m \u001b[0;34m**\u001b[0m\u001b[0mkwargs\u001b[0m\u001b[0;34m)\u001b[0m\u001b[0;34m\u001b[0m\u001b[0;34m\u001b[0m\u001b[0m\n\u001b[0m\u001b[1;32m   1748\u001b[0m \u001b[0;34m\u001b[0m\u001b[0m\n\u001b[1;32m   1749\u001b[0m         \u001b[0mresult\u001b[0m \u001b[0;34m=\u001b[0m \u001b[0;32mNone\u001b[0m\u001b[0;34m\u001b[0m\u001b[0;34m\u001b[0m\u001b[0m\n",
            "\u001b[0;32m/usr/local/lib/python3.10/dist-packages/torch/nn/modules/conv.py\u001b[0m in \u001b[0;36mforward\u001b[0;34m(self, input)\u001b[0m\n\u001b[1;32m    552\u001b[0m \u001b[0;34m\u001b[0m\u001b[0m\n\u001b[1;32m    553\u001b[0m     \u001b[0;32mdef\u001b[0m \u001b[0mforward\u001b[0m\u001b[0;34m(\u001b[0m\u001b[0mself\u001b[0m\u001b[0;34m,\u001b[0m \u001b[0minput\u001b[0m\u001b[0;34m:\u001b[0m \u001b[0mTensor\u001b[0m\u001b[0;34m)\u001b[0m \u001b[0;34m->\u001b[0m \u001b[0mTensor\u001b[0m\u001b[0;34m:\u001b[0m\u001b[0;34m\u001b[0m\u001b[0;34m\u001b[0m\u001b[0m\n\u001b[0;32m--> 554\u001b[0;31m         \u001b[0;32mreturn\u001b[0m \u001b[0mself\u001b[0m\u001b[0;34m.\u001b[0m\u001b[0m_conv_forward\u001b[0m\u001b[0;34m(\u001b[0m\u001b[0minput\u001b[0m\u001b[0;34m,\u001b[0m \u001b[0mself\u001b[0m\u001b[0;34m.\u001b[0m\u001b[0mweight\u001b[0m\u001b[0;34m,\u001b[0m \u001b[0mself\u001b[0m\u001b[0;34m.\u001b[0m\u001b[0mbias\u001b[0m\u001b[0;34m)\u001b[0m\u001b[0;34m\u001b[0m\u001b[0;34m\u001b[0m\u001b[0m\n\u001b[0m\u001b[1;32m    555\u001b[0m \u001b[0;34m\u001b[0m\u001b[0m\n\u001b[1;32m    556\u001b[0m \u001b[0;34m\u001b[0m\u001b[0m\n",
            "\u001b[0;32m/usr/local/lib/python3.10/dist-packages/torch/nn/modules/conv.py\u001b[0m in \u001b[0;36m_conv_forward\u001b[0;34m(self, input, weight, bias)\u001b[0m\n\u001b[1;32m    547\u001b[0m                 \u001b[0mself\u001b[0m\u001b[0;34m.\u001b[0m\u001b[0mgroups\u001b[0m\u001b[0;34m,\u001b[0m\u001b[0;34m\u001b[0m\u001b[0;34m\u001b[0m\u001b[0m\n\u001b[1;32m    548\u001b[0m             )\n\u001b[0;32m--> 549\u001b[0;31m         return F.conv2d(\n\u001b[0m\u001b[1;32m    550\u001b[0m             \u001b[0minput\u001b[0m\u001b[0;34m,\u001b[0m \u001b[0mweight\u001b[0m\u001b[0;34m,\u001b[0m \u001b[0mbias\u001b[0m\u001b[0;34m,\u001b[0m \u001b[0mself\u001b[0m\u001b[0;34m.\u001b[0m\u001b[0mstride\u001b[0m\u001b[0;34m,\u001b[0m \u001b[0mself\u001b[0m\u001b[0;34m.\u001b[0m\u001b[0mpadding\u001b[0m\u001b[0;34m,\u001b[0m \u001b[0mself\u001b[0m\u001b[0;34m.\u001b[0m\u001b[0mdilation\u001b[0m\u001b[0;34m,\u001b[0m \u001b[0mself\u001b[0m\u001b[0;34m.\u001b[0m\u001b[0mgroups\u001b[0m\u001b[0;34m\u001b[0m\u001b[0;34m\u001b[0m\u001b[0m\n\u001b[1;32m    551\u001b[0m         )\n",
            "\u001b[0;31mKeyboardInterrupt\u001b[0m: "
          ]
        }
      ]
    },
    {
      "cell_type": "code",
      "source": [
        "import os\n",
        "import cv2\n",
        "import random\n",
        "from pathlib import Path\n",
        "from ultralytics import YOLO\n",
        "\n",
        "# Load your trained YOLOv8 model\n",
        "model_path = '/content/drive/MyDrive/drowsiness_detection/kaggle/yolov8_training/drowsiness_detection9/weights/best.pt'\n",
        "model = YOLO(model_path)\n",
        "\n",
        "# Define paths\n",
        "test_images_dir = \"/content/drive/MyDrive/drowsiness_detection/kaggle/test/images\"\n",
        "output_visualizations_dir = \"/content/detection_visualizations\"\n",
        "os.makedirs(output_visualizations_dir, exist_ok=True)\n",
        "\n",
        "# Evaluate the model to get overall metrics\n",
        "results = model.val(data=\"/content/drive/MyDrive/drowsiness_detection/kaggle/dataset.yaml\", split=\"val\")\n",
        "\n",
        "# Extract overall metrics\n",
        "precision = results.box.maps['precision']\n",
        "recall = results.box.maps['recall']\n",
        "map50 = results.box.maps[0]\n",
        "map5095 = results.box.maps.mean()\n",
        "\n",
        "# Format the metrics as a string for overlay\n",
        "metrics_text = (f\"Precision: {precision:.3f}, Recall: {recall:.3f}, \"\n",
        "                f\"mAP@50: {map50:.3f}, mAP@50-95: {map5095:.3f}\")\n",
        "\n",
        "# Select 20 random test images\n",
        "image_files = list(Path(test_images_dir).glob(\"*.jpg\"))\n",
        "selected_images = random.sample(image_files, min(20, len(image_files)))\n",
        "\n",
        "# Loop through the selected images\n",
        "for img_path in selected_images:\n",
        "    img_path = str(img_path)\n",
        "    img = cv2.imread(img_path)\n",
        "\n",
        "    # Get predictions\n",
        "    preds = model.predict(source=img_path, conf=0.25, save=False)\n",
        "    detections = preds[0].boxes\n",
        "\n",
        "    # Draw predictions on the image\n",
        "    for box in detections:\n",
        "        x_min, y_min, x_max, y_max = map(int, box.xyxy[0].tolist())\n",
        "        confidence = box.conf[0]\n",
        "        class_id = int(box.cls[0])\n",
        "        label = model.names[class_id]\n",
        "\n",
        "        # Draw the bounding box and label\n",
        "        cv2.rectangle(img, (x_min, y_min), (x_max, y_max), (0, 255, 0), 2)\n",
        "        cv2.putText(img, f\"{label} ({confidence:.2f})\", (x_min, y_min - 10),\n",
        "                    cv2.FONT_HERSHEY_SIMPLEX, 0.5, (0, 255, 0), 1)\n",
        "\n",
        "    # Overlay the overall metrics on the image\n",
        "    y_start = 30  # Starting y-coordinate for text\n",
        "    for line in metrics_text.split(\", \"):\n",
        "        cv2.putText(img, line, (10, y_start), cv2.FONT_HERSHEY_SIMPLEX, 0.6, (0, 255, 255), 2)\n",
        "        y_start += 20\n",
        "\n",
        "    # Save the visualized image\n",
        "    output_path = f\"{output_visualizations_dir}/{Path(img_path).name}\"\n",
        "    cv2.imwrite(output_path, img)\n",
        "    print(f\"Saved visualization: {output_path}\")\n"
      ],
      "metadata": {
        "colab": {
          "base_uri": "https://localhost:8080/",
          "height": 404
        },
        "id": "gx733XZrYhhp",
        "outputId": "8cc69184-115b-4a46-b5d1-14f138881cc7"
      },
      "execution_count": null,
      "outputs": [
        {
          "output_type": "stream",
          "name": "stdout",
          "text": [
            "Ultralytics 8.3.40 🚀 Python-3.10.12 torch-2.5.1+cu121 CPU (Intel Xeon 2.20GHz)\n",
            "Model summary (fused): 168 layers, 3,006,038 parameters, 0 gradients, 8.1 GFLOPs\n"
          ]
        },
        {
          "output_type": "stream",
          "name": "stderr",
          "text": [
            "\u001b[34m\u001b[1mval: \u001b[0mScanning /content/drive/MyDrive/drowsiness_detection/kaggle/test/labels.cache... 296 images, 4 backgrounds, 0 corrupt: 100%|██████████| 300/300 [00:00<?, ?it/s]\n",
            "                 Class     Images  Instances      Box(P          R      mAP50  mAP50-95): 100%|██████████| 19/19 [02:03<00:00,  6.51s/it]\n"
          ]
        },
        {
          "output_type": "stream",
          "name": "stdout",
          "text": [
            "                   all        300        296      0.982          1      0.993      0.993\n",
            "                drowsy        142        142       0.97          1      0.991      0.991\n",
            "            non_drowsy        154        154      0.993          1      0.995      0.995\n",
            "Speed: 7.5ms preprocess, 378.5ms inference, 0.0ms loss, 1.5ms postprocess per image\n",
            "Results saved to \u001b[1mruns/detect/val3\u001b[0m\n"
          ]
        },
        {
          "output_type": "error",
          "ename": "IndexError",
          "evalue": "only integers, slices (`:`), ellipsis (`...`), numpy.newaxis (`None`) and integer or boolean arrays are valid indices",
          "traceback": [
            "\u001b[0;31m---------------------------------------------------------------------------\u001b[0m",
            "\u001b[0;31mIndexError\u001b[0m                                Traceback (most recent call last)",
            "\u001b[0;32m<ipython-input-10-83d9ba79458e>\u001b[0m in \u001b[0;36m<cell line: 20>\u001b[0;34m()\u001b[0m\n\u001b[1;32m     18\u001b[0m \u001b[0;34m\u001b[0m\u001b[0m\n\u001b[1;32m     19\u001b[0m \u001b[0;31m# Extract overall metrics\u001b[0m\u001b[0;34m\u001b[0m\u001b[0;34m\u001b[0m\u001b[0m\n\u001b[0;32m---> 20\u001b[0;31m \u001b[0mprecision\u001b[0m \u001b[0;34m=\u001b[0m \u001b[0mresults\u001b[0m\u001b[0;34m.\u001b[0m\u001b[0mbox\u001b[0m\u001b[0;34m.\u001b[0m\u001b[0mmaps\u001b[0m\u001b[0;34m[\u001b[0m\u001b[0;34m'precision'\u001b[0m\u001b[0;34m]\u001b[0m\u001b[0;34m\u001b[0m\u001b[0;34m\u001b[0m\u001b[0m\n\u001b[0m\u001b[1;32m     21\u001b[0m \u001b[0mrecall\u001b[0m \u001b[0;34m=\u001b[0m \u001b[0mresults\u001b[0m\u001b[0;34m.\u001b[0m\u001b[0mbox\u001b[0m\u001b[0;34m.\u001b[0m\u001b[0mmaps\u001b[0m\u001b[0;34m[\u001b[0m\u001b[0;34m'recall'\u001b[0m\u001b[0;34m]\u001b[0m\u001b[0;34m\u001b[0m\u001b[0;34m\u001b[0m\u001b[0m\n\u001b[1;32m     22\u001b[0m \u001b[0mmap50\u001b[0m \u001b[0;34m=\u001b[0m \u001b[0mresults\u001b[0m\u001b[0;34m.\u001b[0m\u001b[0mbox\u001b[0m\u001b[0;34m.\u001b[0m\u001b[0mmaps\u001b[0m\u001b[0;34m[\u001b[0m\u001b[0;36m0\u001b[0m\u001b[0;34m]\u001b[0m\u001b[0;34m\u001b[0m\u001b[0;34m\u001b[0m\u001b[0m\n",
            "\u001b[0;31mIndexError\u001b[0m: only integers, slices (`:`), ellipsis (`...`), numpy.newaxis (`None`) and integer or boolean arrays are valid indices"
          ]
        }
      ]
    },
    {
      "cell_type": "code",
      "source": [
        "import os\n",
        "import cv2\n",
        "import random\n",
        "from pathlib import Path\n",
        "from ultralytics import YOLO\n",
        "\n",
        "# Load your trained YOLOv8 model\n",
        "model_path = '/content/drive/MyDrive/drowsiness_detection/kaggle/yolov8_training/drowsiness_detection9/weights/best.pt'\n",
        "model = YOLO(model_path)\n",
        "\n",
        "# Define paths\n",
        "test_images_dir = \"/content/drive/MyDrive/drowsiness_detection/kaggle/test/images\"\n",
        "output_visualizations_dir = \"/content/detection_visualizations\"\n",
        "os.makedirs(output_visualizations_dir, exist_ok=True)\n",
        "\n",
        "# Evaluate the model to get metrics\n",
        "results = model.val(data=\"/content/drive/MyDrive/drowsiness_detection/kaggle/dataset.yaml\", split=\"val\")\n",
        "\n",
        "# Extract overall metrics\n",
        "metrics_summary = results.results_dict  # Get metrics summary as a dictionary\n",
        "precision = metrics_summary['metrics/precision(B)']  # Precision\n",
        "recall = metrics_summary['metrics/recall(B)']        # Recall\n",
        "map50 = metrics_summary['metrics/mAP50(B)']          # mAP@50\n",
        "map5095 = metrics_summary['metrics/mAP50-95(B)']     # mAP@50-95\n",
        "\n",
        "# Format the metrics as a string for overlay\n",
        "metrics_text = (f\"Precision: {precision:.3f}, Recall: {recall:.3f}, \"\n",
        "                f\"mAP@50: {map50:.3f}, mAP@50-95: {map5095:.3f}\")\n",
        "\n",
        "# Select 20 random test images\n",
        "image_files = list(Path(test_images_dir).glob(\"*.jpg\"))\n",
        "selected_images = random.sample(image_files, min(20, len(image_files)))\n",
        "\n",
        "# Loop through the selected images\n",
        "for img_path in selected_images:\n",
        "    img_path = str(img_path)\n",
        "    img = cv2.imread(img_path)\n",
        "\n",
        "    # Get predictions\n",
        "    preds = model.predict(source=img_path, conf=0.25, save=False)\n",
        "    detections = preds[0].boxes\n",
        "\n",
        "    # Draw predictions on the image\n",
        "    for box in detections:\n",
        "        x_min, y_min, x_max, y_max = map(int, box.xyxy[0].tolist())\n",
        "        confidence = box.conf[0]\n",
        "        class_id = int(box.cls[0])\n",
        "        label = model.names[class_id]\n",
        "\n",
        "        # Draw the bounding box and label\n",
        "        cv2.rectangle(img, (x_min, y_min), (x_max, y_max), (0, 255, 0), 2)\n",
        "        cv2.putText(img, f\"{label} ({confidence:.2f})\", (x_min, y_min - 10),\n",
        "                    cv2.FONT_HERSHEY_SIMPLEX, 0.5, (0, 255, 0), 1)\n",
        "\n",
        "    # Overlay the overall metrics on the image\n",
        "    y_start = 30  # Starting y-coordinate for text\n",
        "    for line in metrics_text.split(\", \"):\n",
        "        cv2.putText(img, line, (10, y_start), cv2.FONT_HERSHEY_SIMPLEX, 0.6, (0, 255, 255), 2)\n",
        "        y_start += 20\n",
        "\n",
        "    # Save the visualized image\n",
        "    output_path = f\"{output_visualizations_dir}/{Path(img_path).name}\"\n",
        "    cv2.imwrite(output_path, img)\n",
        "    print(f\"Saved visualization: {output_path}\")\n"
      ],
      "metadata": {
        "colab": {
          "base_uri": "https://localhost:8080/"
        },
        "id": "t6QhNtYTacnE",
        "outputId": "475be395-2988-4754-cd29-e6229f5d77e9"
      },
      "execution_count": null,
      "outputs": [
        {
          "output_type": "stream",
          "name": "stdout",
          "text": [
            "Ultralytics 8.3.40 🚀 Python-3.10.12 torch-2.5.1+cu121 CPU (Intel Xeon 2.20GHz)\n",
            "Model summary (fused): 168 layers, 3,006,038 parameters, 0 gradients, 8.1 GFLOPs\n",
            "Downloading https://ultralytics.com/assets/Arial.ttf to '/root/.config/Ultralytics/Arial.ttf'...\n"
          ]
        },
        {
          "output_type": "stream",
          "name": "stderr",
          "text": [
            "100%|██████████| 755k/755k [00:00<00:00, 61.4MB/s]\n",
            "\u001b[34m\u001b[1mval: \u001b[0mScanning /content/drive/MyDrive/drowsiness_detection/kaggle/test/labels.cache... 296 images, 4 backgrounds, 0 corrupt: 100%|██████████| 300/300 [00:00<?, ?it/s]\n",
            "                 Class     Images  Instances      Box(P          R      mAP50  mAP50-95): 100%|██████████| 19/19 [01:48<00:00,  5.69s/it]\n"
          ]
        },
        {
          "output_type": "stream",
          "name": "stdout",
          "text": [
            "                   all        300        296      0.982          1      0.993      0.993\n",
            "                drowsy        142        142       0.97          1      0.991      0.991\n",
            "            non_drowsy        154        154      0.993          1      0.995      0.995\n",
            "Speed: 8.3ms preprocess, 321.7ms inference, 0.0ms loss, 0.6ms postprocess per image\n",
            "Results saved to \u001b[1mruns/detect/val\u001b[0m\n"
          ]
        }
      ]
    },
    {
      "cell_type": "code",
      "source": [
        "import os\n",
        "import random\n",
        "from pathlib import Path\n",
        "import cv2\n",
        "import matplotlib.pyplot as plt\n",
        "from ultralytics import YOLO\n",
        "\n",
        "# Load your trained YOLOv8 model\n",
        "model_path = '/content/drive/MyDrive/drowsiness_detection/kaggle/yolov8_training/drowsiness_detection9/weights/best.pt'\n",
        "model = YOLO(model_path)\n",
        "\n",
        "# Define test image directory\n",
        "test_images_dir = \"/content/drive/MyDrive/drowsiness_detection/kaggle/test/images\"\n",
        "\n",
        "# Select 20 random test images\n",
        "image_files = list(Path(test_images_dir).glob(\"*.jpg\"))\n",
        "selected_images = random.sample(image_files, min(20, len(image_files)))\n",
        "\n",
        "# Loop through the selected images and visualize results\n",
        "for img_path in selected_images:\n",
        "    img_path = str(img_path)\n",
        "    img = cv2.imread(img_path)\n",
        "    img_rgb = cv2.cvtColor(img, cv2.COLOR_BGR2RGB)  # Convert BGR to RGB for matplotlib\n",
        "\n",
        "    # Get predictions\n",
        "    preds = model.predict(source=img_path, conf=0.25, save=False)\n",
        "    detections = preds[0].boxes\n",
        "\n",
        "    # Draw predictions on the image\n",
        "    for box in detections:\n",
        "        x_min, y_min, x_max, y_max = map(int, box.xyxy[0].tolist())\n",
        "        confidence = box.conf[0]\n",
        "        class_id = int(box.cls[0])\n",
        "        label = model.names[class_id]\n",
        "\n",
        "        # Draw the bounding box and label\n",
        "        color = (0, 255, 0) if label == \"non_drowsy\" else (0, 0, 255)  # Green for non-drowsy, red for drowsy\n",
        "        cv2.rectangle(img_rgb, (x_min, y_min), (x_max, y_max), color, 2)\n",
        "        cv2.putText(img_rgb, f\"{label} ({confidence:.2f})\", (x_min, y_min - 10),\n",
        "                    cv2.FONT_HERSHEY_SIMPLEX, 0.5, color, 1)\n",
        "\n",
        "    # Show the image with detections\n",
        "    plt.figure(figsize=(8, 8))\n",
        "    plt.imshow(img_rgb)\n",
        "    plt.title(f\"Detections for {Path(img_path).name}\")\n",
        "    plt.axis(\"off\")\n",
        "    plt.show()\n"
      ],
      "metadata": {
        "id": "UAXoTnOZjiSC"
      },
      "execution_count": null,
      "outputs": []
    },
    {
      "cell_type": "code",
      "source": [
        "import os\n",
        "import random\n",
        "from pathlib import Path\n",
        "import cv2\n",
        "from ultralytics import YOLO\n",
        "\n",
        "# Load your trained YOLOv8 model\n",
        "model_path = '/content/drive/MyDrive/drowsiness_detection/kaggle/yolov8_training/drowsiness_detection9/weights/best.pt'\n",
        "\n",
        "# Check if the model file exists\n",
        "if not os.path.exists(model_path):\n",
        "    print(f\"Error: Model file not found at {model_path}\")\n",
        "    exit()\n",
        "\n",
        "model = YOLO(model_path)\n",
        "print(\"Model loaded successfully.\")\n",
        "\n",
        "# Define paths\n",
        "test_images_dir = \"/content/drive/MyDrive/drowsiness_detection/kaggle/test/images\"\n",
        "\n",
        "# Check if test directory exists\n",
        "if not os.path.exists(test_images_dir):\n",
        "    print(f\"Error: Test images directory not found at {test_images_dir}\")\n",
        "    exit()\n",
        "\n",
        "# Select 20 random test images\n",
        "image_files = list(Path(test_images_dir).glob(\"*.jpg\"))\n",
        "if len(image_files) == 0:\n",
        "    print(\"No images found in the test directory.\")\n",
        "    exit()\n",
        "\n",
        "selected_images = random.sample(image_files, min(20, len(image_files)))\n",
        "print(f\"Selected {len(selected_images)} images for testing.\")\n",
        "\n",
        "# Loop through the selected images and make predictions\n",
        "for img_path in selected_images:\n",
        "    img_path = str(img_path)\n",
        "    img = cv2.imread(img_path)\n",
        "\n",
        "    # Check if the image was loaded correctly\n",
        "    if img is None:\n",
        "        print(f\"Error: Unable to load image {img_path}\")\n",
        "        continue\n",
        "\n",
        "    # Get predictions\n",
        "    preds = model.predict(source=img_path, conf=0.25, save=False)\n",
        "\n",
        "    # Check if predictions are valid\n",
        "    if preds is None or len(preds) == 0:\n",
        "        print(f\"No predictions for image: {img_path}\")\n",
        "        continue\n",
        "\n",
        "    detections = preds[0].boxes\n",
        "\n",
        "    # Prepare the list to store labels for each image\n",
        "    detected_labels = []\n",
        "\n",
        "    # Check detections and store labels for \"drowsy\" and \"non_drowsy\"\n",
        "    for box in detections:\n",
        "        class_id = int(box.cls[0])\n",
        "        label = model.names[class_id]\n",
        "\n",
        "        # Only store labels for \"drowsy\" and \"non_drowsy\"\n",
        "        if label in [\"drowsy\", \"non_drowsy\"]:\n",
        "            detected_labels.append(label)\n",
        "\n",
        "    # Print the detected labels for the current image\n",
        "    if detected_labels:\n",
        "        print(f\"Image: {img_path} -> Detected Labels: {', '.join(detected_labels)}\")\n",
        "    else:\n",
        "        print(f\"Image: {img_path} -> No Drowsy/Non-Drowsy Detected\")\n"
      ],
      "metadata": {
        "id": "lyMQiKwzrIAP",
        "colab": {
          "base_uri": "https://localhost:8080/"
        },
        "outputId": "835e6427-c896-4355-cf52-a4fc3396e546"
      },
      "execution_count": null,
      "outputs": [
        {
          "output_type": "stream",
          "name": "stdout",
          "text": [
            "Model loaded successfully.\n",
            "No images found in the test directory.\n",
            "Selected 0 images for testing.\n"
          ]
        }
      ]
    }
  ]
}